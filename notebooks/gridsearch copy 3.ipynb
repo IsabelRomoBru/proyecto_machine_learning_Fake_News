{
 "cells": [
  {
   "cell_type": "code",
   "execution_count": 1,
   "metadata": {},
   "outputs": [],
   "source": [
    "# Importaciones necesarias\n",
    "import numpy as np\n",
    "import pandas as pd\n",
    "from sklearn.model_selection import train_test_split, GridSearchCV\n",
    "from sklearn.preprocessing import LabelEncoder\n",
    "from sklearn.feature_extraction.text import TfidfVectorizer\n",
    "from scipy.sparse import csr_matrix, hstack\n",
    "from xgboost import XGBClassifier\n",
    "from sklearn.ensemble import RandomForestClassifier, GradientBoostingClassifier\n"
   ]
  },
  {
   "cell_type": "code",
   "execution_count": 2,
   "metadata": {},
   "outputs": [],
   "source": [
    "df= pd.read_csv(\"/Users/isaromobru/Desktop/FakeNews 10.57.24/proyecto_machine_learning_Fake_News/data/processed/archivo.csv\")"
   ]
  },
  {
   "cell_type": "code",
   "execution_count": 3,
   "metadata": {},
   "outputs": [],
   "source": [
    "le = LabelEncoder()\n",
    "df['subject_encoded'] = le.fit_transform(df['subject_grouped'])\n"
   ]
  },
  {
   "cell_type": "code",
   "execution_count": 4,
   "metadata": {},
   "outputs": [],
   "source": [
    "from scipy.sparse import csr_matrix, hstack\n",
    "# Asegurar que no haya valores nulos\n",
    "df['text'] = df['text'].fillna(\"\")\n",
    "df['title'] = df['title'].fillna(\"\")\n",
    "\n",
    "# Vectorización con TF-IDF (manteniendo sparse matrices)\n",
    "tfidf_text = TfidfVectorizer(max_features=5000, stop_words='english')\n",
    "tfidf_title = TfidfVectorizer(max_features=1000, stop_words='english')\n",
    "\n",
    "X_text = tfidf_text.fit_transform(df['text'])\n",
    "X_title = tfidf_title.fit_transform(df['title'])\n",
    "\n",
    "# Variables numéricas (convertidas a matriz dispersa)\n",
    "X_other_features = csr_matrix(df[['subject_encoded', 'title_length', 'title_word_count']].values)\n",
    "\n",
    "# Concatenar matrices dispersas sin convertirlas a DataFrame\n",
    "X_final = hstack([X_other_features, X_text, X_title])\n",
    "\n",
    "# Variable objetivo\n",
    "y = df['label']"
   ]
  },
  {
   "cell_type": "code",
   "execution_count": 5,
   "metadata": {},
   "outputs": [
    {
     "data": {
      "text/plain": [
       "((35751, 6003), (8938, 6003), (35751,), (8938,))"
      ]
     },
     "execution_count": 5,
     "metadata": {},
     "output_type": "execute_result"
    }
   ],
   "source": [
    "\n",
    "# Dividir en Train/Test\n",
    "X_train, X_test, y_train, y_test = train_test_split(X_final, y, test_size=0.2, random_state=42, stratify=y)\n",
    "\n",
    "# Mostrar tamaños de los conjuntos\n",
    "X_train.shape, X_test.shape, y_train.shape, y_test.shape"
   ]
  },
  {
   "cell_type": "code",
   "execution_count": 9,
   "metadata": {},
   "outputs": [],
   "source": [
    "# Definir los hiperparámetros a probar\n",
    "param_grid_xgb = {\n",
    "    \"n_estimators\": [100, 200],\n",
    "    \"max_depth\": [3, 5, 7],\n",
    "    \"learning_rate\": [0.01, 0.1, 0.2],\n",
    "    \"subsample\": [0.7, 0.8, 1.0]\n",
    "}\n",
    "\n",
    "param_grid_rf = {\n",
    "    \"n_estimators\": [100, 200],\n",
    "    \"max_depth\": [None, 10, 20],\n",
    "    \"min_samples_split\": [2, 5, 10],\n",
    "    \"min_samples_leaf\": [1, 2, 4]\n",
    "}\n",
    "\n",
    "param_grid_gb = {\n",
    "    \"n_estimators\": [100, 200],\n",
    "    \"learning_rate\": [0.01, 0.1, 0.2],\n",
    "    \"max_depth\": [3, 5, 7],\n",
    "    \"subsample\": [0.7, 0.8, 1.0]\n",
    "}\n",
    "\n",
    "# Inicializar modelos\n",
    "xgb = XGBClassifier( eval_metric=\"logloss\")\n",
    "rf = RandomForestClassifier(random_state=42)\n",
    "gb = GradientBoostingClassifier(random_state=42)\n",
    "\n",
    "# Configurar GridSearch para cada modelo\n",
    "grid_xgb = GridSearchCV(xgb, param_grid_xgb, cv=3, scoring=\"accuracy\", n_jobs=4, verbose=1)\n",
    "grid_rf = GridSearchCV(rf, param_grid_rf, cv=3, scoring=\"accuracy\", n_jobs=4, verbose=1)\n",
    "grid_gb = GridSearchCV(gb, param_grid_gb, cv=3, scoring=\"accuracy\", n_jobs=4, verbose=1)\n"
   ]
  },
  {
   "cell_type": "code",
   "execution_count": 10,
   "metadata": {},
   "outputs": [
    {
     "name": "stdout",
     "output_type": "stream",
     "text": [
      "🔍 Optimizando XGBoost...\n",
      "Fitting 3 folds for each of 54 candidates, totalling 162 fits\n"
     ]
    },
    {
     "name": "stdout",
     "output_type": "stream",
     "text": [
      "✅ Mejor precisión XGBoost: 0.9977063578641158\n",
      "📌 Mejores parámetros XGBoost: {'learning_rate': 0.2, 'max_depth': 3, 'n_estimators': 200, 'subsample': 1.0}\n",
      "\n",
      "🔍 Optimizando Random Forest...\n",
      "Fitting 3 folds for each of 54 candidates, totalling 162 fits\n"
     ]
    }
   ],
   "source": [
    "# Ejecutar GridSearch para cada modelo\n",
    "print(\"🔍 Optimizando XGBoost...\")\n",
    "grid_xgb.fit(X_train, y_train)\n",
    "print(f\"✅ Mejor precisión XGBoost: {grid_xgb.best_score_}\")\n",
    "print(f\"📌 Mejores parámetros XGBoost: {grid_xgb.best_params_}\")\n",
    "\n",
    "print(\"\\n🔍 Optimizando Random Forest...\")\n",
    "grid_rf.fit(X_train, y_train)\n",
    "print(f\"✅ Mejor precisión Random Forest: {grid_rf.best_score_}\")\n",
    "print(f\"📌 Mejores parámetros Random Forest: {grid_rf.best_params_}\")\n",
    "\n",
    "print(\"\\n🔍 Optimizando Gradient Boosting...\")\n",
    "grid_gb.fit(X_train, y_train)\n",
    "print(f\"✅ Mejor precisión Gradient Boosting: {grid_gb.best_score_}\")\n",
    "print(f\"📌 Mejores parámetros Gradient Boosting: {grid_gb.best_params_}\")\n"
   ]
  }
 ],
 "metadata": {
  "kernelspec": {
   "display_name": ".venv",
   "language": "python",
   "name": "python3"
  },
  "language_info": {
   "codemirror_mode": {
    "name": "ipython",
    "version": 3
   },
   "file_extension": ".py",
   "mimetype": "text/x-python",
   "name": "python",
   "nbconvert_exporter": "python",
   "pygments_lexer": "ipython3",
   "version": "3.11.7"
  }
 },
 "nbformat": 4,
 "nbformat_minor": 2
}
