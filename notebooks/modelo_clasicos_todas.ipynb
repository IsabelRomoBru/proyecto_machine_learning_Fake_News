{
 "cells": [
  {
   "cell_type": "markdown",
   "metadata": {},
   "source": [
    "# Modelos Baseline con todas las variables"
   ]
  },
  {
   "cell_type": "markdown",
   "metadata": {},
   "source": [
    "## Librerías"
   ]
  },
  {
   "cell_type": "code",
   "execution_count": 1,
   "metadata": {},
   "outputs": [],
   "source": [
    "from sklearn.model_selection import train_test_split\n",
    "from sklearn.feature_extraction.text import TfidfVectorizer\n",
    "from xgboost import XGBClassifier\n",
    "from sklearn.linear_model import LogisticRegression\n",
    "from sklearn.metrics import confusion_matrix, classification_report\n",
    "import pandas as pd\n",
    "import numpy as np\n",
    "from sklearn.feature_extraction.text import TfidfVectorizer\n",
    "from sklearn.model_selection import train_test_split\n",
    "from sklearn.preprocessing import StandardScaler,LabelEncoder\n",
    "import matplotlib.pyplot as plt\n",
    "import seaborn as sns\n",
    "from scipy.sparse import hstack\n",
    "from sklearn.metrics import accuracy_score, log_loss, confusion_matrix, classification_report"
   ]
  },
  {
   "cell_type": "markdown",
   "metadata": {},
   "source": [
    "## Carga de datos"
   ]
  },
  {
   "cell_type": "code",
   "execution_count": 2,
   "metadata": {},
   "outputs": [],
   "source": [
    "df=pd.read_csv('/Users/isaromobru/Desktop/FakeNews 10.57.24/proyecto_machine_learning_Fake_News/data/processed/archivo.csv')"
   ]
  },
  {
   "cell_type": "markdown",
   "metadata": {},
   "source": [
    "## Vectorización"
   ]
  },
  {
   "cell_type": "code",
   "execution_count": 3,
   "metadata": {},
   "outputs": [],
   "source": [
    "le = LabelEncoder()\n",
    "df['subject_encoded'] = le.fit_transform(df['subject_grouped'])\n"
   ]
  },
  {
   "cell_type": "code",
   "execution_count": 4,
   "metadata": {},
   "outputs": [],
   "source": [
    "from scipy.sparse import csr_matrix, hstack\n",
    "# Asegurar que no haya valores nulos\n",
    "df['text'] = df['text'].fillna(\"\")\n",
    "df['title'] = df['title'].fillna(\"\")\n",
    "\n",
    "# Vectorización con TF-IDF (manteniendo sparse matrices)\n",
    "tfidf_text = TfidfVectorizer(max_features=5000, stop_words='english')\n",
    "tfidf_title = TfidfVectorizer(max_features=1000, stop_words='english')\n",
    "\n",
    "X_text = tfidf_text.fit_transform(df['text'])\n",
    "X_title = tfidf_title.fit_transform(df['title'])\n",
    "\n",
    "# Variables numéricas (convertidas a matriz dispersa)\n",
    "X_other_features = csr_matrix(df[['subject_encoded', 'title_length', 'title_word_count']].values)\n",
    "\n",
    "# Concatenar matrices dispersas sin convertirlas a DataFrame\n",
    "X_final = hstack([X_other_features, X_text, X_title])\n",
    "\n",
    "# Variable objetivo\n",
    "y = df['label']"
   ]
  },
  {
   "cell_type": "markdown",
   "metadata": {},
   "source": [
    "Vectorización de Title y Text: \n",
    "\n",
    "    - Se utiliza el método TF-IDF, ya que destaca las palabras importantes, dándole un valor menor a las menos importantes, reduce el ruido. \n",
    "    - Para modelos como Random Forest le ayuda en entender y procesar los datos.\n",
    "    - El uso de stopwords y stemming y TF-IDF no afecta negativamente, sino que mejora la representación, ya que TF-IDF se enfocará en términos más significativos.  Y el uso de Stemming y TF-IDF Reduce la dimensionalidad al tratar palabras con la misma raíz como una sola característica y evita dispersión en el modelo.\n"
   ]
  },
  {
   "cell_type": "markdown",
   "metadata": {},
   "source": [
    "## División variables"
   ]
  },
  {
   "cell_type": "code",
   "execution_count": 5,
   "metadata": {},
   "outputs": [
    {
     "data": {
      "text/plain": [
       "((35751, 6003), (8938, 6003), (35751,), (8938,))"
      ]
     },
     "execution_count": 5,
     "metadata": {},
     "output_type": "execute_result"
    }
   ],
   "source": [
    "\n",
    "# Dividir en Train/Test\n",
    "X_train, X_test, y_train, y_test = train_test_split(X_final, y, test_size=0.2, random_state=42, stratify=y)\n",
    "\n",
    "# Mostrar tamaños de los conjuntos\n",
    "X_train.shape, X_test.shape, y_train.shape, y_test.shape"
   ]
  },
  {
   "cell_type": "code",
   "execution_count": 6,
   "metadata": {},
   "outputs": [
    {
     "name": "stdout",
     "output_type": "stream",
     "text": [
      "0\n"
     ]
    }
   ],
   "source": [
    "print(df['text_length'].isna().sum())\n"
   ]
  },
  {
   "cell_type": "code",
   "execution_count": 7,
   "metadata": {},
   "outputs": [
    {
     "name": "stdout",
     "output_type": "stream",
     "text": [
      "0\n"
     ]
    }
   ],
   "source": [
    "print(df['title_word_count'].isna().sum())\n"
   ]
  },
  {
   "cell_type": "markdown",
   "metadata": {},
   "source": [
    "## Regresión Logística"
   ]
  },
  {
   "cell_type": "code",
   "execution_count": 8,
   "metadata": {},
   "outputs": [
    {
     "data": {
      "text/plain": [
       "(array([[4636,   60],\n",
       "        [  17, 4225]]),\n",
       " '              precision    recall  f1-score   support\\n\\n           0       1.00      0.99      0.99      4696\\n           1       0.99      1.00      0.99      4242\\n\\n    accuracy                           0.99      8938\\n   macro avg       0.99      0.99      0.99      8938\\nweighted avg       0.99      0.99      0.99      8938\\n')"
      ]
     },
     "execution_count": 8,
     "metadata": {},
     "output_type": "execute_result"
    }
   ],
   "source": [
    "\n",
    "# Entrenar el modelo de Regresión Logística\n",
    "logreg_model = LogisticRegression(max_iter=500, solver='liblinear')  # Solver optimizado para datos grandes\n",
    "logreg_model.fit(X_train, y_train)\n",
    "\n",
    "# Predicciones en el conjunto de prueba\n",
    "y_pred_logreg = logreg_model.predict(X_test)\n",
    "\n",
    "# Evaluar el modelo\n",
    "conf_matrix_logreg = confusion_matrix(y_test, y_pred_logreg)\n",
    "class_report_logreg = classification_report(y_test, y_pred_logreg)\n",
    "\n",
    "# Mostrar los resultados\n",
    "conf_matrix_logreg, class_report_logreg"
   ]
  },
  {
   "cell_type": "markdown",
   "metadata": {},
   "source": [
    "Explicación de las métricas:\n",
    "\n",
    "- Precisión (Precision): De todas las predicciones positivas, cuántas realmente lo son.\n",
    "Falsa: 1.00 → Casi todas las predicciones de las noticias falsas son correctas.\n",
    "Verdadera: 0.99 → Muy pocas veces se confunde falsas con las verdaderas.\n",
    "\n",
    "- Exhaustividad (Recall): De todas las instancias reales de la clase, cuántas fueron correctamente identificadas.\n",
    "Falsa: 0.99 → Un 99% de las noticias falsas se identifican correctamente.\n",
    "Verdadera 1.00 → Casi ningún de las notiicas verdaderas  se escapa.\n",
    "\n",
    "- F1-Score: Ambas clases tienen 0.99, lo que indica un excelente balance entre precisión y recall.\n",
    "\n",
    "Exactitud (Accuracy):\n",
    "99% de las predicciones fueron correctas (aciertos totales sobre el total de datos)."
   ]
  },
  {
   "cell_type": "code",
   "execution_count": 9,
   "metadata": {},
   "outputs": [
    {
     "data": {
      "image/png": "[encoded data removed]",
      "text/plain": [
       "<Figure size 600x500 with 2 Axes>"
      ]
     },
     "metadata": {},
     "output_type": "display_data"
    }
   ],
   "source": [
    "# Definir valores de la matriz de confusión\n",
    "cm = np.array([[4636, 60],\n",
    "               [17, 4225]])\n",
    "\n",
    "# Etiquetas de las clases\n",
    "labels = ['Fake', 'True']\n",
    "\n",
    "# Graficar la matriz de confusión\n",
    "plt.figure(figsize=(6, 5))\n",
    "sns.heatmap(cm, annot=True, fmt='d', cmap='Blues', xticklabels=labels, yticklabels=labels)\n",
    "plt.xlabel('Predicción')\n",
    "plt.ylabel('Real')\n",
    "plt.title('Matriz de Confusión de la regresión logística')\n",
    "plt.show();\n"
   ]
  },
  {
   "cell_type": "markdown",
   "metadata": {},
   "source": [
    "Interpretación:\n",
    "\n",
    "- 4636 → Verdaderos negativos (noticias Falsas correctamente clasificada)\n",
    "- 60 → Falsos positivos (noticias Falsas mal clasificada como verdaderas)\n",
    "- 17 → Falsos negativos (noticias verdaderas mal clasificada como falsas)\n",
    "- 4225 → Verdaderos positivos (noticias verdaderas correctamente clasificada)\n"
   ]
  },
  {
   "cell_type": "code",
   "execution_count": 10,
   "metadata": {},
   "outputs": [
    {
     "data": {
      "text/plain": [
       "(0.041900519306624785, 0.04908235823590299)"
      ]
     },
     "execution_count": 10,
     "metadata": {},
     "output_type": "execute_result"
    }
   ],
   "source": [
    "# 5. Evaluación del modelo\n",
    "# Predicciones\n",
    "y_train_pred_proba = logreg_model.predict_proba(X_train)[:, 1]  # Probabilidad de la clase 1 en entrenamiento\n",
    "y_test_pred_proba = logreg_model.predict_proba(X_test)[:, 1]    # Probabilidad de la clase 1 en prueba\n",
    "y_test_pred = logreg_model.predict(X_test)\n",
    "\n",
    "# Cálculo de log loss\n",
    "log_loss_train = log_loss(y_train, y_train_pred_proba)\n",
    "log_loss_test = log_loss(y_test, y_test_pred_proba)\n",
    "\n",
    "log_loss_train, log_loss_test"
   ]
  },
  {
   "cell_type": "markdown",
   "metadata": {},
   "source": [
    "Valores cercanos a 0 significan que el modelo está prediciendo probabilidades muy precisas.\n",
    "En este caso, los valores 0.0419 y 0.0491 son muy bajos, lo que indica que el modelo tiene una excelente calibración y confianza en sus predicciones"
   ]
  },
  {
   "cell_type": "code",
   "execution_count": 11,
   "metadata": {},
   "outputs": [
    {
     "name": "stdout",
     "output_type": "stream",
     "text": [
      "Scores por cada fold: [0.59968673 0.63056612 0.77959275 0.53445961 0.6183283 ]\n",
      "Precisión promedio: 0.6325\n",
      "Desviación estándar: 0.0807\n"
     ]
    }
   ],
   "source": [
    "from sklearn.model_selection import cross_val_score\n",
    "from sklearn.linear_model import LogisticRegression\n",
    "\n",
    "# Aplicar Validación Cruzada (Usando 5 folds)\n",
    "cv_scores = cross_val_score(logreg_model, X_other_features, y, cv=5, scoring='accuracy')\n",
    "\n",
    "# Mostrar resultados\n",
    "print(f\"Scores por cada fold: {cv_scores}\")\n",
    "print(f\"Precisión promedio: {cv_scores.mean():.4f}\")\n",
    "print(f\"Desviación estándar: {cv_scores.std():.4f}\")\n"
   ]
  },
  {
   "cell_type": "markdown",
   "metadata": {},
   "source": [
    "- Rango de resultados\n",
    "El mejor fold alcanzó 77.96% de precisión.\n",
    "El peor fold tuvo solo 53.45% de precisión.\n",
    "Hay bastante variabilidad entre los folds, lo que indica que el modelo puede estar funcionando mejor en ciertos subconjuntos del conjunto de datos.\n",
    "- Precisión promedio: 63.25%\n",
    "Esto indica que, en promedio, el modelo tiene un rendimiento moderado, pero no óptimo.\n",
    "- Desviación estándar: 0.0807 (8.07%)\n",
    "Una desviación estándar alta sugiere que el modelo es inconsistente en distintos folds.\n",
    "Es posible que el modelo tenga problemas con la variabilidad de los datos o que sea sensible a ciertos patrones."
   ]
  },
  {
   "cell_type": "markdown",
   "metadata": {},
   "source": [
    "Conclusión: \n",
    "El modelo tiene un desempeño aceptable (63.25% de precisión en promedio). Hay variabilidad entre los folds, lo que sugiere que la calidad de la predicción depende mucho de los datos en cada subconjunto."
   ]
  },
  {
   "cell_type": "markdown",
   "metadata": {},
   "source": [
    "## XG-Boost"
   ]
  },
  {
   "cell_type": "code",
   "execution_count": 12,
   "metadata": {},
   "outputs": [
    {
     "data": {
      "text/plain": [
       "(array([[4690,    6],\n",
       "        [   6, 4236]]),\n",
       " '              precision    recall  f1-score   support\\n\\n           0     0.9987    0.9987    0.9987      4696\\n           1     0.9986    0.9986    0.9986      4242\\n\\n    accuracy                         0.9987      8938\\n   macro avg     0.9987    0.9987    0.9987      8938\\nweighted avg     0.9987    0.9987    0.9987      8938\\n')"
      ]
     },
     "execution_count": 12,
     "metadata": {},
     "output_type": "execute_result"
    }
   ],
   "source": [
    "from xgboost import XGBClassifier\n",
    "\n",
    "xgb_model = XGBClassifier(\n",
    "    eval_metric='logloss',   # Métrica de evaluación\n",
    "    \n",
    "    max_depth=6,             # Controla la complejidad del modelo\n",
    "    learning_rate=0.1,       # Tasa de aprendizaje equilibrada\n",
    "    n_estimators=300,        # Aumenta el número de árboles para mejorar el ajuste\n",
    "    subsample=0.8,           # Reduce overfitting usando solo el 80% de los datos por árbol\n",
    "    colsample_bytree=0.8,    # Usa el 80% de las características en cada árbol\n",
    "    gamma=0.1,               # Ayuda a la regularización\n",
    "    reg_lambda=1,            # Regularización L2 para evitar overfitting\n",
    "    reg_alpha=0.1            # Regularización L1\n",
    ")\n",
    "\n",
    "# Entrenar el modelo\n",
    "xgb_model.fit(X_train, y_train)\n",
    "\n",
    "# Predicciones\n",
    "y_pred_xgb = xgb_model.predict(X_test)\n",
    "\n",
    "# Evaluar el modelo\n",
    "conf_matrix = confusion_matrix(y_test, y_pred_xgb)\n",
    "class_report = classification_report(y_test, y_pred_xgb, digits=4)\n",
    "\n",
    "# Mostrar los resultados\n",
    "conf_matrix, class_report\n"
   ]
  },
  {
   "cell_type": "markdown",
   "metadata": {},
   "source": [
    "Explicación de las métricas:\n",
    "\n",
    "- Precisión (Precision):\n",
    "\n",
    "    Para la noticias falsas: 99.87% de las veces que el modelo predice una notiica falsa, realmente lo es.\n",
    "    \n",
    "    Para las noticias verdaderas: 99.86% de las veces que predice una notiica verdadera, acierta.\n",
    "\n",
    "- Exhaustividad (Recall):\n",
    "\n",
    "    Para las noticias falsas:  Identificó correctamente 99.87% de los casos reales de noticias falsas.\n",
    "    \n",
    "    Para las notiicas verdaderas: Identificó correctamente 99.86% de los casos reales de noticias verdaderas.\n",
    "    \n",
    "- F1-Score:\n",
    "    0.9987 y 0.9986 indican un rendimiento casi perfecto en ambas clases.\n",
    "- Exactitud (Accuracy):\n",
    "    99.87% de precisión global sobre todo el dataset."
   ]
  },
  {
   "cell_type": "code",
   "execution_count": 13,
   "metadata": {},
   "outputs": [
    {
     "data": {
      "image/png": "[encoded data removed]",
      "text/plain": [
       "<Figure size 600x500 with 2 Axes>"
      ]
     },
     "metadata": {},
     "output_type": "display_data"
    }
   ],
   "source": [
    "# Definir valores de la matriz de confusión\n",
    "cm = np.array([[4690, 6],\n",
    "               [6, 4236]])\n",
    "\n",
    "# Etiquetas de las clases\n",
    "labels = ['Fake', 'True']\n",
    "\n",
    "# Graficar la matriz de confusión\n",
    "plt.figure(figsize=(6, 5))\n",
    "sns.heatmap(cm, annot=True, fmt='d', cmap='Blues', xticklabels=labels, yticklabels=labels)\n",
    "plt.xlabel('Predicción')\n",
    "plt.ylabel('Real')\n",
    "plt.title('Matriz de Confusión de la XG-Boost')\n",
    "plt.show();\n",
    "\n"
   ]
  },
  {
   "cell_type": "markdown",
   "metadata": {},
   "source": [
    "Interpretación:\n",
    "\n",
    "- 4690 → Verdaderos negativos (clase 0 correctamente clasificada).\n",
    "- 6 → Falsos positivos (clase 0 mal clasificada como clase 1).\n",
    "- 6 → Falsos negativos (clase 1 mal clasificada como clase 0).\n",
    "- 4236 → Verdaderos positivos (clase 1 correctamente clasificada).\n",
    "\n",
    "Conclusiones:\n",
    "- Apenas 12 errores en 8938 muestras (6 falsas positivas y 6 falsas negativas).\n",
    "- La clasificación es casi perfecta con solo 0.13% de error.\n"
   ]
  },
  {
   "cell_type": "code",
   "execution_count": 14,
   "metadata": {},
   "outputs": [
    {
     "data": {
      "text/plain": [
       "(0.00045481997332146035, 0.006478380075856221)"
      ]
     },
     "execution_count": 14,
     "metadata": {},
     "output_type": "execute_result"
    }
   ],
   "source": [
    "# Calcular las probabilidades predichas para calcular log loss\n",
    "y_train_pred_probaxgb = xgb_model.predict_proba(X_train)[:, 1]  # Probabilidad de la clase 1 en entrenamiento\n",
    "y_test_pred_probaxgb = xgb_model.predict_proba(X_test)[:, 1]    # Probabilidad de la clase 1 en prueba\n",
    "\n",
    "# Calcular log loss en entrenamiento y prueba\n",
    "log_loss_train = log_loss(y_train, y_train_pred_probaxgb)\n",
    "log_loss_test = log_loss(y_test, y_test_pred_probaxgb)\n",
    "\n",
    "# Mostrar los resultados\n",
    "log_loss_train, log_loss_test\n"
   ]
  },
  {
   "cell_type": "markdown",
   "metadata": {},
   "source": [
    "- Un log loss cercano a 0 indica que el modelo está generando predicciones de alta confianza y muy precisas.\n",
    "En este caso:\n",
    "    0.00045 en entrenamiento → Sugiere que el modelo ha aprendido casi a la perfección el conjunto de entrenamiento.\n",
    "\n",
    "    0.00648 en prueba → Sigue siendo un valor muy bajo, lo que indica que el modelo mantiene su rendimiento en datos no vistos.\n",
    "    \n",
    "- Diferencia entre entrenamiento y prueba\n",
    "Hay una diferencia muy pequeña entre ambos valores (≈0.006), lo cual es una muy buena señal.\n",
    "Esto indica que el modelo no está sobreajustado, ya que el rendimiento en prueba sigue siendo muy alto."
   ]
  },
  {
   "cell_type": "code",
   "execution_count": 15,
   "metadata": {},
   "outputs": [
    {
     "name": "stdout",
     "output_type": "stream",
     "text": [
      "Precisión promedio: 0.9964\n",
      "Desviación estándar: 0.0014\n"
     ]
    }
   ],
   "source": [
    "# Ejecutar validación cruzada\n",
    "cv_scores = cross_val_score(xgb_model, X_final, y, cv=5, scoring='accuracy')\n",
    "\n",
    "# Mostrar los resultados\n",
    "print(f\"Precisión promedio: {cv_scores.mean():.4f}\")\n",
    "print(f\"Desviación estándar: {cv_scores.std():.4f}\")"
   ]
  },
  {
   "cell_type": "markdown",
   "metadata": {},
   "source": [
    "\n",
    "\n",
    "- Precisión Promedio = 99.64%\n",
    "    Esto indica que, en validación cruzada, el modelo mantiene un rendimiento consistentemente alto en diferentes subconjuntos de datos.\n",
    "Es un resultado excelente, lo que confirma que el modelo tiene una capacidad de generalización muy fuerte.\n",
    "- Desviación Estándar = 0.0014 (0.14%)\n",
    "    Una desviación estándar tan baja indica que el modelo es muy estable en diferentes folds de validación cruzada.\n",
    "    Significa que los resultados son consistentes sin variaciones significativas entre diferentes conjuntos de entrenamiento y prueba.\n",
    "\n"
   ]
  },
  {
   "cell_type": "markdown",
   "metadata": {},
   "source": [
    "Un valor alto de desviación estándar indicaría que el modelo es sensible a los datos, pero en este caso, la variabilidad es mínima."
   ]
  },
  {
   "cell_type": "markdown",
   "metadata": {},
   "source": [
    "- Conclusiones\n",
    "\n",
    "1. El modelo XGBoost es extremadamente preciso (99.64%).\n",
    "2. Es altamente estable y consistente en diferentes folds de validación cruzada.\n",
    "3. No hay signos de sobreajuste, ya que los valores son constantes y el log loss también es bajo.\n",
    "\n"
   ]
  },
  {
   "cell_type": "code",
   "execution_count": 20,
   "metadata": {},
   "outputs": [],
   "source": [
    "# Obtener nombres de las características TF-IDF\n",
    "feature_names_text = tfidf_text.get_feature_names_out()\n",
    "feature_names_title = tfidf_title.get_feature_names_out()\n",
    "\n",
    "# Nombres de las características numéricas\n",
    "feature_names_other = ['subject_encoded', 'title_length', 'title_word_count']\n",
    "# Combinar todos los nombres\n",
    "all_feature_names = np.concatenate([feature_names_other, feature_names_text, feature_names_title])\n"
   ]
  },
  {
   "cell_type": "code",
   "execution_count": 21,
   "metadata": {},
   "outputs": [
    {
     "data": {
      "image/png": "[encoded data removed]",
      "text/plain": [
       "<Figure size 1000x600 with 1 Axes>"
      ]
     },
     "metadata": {},
     "output_type": "display_data"
    }
   ],
   "source": [
    "# Obtener importancia de características\n",
    "importances_xgb = xgb_model.feature_importances_\n",
    "sorted_idx_xgb = np.argsort(importances_xgb)[-20:]  # Tomar solo las 20 más importantes\n",
    "\n",
    "# Graficar\n",
    "plt.figure(figsize=(10, 6))\n",
    "plt.barh(range(len(sorted_idx_xgb)), importances_xgb[sorted_idx_xgb], align='center')\n",
    "plt.yticks(range(len(sorted_idx_xgb)), [all_feature_names[i] for i in sorted_idx_xgb])\n",
    "plt.xlabel(\"Importancia Relativa\")\n",
    "plt.title(\"Importancia de las Características en XGBoost\")\n",
    "plt.show()"
   ]
  },
  {
   "cell_type": "markdown",
   "metadata": {},
   "source": [
    "Este grafico nos muestra la importancia de que da el modelo de gradient boosting para predecir si es una noticia falsa o no, cuanto más cercano sea a 1, más posibilidad hay que sea verdadera. En este caso, la que mas es un 0,30, no es muy alto, pero es una buena señal porque significa que no le da una gran importancia. \n",
    "reuters\" tiene una importancia muy alta, es probable que su presencia en el texto sea un fuerte indicador de veracidad. Reuters es una fuente de noticias legítima y ampliamente confiable, por lo que si un artículo menciona Reuters, el modelo puede asociarlo con noticias verdaderas, Otras palabras clave como \"image\", \"title_length\", \"21wire\" y \"video\" también influyen en la predicción. \n",
    "- \"21WIRE\" es el nombre de usuario en SoundCloud de Patrick Henningsen, un comentarista y analista político que produce contenido relacionado con noticias y análisis geopolítico.\n",
    "- title_lenght: confirma la importancia de esta variable, y como afecta a la hora de predecir noticias falsas, esto puede tener relación que las noticias falsas utilizan titulos más sensacionalista. "
   ]
  },
  {
   "cell_type": "markdown",
   "metadata": {},
   "source": [
    "## Gradient boosting"
   ]
  },
  {
   "cell_type": "code",
   "execution_count": 22,
   "metadata": {},
   "outputs": [
    {
     "data": {
      "text/plain": [
       "(array([[4681,   15],\n",
       "        [   9, 4233]]),\n",
       " '              precision    recall  f1-score   support\\n\\n           0       1.00      1.00      1.00      4696\\n           1       1.00      1.00      1.00      4242\\n\\n    accuracy                           1.00      8938\\n   macro avg       1.00      1.00      1.00      8938\\nweighted avg       1.00      1.00      1.00      8938\\n')"
      ]
     },
     "execution_count": 22,
     "metadata": {},
     "output_type": "execute_result"
    }
   ],
   "source": [
    "from sklearn.ensemble import GradientBoostingClassifier\n",
    "\n",
    "# Entrenar el modelo Gradient Boosting\n",
    "gb_model = GradientBoostingClassifier(n_estimators=100, learning_rate=0.1, max_depth=3, random_state=42)\n",
    "gb_model.fit(X_train, y_train)\n",
    "\n",
    "# Predicciones\n",
    "y_pred_gb = gb_model.predict(X_test)\n",
    "\n",
    "# Evaluar el modelo\n",
    "conf_matrix_gb = confusion_matrix(y_test, y_pred_gb)\n",
    "class_report_gb = classification_report(y_test, y_pred_gb)\n",
    "\n",
    "# Mostrar los resultados\n",
    "conf_matrix_gb, class_report_gb"
   ]
  },
  {
   "cell_type": "markdown",
   "metadata": {},
   "source": [
    "## Explicación de las métricas:\n",
    "\n",
    "Precisión (Precision):\n",
    "\n",
    "    Para la noticias falsas 100% de predicción\n",
    "    Para las noticias verdaderas: 100% de predicción\n",
    "\n",
    "Exhaustividad (Recall):\n",
    "\n",
    "    Para las noticias falsas :100%, lo que significa que se identificó correctamente cada noticias falsas.\n",
    "    Para las noticias verdaderas: 100%, lo que significa que se identificó correctamente cada noticia verdadera.\n",
    "\n",
    "F1-Score:\n",
    "\n",
    "    1.00 en ambas clases significa que el modelo tiene rendimiento perfecto.\n",
    "\n",
    "Exactitud (Accuracy):\n",
    "\n",
    "    100% de precisión global → El modelo ha clasificado correctamente todas las muestras con una precisión perfecta."
   ]
  },
  {
   "cell_type": "code",
   "execution_count": 23,
   "metadata": {},
   "outputs": [
    {
     "data": {
      "image/png": "[encoded data removed]",
      "text/plain": [
       "<Figure size 600x500 with 2 Axes>"
      ]
     },
     "metadata": {},
     "output_type": "display_data"
    }
   ],
   "source": [
    "import matplotlib.pyplot as plt\n",
    "import seaborn as sns\n",
    "\n",
    "# Graficar la matriz de confusión para Gradient Boosting\n",
    "plt.figure(figsize=(6, 5))\n",
    "sns.heatmap([[4681, 15], [9, 4233]], annot=True, fmt='d', cmap='Blues', xticklabels=['Clase 0', 'Clase 1'], yticklabels=['Clase 0', 'Clase 1'])\n",
    "plt.xlabel('Predicción')\n",
    "plt.ylabel('Real')\n",
    "plt.title('Matriz de Confusión - Gradient Boosting')\n",
    "plt.show()\n"
   ]
  },
  {
   "cell_type": "markdown",
   "metadata": {},
   "source": [
    "Interpretación:\n",
    "\n",
    "- 4681 → Verdaderos negativos (noticias falsas correctamente clasificada).\n",
    "- 15 → Falsos positivos (noticias falsas mal clasificadas como verdaderas).\n",
    "- 9 → Falsos negativos (noticias verdadaeras mal clasificada como noticias falsas).\n",
    "- 4233 → Verdaderos positivos (noticias verdaderas correctamente clasificada).\n",
    "\n",
    "Conclusiones:\n",
    "\n",
    "- Solo 24 errores en 8938 muestras.\n",
    "- El error es extremadamente bajo (~0.27% de error total).\n",
    "- Se mejoró con respecto a XGBoost, que tenía 12 errores, aunque la diferencia es mínima."
   ]
  },
  {
   "cell_type": "code",
   "execution_count": 24,
   "metadata": {},
   "outputs": [
    {
     "data": {
      "text/plain": [
       "(0.00968674023613337, 0.015194112832035821)"
      ]
     },
     "execution_count": 24,
     "metadata": {},
     "output_type": "execute_result"
    }
   ],
   "source": [
    "# Calcular las probabilidades predichas para calcular log loss\n",
    "y_train_pred_probagb = gb_model.predict_proba(X_train)[:, 1]  # Probabilidad de la clase 1 en entrenamiento\n",
    "y_test_pred_probagb = gb_model.predict_proba(X_test)[:, 1]    # Probabilidad de la clase 1 en prueba\n",
    "\n",
    "# Calcular log loss en entrenamiento y prueba\n",
    "log_loss_train2 = log_loss(y_train, y_train_pred_probagb)\n",
    "log_loss_test2 = log_loss(y_test, y_test_pred_probagb)\n",
    "\n",
    "# Mostrar los resultados\n",
    "log_loss_train2, log_loss_test2\n"
   ]
  },
  {
   "cell_type": "markdown",
   "metadata": {},
   "source": [
    "Valores bajos indican buena calibración\n",
    "- Ambos valores son muy bajos, lo que indica que las probabilidades predichas por el modelo están muy bien calibradas.\n",
    "    \n",
    "- Diferencia entre Train y Test\n",
    "    0.0097 en entrenamiento vs. 0.0152 en prueba. Hay un leve aumento en el conjunto de prueba, lo cual es normal.\n",
    "    Diferencia de ≈0.0055, lo que indica que el modelo no está sufriendo sobreajuste severo."
   ]
  },
  {
   "cell_type": "code",
   "execution_count": 25,
   "metadata": {},
   "outputs": [
    {
     "name": "stdout",
     "output_type": "stream",
     "text": [
      "Precisión promedio: 0.9950\n",
      "Desviación estándar: 0.0016\n"
     ]
    }
   ],
   "source": [
    "# Ejecutar validación cruzada\n",
    "cv_scores2 = cross_val_score(gb_model, X_final, y, cv=5, scoring='accuracy')\n",
    "\n",
    "# Mostrar los resultados\n",
    "print(f\"Precisión promedio: {cv_scores2.mean():.4f}\")\n",
    "print(f\"Desviación estándar: {cv_scores2.std():.4f}\")"
   ]
  },
  {
   "cell_type": "markdown",
   "metadata": {},
   "source": [
    "Precisión Promedio = 99.50%\n",
    "- Indica que, en promedio, el modelo Gradient Boosting clasifica correctamente el 99.50% de los datos en cada fold de validación cruzada.\n",
    "- Es ligeramente inferior al obtenido con XGBoost (99.64%).\n",
    "\n",
    "- Desviación Estándar = 0.0016 (0.16%). Este valor representa la variabilidad de la precisión en diferentes subconjuntos de datos (folds).\n",
    "    - Baja variabilidad, lo que significa que el modelo es estable en distintos conjuntos de prueba.\n",
    "\n",
    "Comparado con XGBoost:\n",
    "XGBoost: 0.0014\n",
    "Gradient Boosting: 0.0016\n",
    "Ambas desviaciones son similares, lo que indica que ambos modelos son consistentes.\n"
   ]
  },
  {
   "cell_type": "markdown",
   "metadata": {},
   "source": [
    "### Conclusiones Finales\n",
    "\n",
    "- Gradient Boosting tiene una precisión excelente (99.50%), con estabilidad alta.\n",
    "- Ligeramente menos preciso que XGBoost (99.64%), pero sigue siendo un modelo altamente confiable.\n",
    "- No hay indicios de sobreajuste, ya que la desviación estándar es baja."
   ]
  },
  {
   "cell_type": "markdown",
   "metadata": {},
   "source": [
    "## NP-Bayes"
   ]
  },
  {
   "cell_type": "code",
   "execution_count": 26,
   "metadata": {},
   "outputs": [
    {
     "name": "stdout",
     "output_type": "stream",
     "text": [
      "[[4475  221]\n",
      " [ 218 4024]]\n",
      "              precision    recall  f1-score   support\n",
      "\n",
      "           0       0.95      0.95      0.95      4696\n",
      "           1       0.95      0.95      0.95      4242\n",
      "\n",
      "    accuracy                           0.95      8938\n",
      "   macro avg       0.95      0.95      0.95      8938\n",
      "weighted avg       0.95      0.95      0.95      8938\n",
      "\n"
     ]
    }
   ],
   "source": [
    "from sklearn.naive_bayes import MultinomialNB\n",
    "# Entrenamiento\n",
    "nb = MultinomialNB()\n",
    "nb.fit(X_train, y_train)\n",
    "\n",
    "# Predicciones\n",
    "y_pred = nb.predict(X_test)\n",
    "\n",
    "# Evaluación\n",
    "print(confusion_matrix(y_test, y_pred))\n",
    "print(classification_report(y_test, y_pred))\n"
   ]
  },
  {
   "cell_type": "markdown",
   "metadata": {},
   "source": [
    "- Explicación de las métricas:\n",
    "\n",
    "- Precisión (Precision):\n",
    "    Para noticias falsas: significa que el 95% de las veces que el modelo predice noticias falsas son falsas.\n",
    "    Para noticias verdaderas: lo que significa que el 95% de las veces que predice noticias verdaderas son verdaderas.\n",
    "- Recall (Exhaustividad):\n",
    "    Para noticias falsas: 95%, es decir, de todas las instancias reales de noticias falsas, el modelo identificó correctamente el 95%.\n",
    "    Para noticias verdaderas 95%, indicando que el modelo identificó correctamente el 95% de los casos reales de las noticias verdaderas.\n",
    "- F1-Score: 95% en ambas clases, lo que indica un buen equilibrio entre precisión y recall.\n",
    "\n",
    "- Exactitud (Accuracy): 95% de precisión global."
   ]
  },
  {
   "cell_type": "code",
   "execution_count": 27,
   "metadata": {},
   "outputs": [
    {
     "data": {
      "image/png": "[encoded data removed]",
      "text/plain": [
       "<Figure size 600x500 with 2 Axes>"
      ]
     },
     "metadata": {},
     "output_type": "display_data"
    }
   ],
   "source": [
    "# Definir valores de la matriz de confusión\n",
    "cm = np.array([[4457, 191],\n",
    "               [250, 4040]])\n",
    "\n",
    "# Etiquetas de las clases\n",
    "labels = ['Fake', 'True']\n",
    "\n",
    "# Graficar la matriz de confusión\n",
    "plt.figure(figsize=(6, 5))\n",
    "sns.heatmap(cm, annot=True, fmt='d', cmap='Blues', xticklabels=labels, yticklabels=labels)\n",
    "plt.xlabel('Predicción')\n",
    "plt.ylabel('Real')\n",
    "plt.title('Matriz de Confusión')\n",
    "plt.show();\n"
   ]
  },
  {
   "cell_type": "markdown",
   "metadata": {},
   "source": [
    "Interpretación:\n",
    "\n",
    "4475 → Verdaderos negativos (noticias falsas correctamente clasificada).\n",
    "221 → Falsos positivos (noticias falsas mal clasificada como clase 1).\n",
    "218 → Falsos negativos (noticias verdaderas mal clasificada como clase 0).\n",
    "4024 → Verdaderos positivos (noticias verdaderas correctamente clasificada).\n",
    "\n",
    "Conclusiones:\n",
    "\n",
    "439 errores en total (221 + 218).\n",
    "La tasa de error es más alta que en modelos previos como XGBoost o Gradient Boosting.\n",
    "Aunque sigue siendo un modelo bastante preciso (95%), su capacidad para clasificar correctamente es menor."
   ]
  },
  {
   "cell_type": "code",
   "execution_count": 28,
   "metadata": {},
   "outputs": [
    {
     "data": {
      "text/plain": [
       "(0.12706012846914766, 0.13593172525964364)"
      ]
     },
     "execution_count": 28,
     "metadata": {},
     "output_type": "execute_result"
    }
   ],
   "source": [
    "# Calcular las probabilidades predichas para calcular log loss\n",
    "y_train_pred_probanb = nb.predict_proba(X_train)[:, 1]  # Probabilidad de la clase 1 en entrenamiento\n",
    "y_test_pred_probanb = nb.predict_proba(X_test)[:, 1]    # Probabilidad de la clase 1 en prueba\n",
    "\n",
    "# Calcular log loss en entrenamiento y prueba\n",
    "log_loss_train3= log_loss(y_train, y_train_pred_probanb)\n",
    "log_loss_test3 = log_loss(y_test, y_test_pred_probanb)\n",
    "\n",
    "# Mostrar los resultados\n",
    "log_loss_train3, log_loss_test3"
   ]
  },
  {
   "cell_type": "markdown",
   "metadata": {},
   "source": [
    "- Valores más altos que en otros modelos: En comparación con XGBoost y Gradient Boosting, los valores de Log Loss en Naive Bayes son más altos, lo que sugiere que las probabilidades del modelo están menos calibradas.\n",
    "\n",
    "- Diferencia entre Train y Test: 0.1271 en entrenamiento vs. 0.1359 en prueba. La diferencia es ≈0.0088, lo cual es razonable y sugiere que el modelo no está sobreajustado. Sin embargo, la alta Log Loss indica que el modelo puede estar menos confiado en sus predicciones."
   ]
  },
  {
   "cell_type": "code",
   "execution_count": 29,
   "metadata": {},
   "outputs": [
    {
     "name": "stdout",
     "output_type": "stream",
     "text": [
      "Precisión promedio: 0.9189\n",
      "Desviación estándar: 0.0177\n"
     ]
    }
   ],
   "source": [
    "# Ejecutar validación cruzada\n",
    "cv_scores3 = cross_val_score(nb, X_final, y, cv=5, scoring='accuracy')\n",
    "\n",
    "# Mostrar los resultados\n",
    "print(f\"Precisión promedio: {cv_scores3.mean():.4f}\")\n",
    "print(f\"Desviación estándar: {cv_scores3.std():.4f}\")"
   ]
  },
  {
   "cell_type": "markdown",
   "metadata": {},
   "source": [
    "- Precisión Promedio: Indica que, en promedio, Naïve Bayes clasifica correctamente el 91.89% de los datos en cada fold de validación cruzada.Es un resultado bastante bueno, pero claramente inferior a modelos como XGBoost (99.64%) o Gradient Boosting (99.50%).\n",
    "- Desviación Estándar = 0.0177 (1.77%). Mayor desviación que en XGBoost (0.0014) y Gradient Boosting (0.0016). Esto indica que Naive Bayes es menos consistente y más sensible a la división de los datos."
   ]
  },
  {
   "cell_type": "markdown",
   "metadata": {},
   "source": [
    "Conclusiones Finales\n",
    "- Naive Bayes es un modelo eficiente y rápido, pero con menor precisión que XGBoost y Gradient Boosting.\n",
    "- Tiene una mayor variabilidad en rendimiento, lo que indica que su desempeño depende más de la división de los datos.\n"
   ]
  },
  {
   "cell_type": "markdown",
   "metadata": {},
   "source": [
    "# Random Forest\n"
   ]
  },
  {
   "cell_type": "code",
   "execution_count": 30,
   "metadata": {},
   "outputs": [
    {
     "data": {
      "text/plain": [
       "(array([[4689,    7],\n",
       "        [   5, 4237]]),\n",
       " '              precision    recall  f1-score   support\\n\\n           0       1.00      1.00      1.00      4696\\n           1       1.00      1.00      1.00      4242\\n\\n    accuracy                           1.00      8938\\n   macro avg       1.00      1.00      1.00      8938\\nweighted avg       1.00      1.00      1.00      8938\\n')"
      ]
     },
     "execution_count": 30,
     "metadata": {},
     "output_type": "execute_result"
    }
   ],
   "source": [
    "from sklearn.ensemble import RandomForestClassifier\n",
    "\n",
    "# Entrenar el modelo Random Forest\n",
    "rf_model = RandomForestClassifier(n_estimators=100, max_depth=None, random_state=42)\n",
    "rf_model.fit(X_train, y_train)\n",
    "\n",
    "# Predicciones en el conjunto de prueba\n",
    "y_pred_rf = rf_model.predict(X_test)\n",
    "\n",
    "# Evaluar el modelo\n",
    "conf_matrix_rf = confusion_matrix(y_test, y_pred_rf)\n",
    "class_report_rf = classification_report(y_test, y_pred_rf)\n",
    "\n",
    "# Mostrar los resultados\n",
    "conf_matrix_rf, class_report_rf\n"
   ]
  },
  {
   "cell_type": "markdown",
   "metadata": {},
   "source": [
    "## Explicación de las métricas:\n",
    "\n",
    "Precisión (Precision):\n",
    "    Para las noticias falsas: 100% → Todas las predicciones son correctas\n",
    "    Para las noticias verdaderas: 100% → Todas las predicciones son correctas\n",
    "\n",
    "Recall (Exhaustividad):\n",
    "    Para las noticias falsas: 100% → Se identificó correctamente cada instancia de noticias falsas.\n",
    "    Para las noticias verdaderas: 100% → Se identificó correctamente cada instancia de noticias verdaderas.\n",
    "\n",
    "F1-Score:\n",
    "    1.00 en ambas clases, lo que indica un rendimiento perfecto.\n",
    "Exactitud (Accuracy):\n",
    "    100% de precisión global → El modelo ha clasificado correctamente todas las muestras."
   ]
  },
  {
   "cell_type": "code",
   "execution_count": 31,
   "metadata": {},
   "outputs": [
    {
     "data": {
      "image/png": "[encoded data removed]",
      "text/plain": [
       "<Figure size 600x500 with 2 Axes>"
      ]
     },
     "metadata": {},
     "output_type": "display_data"
    }
   ],
   "source": [
    "# Definir valores de la matriz de confusión\n",
    "cm = np.array([[4689, 7],\n",
    "               [5, 4237]])\n",
    "\n",
    "# Etiquetas de las clases\n",
    "labels = ['Fake', 'True']\n",
    "\n",
    "# Graficar la matriz de confusión\n",
    "plt.figure(figsize=(6, 5))\n",
    "sns.heatmap(cm, annot=True, fmt='d', cmap='Blues', xticklabels=labels, yticklabels=labels)\n",
    "plt.xlabel('Predicción')\n",
    "plt.ylabel('Real')\n",
    "plt.title('Matriz de Confusión Random Forest')\n",
    "plt.show();\n"
   ]
  },
  {
   "cell_type": "markdown",
   "metadata": {},
   "source": [
    "Interpretación:\n",
    "\n",
    "- 4689 → Verdaderos negativos (noticias falsas correctamente clasificada).\n",
    "- 7 → Falsos positivos (noticias falsas mal clasificada como clase 1).\n",
    "- 5 → Falsos negativos (noticias verdaderas mal clasificada como clase 0).\n",
    "- 4237 → Verdaderos positivos (noticias verdaderas correctamente clasificada).\n",
    "\n",
    "Conclusiones:\n",
    "- solo 12 errores en 8938 muestras (7 falsos positivos y 5 falsos negativos).\n",
    "- Error total de solo 0.13%, lo que es casi perfecto.\n"
   ]
  },
  {
   "cell_type": "code",
   "execution_count": 32,
   "metadata": {},
   "outputs": [
    {
     "data": {
      "text/plain": [
       "(0.12706012846914766, 0.13593172525964364)"
      ]
     },
     "execution_count": 32,
     "metadata": {},
     "output_type": "execute_result"
    }
   ],
   "source": [
    "# Calcular las probabilidades predichas para calcular log loss\n",
    "y_train_pred_probarf =rf_model.predict_proba(X_train)[:, 1]  # Probabilidad de la clase 1 en entrenamiento\n",
    "y_test_pred_probarf = rf_model.predict_proba(X_test)[:, 1]    # Probabilidad de la clase 1 en prueba\n",
    "\n",
    "# Calcular log loss en entrenamiento y prueba\n",
    "log_loss_train4= log_loss(y_train, y_train_pred_probanb)\n",
    "log_loss_test4 = log_loss(y_test, y_test_pred_probanb)\n",
    "\n",
    "# Mostrar los resultados\n",
    "log_loss_train4, log_loss_test4"
   ]
  },
  {
   "cell_type": "markdown",
   "metadata": {},
   "source": [
    "\n",
    "- Comparado con otros modelos como XGBoost y Gradient Boosting, el Log Loss de Random Forest es más alto, lo que sugiere que sus predicciones de probabilidad no son tan confiables.\n",
    "- Random Forest tiene ≈0.13, lo que indica que su calibración no es ideal.\n",
    "Diferencia entre Train y Test\n",
    "Train Log Loss = 0.1271\n",
    "Test Log Loss = 0.1359\n",
    "Diferencia ≈ 0.0088, lo cual es bajo, indicando que el modelo no está sobreajustado gravemente.\n",
    "Sin embargo, este Log Loss es más alto que en modelos más avanzados, lo que significa que Random Forest es menos preciso en la estimación de probabilidades."
   ]
  },
  {
   "cell_type": "code",
   "execution_count": 33,
   "metadata": {},
   "outputs": [
    {
     "name": "stdout",
     "output_type": "stream",
     "text": [
      "Precisión promedio: 0.9957\n",
      "Desviación estándar: 0.0024\n"
     ]
    }
   ],
   "source": [
    "# Ejecutar validación cruzada\n",
    "cv_scores4 = cross_val_score(rf_model, X_final, y, cv=5, scoring='accuracy')\n",
    "\n",
    "# Mostrar los resultados\n",
    "print(f\"Precisión promedio: {cv_scores4.mean():.4f}\")\n",
    "print(f\"Desviación estándar: {cv_scores4.std():.4f}\")"
   ]
  },
  {
   "cell_type": "markdown",
   "metadata": {},
   "source": [
    "- Precisión Promedio: Indica que, en promedio, Random Forest clasifica correctamente el 99,5% de los datos en cada fold de validación cruzada.PArecido a los valores de Gradient Boosting y XGBoost. \n",
    "- Desviación Estándar = 0.0024. Mayor desviación que en XGBoost (0.0014) y Gradient Boosting (0.0016) pero mejor que Naive Bayes"
   ]
  },
  {
   "cell_type": "code",
   "execution_count": 34,
   "metadata": {},
   "outputs": [
    {
     "data": {
      "image/png": "[encoded data removed]",
      "text/plain": [
       "<Figure size 1000x600 with 1 Axes>"
      ]
     },
     "metadata": {},
     "output_type": "display_data"
    }
   ],
   "source": [
    "import matplotlib.pyplot as plt\n",
    "import numpy as np\n",
    "# Combinar todos los nombres\n",
    "all_feature_names = np.concatenate([feature_names_other, feature_names_text, feature_names_title])\n",
    "# Obtener la importancia de las características y ordenarlas\n",
    "importances = rf_model.feature_importances_\n",
    "sorted_idx = np.argsort(importances)[-20:]  # Muestra solo las 20 más importantes\n",
    "\n",
    "# Graficar la importancia de cada variable con nombres más legibles\n",
    "plt.figure(figsize=(10, 6))\n",
    "plt.barh(range(len(sorted_idx)), importances[sorted_idx], align='center')\n",
    "plt.yticks(range(len(sorted_idx)), [all_feature_names[i] for i in sorted_idx])\n",
    "plt.xlabel(\"Importancia Relativa\")\n",
    "plt.title(\"Importancia de las Características en Random Forest\")\n",
    "plt.show()\n"
   ]
  },
  {
   "cell_type": "markdown",
   "metadata": {},
   "source": [
    "### Conclusión Final\n",
    "\n",
    "- Las variables \"title_length\" y \"title_word_count\" sí aportan información valiosa y no deberían eliminarse sin más pruebas.\n",
    "\n",
    "- El modelo parece depender fuertemente de la palabra \"reuters\", lo que podría indicar un sesgo en los datos.\n",
    "\n",
    "- Es posible que ciertas palabras clave (como \"video\", \"feature\", \"image\") ayuden a diferenciar noticias falsas de verdaderas."
   ]
  },
  {
   "cell_type": "markdown",
   "metadata": {},
   "source": [
    "## Evaluación"
   ]
  },
  {
   "cell_type": "code",
   "execution_count": 35,
   "metadata": {},
   "outputs": [
    {
     "data": {
      "image/png": "[encoded data removed]",
      "text/plain": [
       "<Figure size 1000x600 with 1 Axes>"
      ]
     },
     "metadata": {},
     "output_type": "display_data"
    }
   ],
   "source": [
    "from sklearn.metrics import accuracy_score, f1_score, roc_auc_score\n",
    "# 📊 Evaluar cada modelo\n",
    "def evaluar_modelo(modelo, nombre):\n",
    "    y_pred = modelo.predict(X_test)\n",
    "    y_prob = modelo.predict_proba(X_test)[:, 1] if hasattr(modelo, \"predict_proba\") else None\n",
    "\n",
    "    acc = accuracy_score(y_test, y_pred)\n",
    "    f1 = f1_score(y_test, y_pred)\n",
    "    auc = roc_auc_score(y_test, y_prob) if y_prob is not None else np.nan\n",
    "    \n",
    "    return [acc, f1, auc]\n",
    "\n",
    "# Guardar resultados en un diccionario\n",
    "resultados = {\n",
    "    \"Regresión Logística\": evaluar_modelo(logreg_model, \"Regresión Logística\"),\n",
    "    \"Random Forest\": evaluar_modelo(rf_model, \"Random Forest\"),\n",
    "    \"XGBoost\": evaluar_modelo(xgb_model, \"XGBoost\"),\n",
    "    \"Gradient Boosting\": evaluar_modelo(gb_model,\" Gradient Boosting\"),\n",
    "    \"Nape Bayes\":evaluar_modelo (nb,\"NPB\")\n",
    "}\n",
    "\n",
    "# 📊 Graficar resultados\n",
    "metricas = [\"Accuracy\", \"F1-Score\", \"ROC-AUC\"]\n",
    "valores = np.array(list(resultados.values()))\n",
    "\n",
    "fig, ax = plt.subplots(figsize=(10, 6))\n",
    "bar_width = 0.25\n",
    "indices = np.arange(len(resultados))\n",
    "\n",
    "# Crear barras para cada métrica\n",
    "for i, metric in enumerate(metricas):\n",
    "    ax.bar(indices + i * bar_width, valores[:, i], width=bar_width, label=metric)\n",
    "\n",
    "# Etiquetas y formato\n",
    "ax.set_xticks(indices + bar_width)\n",
    "ax.set_xticklabels(resultados.keys(), rotation=25)\n",
    "ax.set_ylabel(\"Puntuación\")\n",
    "ax.set_title(\"Comparación de Modelos\")\n",
    "ax.legend()\n",
    "\n",
    "# Mostrar gráfico\n",
    "plt.show()"
   ]
  },
  {
   "cell_type": "code",
   "execution_count": null,
   "metadata": {},
   "outputs": [],
   "source": [
    "ddd"
   ]
  },
  {
   "cell_type": "markdown",
   "metadata": {},
   "source": [
    "## Selección de modelos base"
   ]
  },
  {
   "cell_type": "code",
   "execution_count": null,
   "metadata": {},
   "outputs": [],
   "source": [
    "from sklearn.model_selection import cross_val_score, KFold\n"
   ]
  },
  {
   "cell_type": "code",
   "execution_count": 36,
   "metadata": {},
   "outputs": [],
   "source": [
    "scoring = {\n",
    "    \"accuracy\": \"accuracy\",\n",
    "    \"f1\": \"f1\",\n",
    "    \"precision\": \"precision\",\n",
    "    \"recall\": \"recall\",\n",
    "    \"roc_auc\": \"roc_auc\"\n",
    "}"
   ]
  },
  {
   "cell_type": "code",
   "execution_count": null,
   "metadata": {},
   "outputs": [],
   "source": [
    "\n",
    "# 📌 Definir K-Fold CV\n",
    "kf = KFold(n_splits=5, shuffle=True, random_state=42)\n",
    "models={\"logistic Regresion\":logreg_model,\n",
    "        \"Random forest\":rf_model,\n",
    "        \"XGBoost\":xgb_model,\n",
    "        #\"Super vector machine\":svm_model,\n",
    "        \"Gradient Boosting\":gb_model,\n",
    "        \"Nape Bayes\":nb}"
   ]
  },
  {
   "cell_type": "code",
   "execution_count": 37,
   "metadata": {},
   "outputs": [
    {
     "ename": "NameError",
     "evalue": "name 'models' is not defined",
     "output_type": "error",
     "traceback": [
      "\u001b[31m---------------------------------------------------------------------------\u001b[39m",
      "\u001b[31mNameError\u001b[39m                                 Traceback (most recent call last)",
      "\u001b[36mCell\u001b[39m\u001b[36m \u001b[39m\u001b[32mIn[37]\u001b[39m\u001b[32m, line 39\u001b[39m\n\u001b[32m     35\u001b[39m     \u001b[38;5;28;01mreturn\u001b[39;00m pd.DataFrame(results)\n\u001b[32m     37\u001b[39m \u001b[38;5;66;03m# Usar una de las dos opciones:\u001b[39;00m\n\u001b[32m     38\u001b[39m \u001b[38;5;66;03m# Opción 1\u001b[39;00m\n\u001b[32m---> \u001b[39m\u001b[32m39\u001b[39m results_df = evaluate_models_efficiently(\u001b[43mmodels\u001b[49m, X_final, y, kf, scoring)\n\u001b[32m     41\u001b[39m \u001b[38;5;66;03m# O Opción 2 (paralela)\u001b[39;00m\n\u001b[32m     42\u001b[39m \u001b[38;5;66;03m# results_df = evaluate_models_parallel(models, X, y, kf, scoring, n_jobs=4)  # Ajusta n_jobs según tus CPU cores\u001b[39;00m\n",
      "\u001b[31mNameError\u001b[39m: name 'models' is not defined"
     ]
    }
   ],
   "source": [
    "# Importaciones necesarias\n",
    "from sklearn.model_selection import cross_validate\n",
    "import numpy as np\n",
    "import pandas as pd\n",
    "from joblib import Parallel, delayed\n",
    "\n",
    "# Opción 1: Usar cross_validate en lugar de cross_val_score\n",
    "# cross_validate es más eficiente porque calcula todas las métricas en una sola pasada\n",
    "def evaluate_models_efficiently(models, X_final, y, kf, scoring):\n",
    "    results = []\n",
    "    for name, model in models.items():\n",
    "        # Calcula todas las métricas de una vez\n",
    "        cv_results = cross_validate(model, X_final, y, cv=kf, scoring=scoring)\n",
    "        \n",
    "        # Calcula promedios para cada métrica\n",
    "        scores = {metric: np.mean(cv_results[f'test_{metric}']) for metric in scoring}\n",
    "        scores[\"Model\"] = name\n",
    "        results.append(scores)\n",
    "        print(f\"Modelo {name} evaluado\")\n",
    "    \n",
    "    return pd.DataFrame(results)\n",
    "\n",
    "# Opción 2: Procesamiento paralelo\n",
    "def evaluate_model(name, model, X_final, y, kf, scoring):\n",
    "    scores = {metric: cross_val_score(model, X_final, y, cv=kf, scoring=scoring[metric]).mean() for metric in scoring}\n",
    "    scores[\"Model\"] = name\n",
    "    print(f\"Modelo {name} evaluado\")\n",
    "    return scores\n",
    "\n",
    "def evaluate_models_parallel(models, X_final, y, kf, scoring, n_jobs=-1):\n",
    "    results = Parallel(n_jobs=n_jobs)(\n",
    "        delayed(evaluate_model)(name, model, X_final, y, kf, scoring) \n",
    "        for name, model in models.items()\n",
    "    )\n",
    "    return pd.DataFrame(results)\n",
    "\n",
    "# Usar una de las dos opciones:\n",
    "# Opción 1\n",
    "results_df = evaluate_models_efficiently(models, X_final, y, kf, scoring)\n",
    "\n",
    "# O Opción 2 (paralela)\n",
    "# results_df = evaluate_models_parallel(models, X, y, kf, scoring, n_jobs=4)  # Ajusta n_jobs según tus CPU cores\n"
   ]
  },
  {
   "cell_type": "code",
   "execution_count": 55,
   "metadata": {},
   "outputs": [
    {
     "data": {
      "text/html": [
       "<div>\n",
       "<style scoped>\n",
       "    .dataframe tbody tr th:only-of-type {\n",
       "        vertical-align: middle;\n",
       "    }\n",
       "\n",
       "    .dataframe tbody tr th {\n",
       "        vertical-align: top;\n",
       "    }\n",
       "\n",
       "    .dataframe thead th {\n",
       "        text-align: right;\n",
       "    }\n",
       "</style>\n",
       "<table border=\"1\" class=\"dataframe\">\n",
       "  <thead>\n",
       "    <tr style=\"text-align: right;\">\n",
       "      <th></th>\n",
       "      <th>accuracy</th>\n",
       "      <th>precision</th>\n",
       "      <th>recall</th>\n",
       "      <th>f1</th>\n",
       "      <th>roc_auc</th>\n",
       "    </tr>\n",
       "    <tr>\n",
       "      <th>Model</th>\n",
       "      <th></th>\n",
       "      <th></th>\n",
       "      <th></th>\n",
       "      <th></th>\n",
       "      <th></th>\n",
       "    </tr>\n",
       "  </thead>\n",
       "  <tbody>\n",
       "    <tr>\n",
       "      <th>logistic Regresion</th>\n",
       "      <td>0.990781</td>\n",
       "      <td>0.986027</td>\n",
       "      <td>0.994684</td>\n",
       "      <td>0.990335</td>\n",
       "      <td>0.990974</td>\n",
       "    </tr>\n",
       "    <tr>\n",
       "      <th>Random forest</th>\n",
       "      <td>0.997941</td>\n",
       "      <td>0.997730</td>\n",
       "      <td>0.997931</td>\n",
       "      <td>0.997829</td>\n",
       "      <td>0.997947</td>\n",
       "    </tr>\n",
       "    <tr>\n",
       "      <th>XGBoost</th>\n",
       "      <td>0.998031</td>\n",
       "      <td>0.997593</td>\n",
       "      <td>0.998258</td>\n",
       "      <td>0.997924</td>\n",
       "      <td>0.998045</td>\n",
       "    </tr>\n",
       "    <tr>\n",
       "      <th>Gradient Boosting</th>\n",
       "      <td>0.996711</td>\n",
       "      <td>0.995579</td>\n",
       "      <td>0.997503</td>\n",
       "      <td>0.996540</td>\n",
       "      <td>0.996748</td>\n",
       "    </tr>\n",
       "    <tr>\n",
       "      <th>Nape Bayes</th>\n",
       "      <td>0.951174</td>\n",
       "      <td>0.950234</td>\n",
       "      <td>0.946739</td>\n",
       "      <td>0.948480</td>\n",
       "      <td>0.950960</td>\n",
       "    </tr>\n",
       "  </tbody>\n",
       "</table>\n",
       "</div>"
      ],
      "text/plain": [
       "                    accuracy  precision    recall        f1   roc_auc\n",
       "Model                                                                \n",
       "logistic Regresion  0.990781   0.986027  0.994684  0.990335  0.990974\n",
       "Random forest       0.997941   0.997730  0.997931  0.997829  0.997947\n",
       "XGBoost             0.998031   0.997593  0.998258  0.997924  0.998045\n",
       "Gradient Boosting   0.996711   0.995579  0.997503  0.996540  0.996748\n",
       "Nape Bayes          0.951174   0.950234  0.946739  0.948480  0.950960"
      ]
     },
     "execution_count": 55,
     "metadata": {},
     "output_type": "execute_result"
    }
   ],
   "source": [
    "results_df.set_index('Model')"
   ]
  },
  {
   "cell_type": "code",
   "execution_count": null,
   "metadata": {},
   "outputs": [],
   "source": []
  },
  {
   "cell_type": "code",
   "execution_count": null,
   "metadata": {},
   "outputs": [],
   "source": []
  },
  {
   "cell_type": "markdown",
   "metadata": {},
   "source": [
    "Después de analizar métricas clave como accuracy, precision, recall, f1-score y roc_auc, la elección de los tres mejores modelos dependerá del equilibrio entre precisión y estabilidad.\n",
    "\n"
   ]
  },
  {
   "cell_type": "markdown",
   "metadata": {},
   "source": [
    "1️. XGBoost →  primer lugar\n",
    "- Máxima precisión y estabilidad (99.64% en cross-validation con solo 0.0014 de desviación estándar).\n",
    "- Mejor Log Loss (0.00648), lo que significa que sus probabilidades son las más confiables.\n",
    "- Solo 12 errores en la matriz de confusión.\n",
    "Es el mejor modelo en términos de precisión, estabilidad y calibración de probabilidades.\n",
    "\n",
    "2.  Gradient Boosting → segundo lugar\n",
    "- Desempeño casi idéntico a XGBoost en precisión media (99.50%).\n",
    "- Mejor Log Loss que Random Forest (0.0152 vs 0.1359), lo que significa que estima mejor las probabilidades.\n",
    "- Desviación estándar muy baja (0.0016), lo que indica estabilidad.\n",
    "- Aunque comete más errores que XGBoost y Random Forest (24 vs 12), pero sigue siendo una excelente opción.\n",
    "\n",
    "3️. Random Forest → tercer ugar\n",
    "- Gran precisión, pero menor calibración de probabilidades (Log Loss 0.1359).\n",
    "- Igual número de errores que XGBoost (12), pero menor confiabilidad en las probabilidades.\n",
    "- Desviación estándar baja (0.0016), lo que indica estabilidad.\n",
    "\n",
    "## Conclusión Final \n",
    "- Los 3 mejores modelos son: XGBoost, Gradient Boosting y Random Forest.\n",
    "- XGBoost es el mejor en precisión, estabilidad  de probabilidades.\n",
    "- Gradient Boosting es una excelente alternativa con buena precisión.\n",
    "- Random Forest sigue siendo fuerte, pero tiene peor calibración de probabilidades.\n",
    "-  Naïve Bayes y Logistic Regression son descartados por menor precisión, mayor variabilidad y peor Log Loss."
   ]
  }
 ],
 "metadata": {
  "kernelspec": {
   "display_name": ".venv",
   "language": "python",
   "name": "python3"
  },
  "language_info": {
   "codemirror_mode": {
    "name": "ipython",
    "version": 3
   },
   "file_extension": ".py",
   "mimetype": "text/x-python",
   "name": "python",
   "nbconvert_exporter": "python",
   "pygments_lexer": "ipython3",
   "version": "3.11.7"
  }
 },
 "nbformat": 4,
 "nbformat_minor": 2
}
