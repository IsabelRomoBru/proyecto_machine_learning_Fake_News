{
 "cells": [
  {
   "cell_type": "code",
   "execution_count": 1,
   "metadata": {},
   "outputs": [],
   "source": [
    "from sklearn.model_selection import train_test_split\n",
    "from sklearn.model_selection import train_test_split\n",
    "from sklearn.feature_extraction.text import TfidfVectorizer\n",
    "from xgboost import XGBClassifier\n",
    "from sklearn.linear_model import LogisticRegression\n",
    "from sklearn.metrics import classification_report, confusion_matrix\n",
    "from sklearn.metrics import confusion_matrix, classification_report\n",
    "import pandas as pd\n",
    "import numpy as np\n",
    "from sklearn.feature_extraction.text import TfidfVectorizer\n",
    "from sklearn.model_selection import train_test_split\n",
    "from sklearn.preprocessing import StandardScaler,LabelEncoder\n",
    "import matplotlib.pyplot as plt\n",
    "import seaborn as sns"
   ]
  },
  {
   "cell_type": "code",
   "execution_count": 2,
   "metadata": {},
   "outputs": [],
   "source": [
    "df=pd.read_csv('/Users/isaromobru/Desktop/FakeNews 10.57.24/proyecto_machine_learning_Fake_News/notebooks/processedstopword.csv')"
   ]
  },
  {
   "cell_type": "markdown",
   "metadata": {},
   "source": [
    "## División de X e y"
   ]
  },
  {
   "cell_type": "code",
   "execution_count": 6,
   "metadata": {},
   "outputs": [
    {
     "ename": "ValueError",
     "evalue": "Found input variables with inconsistent numbers of samples: [3, 44689]",
     "output_type": "error",
     "traceback": [
      "\u001b[31m---------------------------------------------------------------------------\u001b[39m",
      "\u001b[31mValueError\u001b[39m                                Traceback (most recent call last)",
      "\u001b[36mCell\u001b[39m\u001b[36m \u001b[39m\u001b[32mIn[6]\u001b[39m\u001b[32m, line 14\u001b[39m\n\u001b[32m     11\u001b[39m X_tfidf = vectorizer.fit_transform(X)\n\u001b[32m     13\u001b[39m \u001b[38;5;66;03m# Dividir en conjunto de entrenamiento y prueba\u001b[39;00m\n\u001b[32m---> \u001b[39m\u001b[32m14\u001b[39m X_train, X_test, y_train, y_test = \u001b[43mtrain_test_split\u001b[49m\u001b[43m(\u001b[49m\u001b[43mX_tfidf\u001b[49m\u001b[43m,\u001b[49m\u001b[43m \u001b[49m\u001b[43my\u001b[49m\u001b[43m,\u001b[49m\u001b[43m \u001b[49m\u001b[43mtest_size\u001b[49m\u001b[43m=\u001b[49m\u001b[32;43m0.2\u001b[39;49m\u001b[43m,\u001b[49m\u001b[43m \u001b[49m\u001b[43mrandom_state\u001b[49m\u001b[43m=\u001b[49m\u001b[32;43m42\u001b[39;49m\u001b[43m)\u001b[49m\n",
      "\u001b[36mFile \u001b[39m\u001b[32m~/Desktop/FakeNews 10.57.24/proyecto_machine_learning_Fake_News/.venv/lib/python3.11/site-packages/sklearn/utils/_param_validation.py:216\u001b[39m, in \u001b[36mvalidate_params.<locals>.decorator.<locals>.wrapper\u001b[39m\u001b[34m(*args, **kwargs)\u001b[39m\n\u001b[32m    210\u001b[39m \u001b[38;5;28;01mtry\u001b[39;00m:\n\u001b[32m    211\u001b[39m     \u001b[38;5;28;01mwith\u001b[39;00m config_context(\n\u001b[32m    212\u001b[39m         skip_parameter_validation=(\n\u001b[32m    213\u001b[39m             prefer_skip_nested_validation \u001b[38;5;129;01mor\u001b[39;00m global_skip_validation\n\u001b[32m    214\u001b[39m         )\n\u001b[32m    215\u001b[39m     ):\n\u001b[32m--> \u001b[39m\u001b[32m216\u001b[39m         \u001b[38;5;28;01mreturn\u001b[39;00m \u001b[43mfunc\u001b[49m\u001b[43m(\u001b[49m\u001b[43m*\u001b[49m\u001b[43margs\u001b[49m\u001b[43m,\u001b[49m\u001b[43m \u001b[49m\u001b[43m*\u001b[49m\u001b[43m*\u001b[49m\u001b[43mkwargs\u001b[49m\u001b[43m)\u001b[49m\n\u001b[32m    217\u001b[39m \u001b[38;5;28;01mexcept\u001b[39;00m InvalidParameterError \u001b[38;5;28;01mas\u001b[39;00m e:\n\u001b[32m    218\u001b[39m     \u001b[38;5;66;03m# When the function is just a wrapper around an estimator, we allow\u001b[39;00m\n\u001b[32m    219\u001b[39m     \u001b[38;5;66;03m# the function to delegate validation to the estimator, but we replace\u001b[39;00m\n\u001b[32m    220\u001b[39m     \u001b[38;5;66;03m# the name of the estimator by the name of the function in the error\u001b[39;00m\n\u001b[32m    221\u001b[39m     \u001b[38;5;66;03m# message to avoid confusion.\u001b[39;00m\n\u001b[32m    222\u001b[39m     msg = re.sub(\n\u001b[32m    223\u001b[39m         \u001b[33mr\u001b[39m\u001b[33m\"\u001b[39m\u001b[33mparameter of \u001b[39m\u001b[33m\\\u001b[39m\u001b[33mw+ must be\u001b[39m\u001b[33m\"\u001b[39m,\n\u001b[32m    224\u001b[39m         \u001b[33mf\u001b[39m\u001b[33m\"\u001b[39m\u001b[33mparameter of \u001b[39m\u001b[38;5;132;01m{\u001b[39;00mfunc.\u001b[34m__qualname__\u001b[39m\u001b[38;5;132;01m}\u001b[39;00m\u001b[33m must be\u001b[39m\u001b[33m\"\u001b[39m,\n\u001b[32m    225\u001b[39m         \u001b[38;5;28mstr\u001b[39m(e),\n\u001b[32m    226\u001b[39m     )\n",
      "\u001b[36mFile \u001b[39m\u001b[32m~/Desktop/FakeNews 10.57.24/proyecto_machine_learning_Fake_News/.venv/lib/python3.11/site-packages/sklearn/model_selection/_split.py:2848\u001b[39m, in \u001b[36mtrain_test_split\u001b[39m\u001b[34m(test_size, train_size, random_state, shuffle, stratify, *arrays)\u001b[39m\n\u001b[32m   2845\u001b[39m \u001b[38;5;28;01mif\u001b[39;00m n_arrays == \u001b[32m0\u001b[39m:\n\u001b[32m   2846\u001b[39m     \u001b[38;5;28;01mraise\u001b[39;00m \u001b[38;5;167;01mValueError\u001b[39;00m(\u001b[33m\"\u001b[39m\u001b[33mAt least one array required as input\u001b[39m\u001b[33m\"\u001b[39m)\n\u001b[32m-> \u001b[39m\u001b[32m2848\u001b[39m arrays = \u001b[43mindexable\u001b[49m\u001b[43m(\u001b[49m\u001b[43m*\u001b[49m\u001b[43marrays\u001b[49m\u001b[43m)\u001b[49m\n\u001b[32m   2850\u001b[39m n_samples = _num_samples(arrays[\u001b[32m0\u001b[39m])\n\u001b[32m   2851\u001b[39m n_train, n_test = _validate_shuffle_split(\n\u001b[32m   2852\u001b[39m     n_samples, test_size, train_size, default_test_size=\u001b[32m0.25\u001b[39m\n\u001b[32m   2853\u001b[39m )\n",
      "\u001b[36mFile \u001b[39m\u001b[32m~/Desktop/FakeNews 10.57.24/proyecto_machine_learning_Fake_News/.venv/lib/python3.11/site-packages/sklearn/utils/validation.py:532\u001b[39m, in \u001b[36mindexable\u001b[39m\u001b[34m(*iterables)\u001b[39m\n\u001b[32m    502\u001b[39m \u001b[38;5;250m\u001b[39m\u001b[33;03m\"\"\"Make arrays indexable for cross-validation.\u001b[39;00m\n\u001b[32m    503\u001b[39m \n\u001b[32m    504\u001b[39m \u001b[33;03mChecks consistent length, passes through None, and ensures that everything\u001b[39;00m\n\u001b[32m   (...)\u001b[39m\u001b[32m    528\u001b[39m \u001b[33;03m[[1, 2, 3], array([2, 3, 4]), None, <...Sparse...dtype 'int64'...shape (3, 1)>]\u001b[39;00m\n\u001b[32m    529\u001b[39m \u001b[33;03m\"\"\"\u001b[39;00m\n\u001b[32m    531\u001b[39m result = [_make_indexable(X) \u001b[38;5;28;01mfor\u001b[39;00m X \u001b[38;5;129;01min\u001b[39;00m iterables]\n\u001b[32m--> \u001b[39m\u001b[32m532\u001b[39m \u001b[43mcheck_consistent_length\u001b[49m\u001b[43m(\u001b[49m\u001b[43m*\u001b[49m\u001b[43mresult\u001b[49m\u001b[43m)\u001b[49m\n\u001b[32m    533\u001b[39m \u001b[38;5;28;01mreturn\u001b[39;00m result\n",
      "\u001b[36mFile \u001b[39m\u001b[32m~/Desktop/FakeNews 10.57.24/proyecto_machine_learning_Fake_News/.venv/lib/python3.11/site-packages/sklearn/utils/validation.py:475\u001b[39m, in \u001b[36mcheck_consistent_length\u001b[39m\u001b[34m(*arrays)\u001b[39m\n\u001b[32m    473\u001b[39m uniques = np.unique(lengths)\n\u001b[32m    474\u001b[39m \u001b[38;5;28;01mif\u001b[39;00m \u001b[38;5;28mlen\u001b[39m(uniques) > \u001b[32m1\u001b[39m:\n\u001b[32m--> \u001b[39m\u001b[32m475\u001b[39m     \u001b[38;5;28;01mraise\u001b[39;00m \u001b[38;5;167;01mValueError\u001b[39;00m(\n\u001b[32m    476\u001b[39m         \u001b[33m\"\u001b[39m\u001b[33mFound input variables with inconsistent numbers of samples: \u001b[39m\u001b[38;5;132;01m%r\u001b[39;00m\u001b[33m\"\u001b[39m\n\u001b[32m    477\u001b[39m         % [\u001b[38;5;28mint\u001b[39m(l) \u001b[38;5;28;01mfor\u001b[39;00m l \u001b[38;5;129;01min\u001b[39;00m lengths]\n\u001b[32m    478\u001b[39m     )\n",
      "\u001b[31mValueError\u001b[39m: Found input variables with inconsistent numbers of samples: [3, 44689]"
     ]
    }
   ],
   "source": [
    "df['text'] = df['text'].fillna(\"\")\n",
    "df['title'] = df['title'].fillna(\"\")\n",
    "df['subject'] = df['subject'].fillna(\"\")\n",
    "\n",
    "# Extraer características y etiquetas\n",
    "X = df[['text','title','subject']]  # Usaremos el texto del artículo como entrada\n",
    "y = df['label'] # La variable objetivo\n",
    "\n",
    "# Convertir el texto en una representación numérica usando TF-IDF\n",
    "vectorizer = TfidfVectorizer(max_features=3000)  # Limitar a 5000 características para optimización\n",
    "X_tfidf = vectorizer.fit_transform(X)\n",
    "\n",
    "# Dividir en conjunto de entrenamiento y prueba\n",
    "X_train, X_test, y_train, y_test = train_test_split(X_tfidf, y, test_size=0.2, random_state=42)"
   ]
  },
  {
   "cell_type": "code",
   "execution_count": 7,
   "metadata": {},
   "outputs": [
    {
     "name": "stdout",
     "output_type": "stream",
     "text": [
      "Forma de X_tfidf: (3, 3)\n",
      "Número de muestras en y: 44689\n"
     ]
    }
   ],
   "source": [
    "print(\"Forma de X_tfidf:\", X_tfidf.shape)\n",
    "print(\"Número de muestras en y:\", len(y))\n"
   ]
  },
  {
   "cell_type": "code",
   "execution_count": 8,
   "metadata": {},
   "outputs": [
    {
     "name": "stdout",
     "output_type": "stream",
     "text": [
      "Muestras en df['text']: 44689\n",
      "Forma de X_tfidf: (44689, 10000)\n"
     ]
    }
   ],
   "source": [
    "# Rellenar valores nulos\n",
    "df['text'] = df['text'].fillna(\"\")\n",
    "df['title'] = df['title'].fillna(\"\")\n",
    "\n",
    "# Verifica la cantidad de muestras\n",
    "print(\"Muestras en df['text']:\", len(df['text']))  # Debería ser 44689\n",
    "\n",
    "# Aplica la vectorización\n",
    "tfidf_text = TfidfVectorizer(max_features=10000)\n",
    "X_tfidf = tfidf_text.fit_transform(df['text'])\n",
    "print(\"Forma de X_tfidf:\", X_tfidf.shape)\n",
    "\n"
   ]
  },
  {
   "cell_type": "code",
   "execution_count": 9,
   "metadata": {},
   "outputs": [],
   "source": [
    "from sklearn.model_selection import train_test_split\n",
    "\n",
    "X_train, X_test, y_train, y_test = train_test_split(X_tfidf, y, test_size=0.2, random_state=42)\n"
   ]
  },
  {
   "cell_type": "code",
   "execution_count": null,
   "metadata": {},
   "outputs": [],
   "source": []
  },
  {
   "cell_type": "markdown",
   "metadata": {},
   "source": [
    "## Regresión Logística"
   ]
  },
  {
   "cell_type": "code",
   "execution_count": 25,
   "metadata": {},
   "outputs": [
    {
     "data": {
      "text/plain": [
       "(array([[4587,   61],\n",
       "        [  62, 4228]]),\n",
       " '              precision    recall  f1-score   support\\n\\n           0       0.99      0.99      0.99      4648\\n           1       0.99      0.99      0.99      4290\\n\\n    accuracy                           0.99      8938\\n   macro avg       0.99      0.99      0.99      8938\\nweighted avg       0.99      0.99      0.99      8938\\n')"
      ]
     },
     "execution_count": 25,
     "metadata": {},
     "output_type": "execute_result"
    }
   ],
   "source": [
    "\n",
    "# Entrenar el modelo de Regresión Logística\n",
    "logreg_model = LogisticRegression(max_iter=500, solver='liblinear')  # Solver optimizado para datos grandes\n",
    "logreg_model.fit(X_train, y_train)\n",
    "\n",
    "# Predicciones en el conjunto de prueba\n",
    "y_pred_logreg = logreg_model.predict(X_test)\n",
    "\n",
    "# Evaluar el modelo\n",
    "conf_matrix_logreg = confusion_matrix(y_test, y_pred_logreg)\n",
    "class_report_logreg = classification_report(y_test, y_pred_logreg)\n",
    "\n",
    "# Mostrar los resultados\n",
    "conf_matrix_logreg, class_report_logreg"
   ]
  },
  {
   "cell_type": "markdown",
   "metadata": {},
   "source": [
    "El modelo indica unos valores muy altos.\n",
    "- Precisión= 0,99, lo que quiere decir un 99% de precisión \n",
    "- f1-score y Recall= Respectivamente estos indicadores muestran que tan bien el modelo encuentra todos los casos de una clase y el balance entre precisión y recall, en nuestro caso un 0,99"
   ]
  },
  {
   "cell_type": "code",
   "execution_count": 26,
   "metadata": {},
   "outputs": [
    {
     "data": {
      "image/png": "[encoded data removed]",
      "text/plain": [
       "<Figure size 600x500 with 2 Axes>"
      ]
     },
     "metadata": {},
     "output_type": "display_data"
    }
   ],
   "source": [
    "# Definir valores de la matriz de confusión\n",
    "cm = np.array([[4589, 59],\n",
    "               [65, 4225]])\n",
    "\n",
    "# Etiquetas de las clases\n",
    "labels = ['Fake', 'True']\n",
    "\n",
    "# Graficar la matriz de confusión\n",
    "plt.figure(figsize=(6, 5))\n",
    "sns.heatmap(cm, annot=True, fmt='d', cmap='Blues', xticklabels=labels, yticklabels=labels)\n",
    "plt.xlabel('Predicción')\n",
    "plt.ylabel('Real')\n",
    "plt.title('Matriz de Confusión de la regresión logística')\n",
    "plt.show();\n"
   ]
  },
  {
   "cell_type": "markdown",
   "metadata": {},
   "source": [
    "Esta matriz de confusión nos indica que nuestro modelo clasifica 4589 fakes cuando son fake, 4225 True cuando son True. \n",
    "Por otro lado, se equivoca clasificando Fake cuando es True 65 y True cuando es Fake 59, son valores bastante bajos teniendo en cuenta el tamaño de la muestra "
   ]
  },
  {
   "cell_type": "markdown",
   "metadata": {},
   "source": [
    "la regresión logística tiene una precisión muy alta de un 0,99, por lo que voy a comprobar si tiene overfitting"
   ]
  },
  {
   "cell_type": "code",
   "execution_count": 14,
   "metadata": {},
   "outputs": [
    {
     "data": {
      "text/plain": [
       "(0.06175222933010205, 0.0689247650154716)"
      ]
     },
     "execution_count": 14,
     "metadata": {},
     "output_type": "execute_result"
    }
   ],
   "source": [
    "from sklearn.metrics import accuracy_score, log_loss, confusion_matrix, classification_report\n",
    "\n",
    "# 5. Evaluación del modelo\n",
    "# Predicciones\n",
    "y_train_pred_proba = logreg_model.predict_proba(X_train)[:, 1]  # Probabilidad de la clase 1 en entrenamiento\n",
    "y_test_pred_proba = logreg_model.predict_proba(X_test)[:, 1]    # Probabilidad de la clase 1 en prueba\n",
    "y_test_pred = logreg_model.predict(X_test)\n",
    "\n",
    "# Cálculo de log loss\n",
    "log_loss_train = log_loss(y_train, y_train_pred_proba)\n",
    "log_loss_test = log_loss(y_test, y_test_pred_proba)\n",
    "\n",
    "log_loss_train, log_loss_test"
   ]
  },
  {
   "cell_type": "markdown",
   "metadata": {},
   "source": [
    "La log loss (pérdida logarítmica) es una métrica que mide qué tan bien un modelo de clasificación predice probabilidades en lugar de simplemente etiquetas. Se usa especialmente en modelos de clasificación binaria y multiclase.\n",
    "La diferencia en nuestro caso es muy pequeña (0,0072) lo que indica que nuestro modelo genera bien y no causa overfitting\n"
   ]
  },
  {
   "cell_type": "markdown",
   "metadata": {},
   "source": [
    "## XG-Boost"
   ]
  },
  {
   "cell_type": "code",
   "execution_count": 27,
   "metadata": {},
   "outputs": [
    {
     "name": "stderr",
     "output_type": "stream",
     "text": [
      "/Users/isaromobru/Desktop/FakeNews 10.57.24/proyecto_machine_learning_Fake_News/.venv/lib/python3.11/site-packages/xgboost/core.py:158: UserWarning: [11:41:44] WARNING: /Users/runner/work/xgboost/xgboost/src/learner.cc:740: \n",
      "Parameters: { \"use_label_encoder\" } are not used.\n",
      "\n",
      "  warnings.warn(smsg, UserWarning)\n"
     ]
    },
    {
     "data": {
      "text/plain": [
       "(array([[4636,   12],\n",
       "        [  11, 4279]]),\n",
       " '              precision    recall  f1-score   support\\n\\n           0     0.9976    0.9974    0.9975      4648\\n           1     0.9972    0.9974    0.9973      4290\\n\\n    accuracy                         0.9974      8938\\n   macro avg     0.9974    0.9974    0.9974      8938\\nweighted avg     0.9974    0.9974    0.9974      8938\\n')"
      ]
     },
     "execution_count": 27,
     "metadata": {},
     "output_type": "execute_result"
    }
   ],
   "source": [
    "from xgboost import XGBClassifier\n",
    "\n",
    "xgb_model = XGBClassifier(\n",
    "    eval_metric='logloss',   # Métrica de evaluación\n",
    "    use_label_encoder=False, # Evita el warning innecesario\n",
    "    max_depth=6,             # Controla la complejidad del modelo\n",
    "    learning_rate=0.1,       # Tasa de aprendizaje equilibrada\n",
    "    n_estimators=300,        # Aumenta el número de árboles para mejorar el ajuste\n",
    "    subsample=0.8,           # Reduce overfitting usando solo el 80% de los datos por árbol\n",
    "    colsample_bytree=0.8,    # Usa el 80% de las características en cada árbol\n",
    "    gamma=0.1,               # Ayuda a la regularización\n",
    "    reg_lambda=1,            # Regularización L2 para evitar overfitting\n",
    "    reg_alpha=0.1            # Regularización L1\n",
    ")\n",
    "\n",
    "# Entrenar el modelo\n",
    "xgb_model.fit(X_train, y_train)\n",
    "\n",
    "# Predicciones\n",
    "y_pred_xgb = xgb_model.predict(X_test)\n",
    "\n",
    "# Evaluar el modelo\n",
    "conf_matrix = confusion_matrix(y_test, y_pred_xgb)\n",
    "class_report = classification_report(y_test, y_pred_xgb, digits=4)\n",
    "\n",
    "# Mostrar los resultados\n",
    "conf_matrix, class_report\n"
   ]
  },
  {
   "cell_type": "code",
   "execution_count": 28,
   "metadata": {},
   "outputs": [
    {
     "data": {
      "image/png": "[encoded data removed]",
      "text/plain": [
       "<Figure size 600x500 with 2 Axes>"
      ]
     },
     "metadata": {},
     "output_type": "display_data"
    },
    {
     "name": "stderr",
     "output_type": "stream",
     "text": [
      "/Users/isaromobru/Desktop/FakeNews 10.57.24/proyecto_machine_learning_Fake_News/.venv/lib/python3.11/site-packages/xgboost/core.py:158: UserWarning: [11:43:50] WARNING: /Users/runner/work/xgboost/xgboost/src/learner.cc:740: \n",
      "Parameters: { \"use_label_encoder\" } are not used.\n",
      "\n",
      "  warnings.warn(smsg, UserWarning)\n",
      "/Users/isaromobru/Desktop/FakeNews 10.57.24/proyecto_machine_learning_Fake_News/.venv/lib/python3.11/site-packages/xgboost/core.py:158: UserWarning: [11:45:00] WARNING: /Users/runner/work/xgboost/xgboost/src/learner.cc:740: \n",
      "Parameters: { \"use_label_encoder\" } are not used.\n",
      "\n",
      "  warnings.warn(smsg, UserWarning)\n",
      "/Users/isaromobru/Desktop/FakeNews 10.57.24/proyecto_machine_learning_Fake_News/.venv/lib/python3.11/site-packages/xgboost/core.py:158: UserWarning: [11:46:51] WARNING: /Users/runner/work/xgboost/xgboost/src/learner.cc:740: \n",
      "Parameters: { \"use_label_encoder\" } are not used.\n",
      "\n",
      "  warnings.warn(smsg, UserWarning)\n",
      "/Users/isaromobru/Desktop/FakeNews 10.57.24/proyecto_machine_learning_Fake_News/.venv/lib/python3.11/site-packages/xgboost/core.py:158: UserWarning: [11:48:18] WARNING: /Users/runner/work/xgboost/xgboost/src/learner.cc:740: \n",
      "Parameters: { \"use_label_encoder\" } are not used.\n",
      "\n",
      "  warnings.warn(smsg, UserWarning)\n",
      "/Users/isaromobru/Desktop/FakeNews 10.57.24/proyecto_machine_learning_Fake_News/.venv/lib/python3.11/site-packages/xgboost/core.py:158: UserWarning: [11:49:42] WARNING: /Users/runner/work/xgboost/xgboost/src/learner.cc:740: \n",
      "Parameters: { \"use_label_encoder\" } are not used.\n",
      "\n",
      "  warnings.warn(smsg, UserWarning)\n"
     ]
    },
    {
     "data": {
      "text/plain": [
       "(np.float64(0.9965315549013652), np.float64(0.0012796814234147282))"
      ]
     },
     "execution_count": 28,
     "metadata": {},
     "output_type": "execute_result"
    }
   ],
   "source": [
    "import matplotlib.pyplot as plt\n",
    "import seaborn as sns\n",
    "from sklearn.model_selection import cross_val_score\n",
    "\n",
    "# Graficar la matriz de confusión\n",
    "plt.figure(figsize=(6, 5))\n",
    "sns.heatmap([[4636, 12], [11, 4279]], annot=True, fmt='d', cmap='Blues', xticklabels=['Fake', 'True'], yticklabels=['Clase 0', 'Clase 1'])\n",
    "plt.xlabel('Predicción')\n",
    "plt.ylabel('Real')\n",
    "plt.title('Matriz de Confusión - XGBoost')\n",
    "plt.show()\n",
    "\n",
    "# Evaluación de overfitting usando validación cruzada\n",
    "cv_scores = cross_val_score(xgb_model, X_tfidf, y, cv=5, scoring='accuracy')\n",
    "\n",
    "# Mostrar los resultados de validación cruzada\n",
    "cv_scores.mean(), cv_scores.std()\n"
   ]
  },
  {
   "cell_type": "markdown",
   "metadata": {},
   "source": [
    "Alta precisión en validación cruzada (99.65%)\n",
    "El modelo es consistentemente preciso en diferentes subconjuntos de los datos.\n",
    "Si hubiera overfitting, esperaríamos una caída más pronunciada en los datos de validación.\n",
    "Baja variabilidad entre folds (0.0013)\n",
    "La desviación estándar es muy pequeña (0.13%), lo que indica que el modelo es estable y generaliza bien en diferentes subconjuntos.\n",
    "Si la desviación estándar fuera alta (>2-3%), el modelo sería inconsistente.\n"
   ]
  },
  {
   "cell_type": "code",
   "execution_count": 29,
   "metadata": {},
   "outputs": [
    {
     "data": {
      "text/plain": [
       "(0.000626033891097849, 0.01042879662543264)"
      ]
     },
     "execution_count": 29,
     "metadata": {},
     "output_type": "execute_result"
    }
   ],
   "source": [
    "# Calcular las probabilidades predichas para calcular log loss\n",
    "y_train_pred_probaxgb = xgb_model.predict_proba(X_train)[:, 1]  # Probabilidad de la clase 1 en entrenamiento\n",
    "y_test_pred_probaxgb = xgb_model.predict_proba(X_test)[:, 1]    # Probabilidad de la clase 1 en prueba\n",
    "\n",
    "# Calcular log loss en entrenamiento y prueba\n",
    "log_loss_train = log_loss(y_train, y_train_pred_probaxgb)\n",
    "log_loss_test = log_loss(y_test, y_test_pred_probaxgb)\n",
    "\n",
    "# Mostrar los resultados\n",
    "log_loss_train, log_loss_test\n"
   ]
  },
  {
   "cell_type": "markdown",
   "metadata": {},
   "source": [
    "El log loss en entrenamiento es extremadamente bajo (0.0006), lo que indica que el modelo memoriza muy bien los datos de entrenamiento.\n",
    "El log loss en prueba es un poco mayor (0.0104), pero sigue siendo muy bajo.\n",
    "La diferencia entre ambos (0.0098) es pequeña, lo que sugiere que no hay un overfitting grave.\n",
    "El modelo generaliza bien, ya que la diferencia entre entrenamiento y prueba no es demasiado grande."
   ]
  },
  {
   "cell_type": "markdown",
   "metadata": {},
   "source": [
    "El modelo no tiene un problema grave de overfitting. La validación cruzada confirma que el modelo generaliza bien."
   ]
  },
  {
   "cell_type": "markdown",
   "metadata": {},
   "source": [
    "## Gradient boosting"
   ]
  },
  {
   "cell_type": "code",
   "execution_count": 30,
   "metadata": {},
   "outputs": [
    {
     "data": {
      "text/plain": [
       "(array([[4617,   31],\n",
       "        [  14, 4276]]),\n",
       " '              precision    recall  f1-score   support\\n\\n           0       1.00      0.99      1.00      4648\\n           1       0.99      1.00      0.99      4290\\n\\n    accuracy                           0.99      8938\\n   macro avg       0.99      1.00      0.99      8938\\nweighted avg       0.99      0.99      0.99      8938\\n')"
      ]
     },
     "execution_count": 30,
     "metadata": {},
     "output_type": "execute_result"
    }
   ],
   "source": [
    "from sklearn.ensemble import GradientBoostingClassifier\n",
    "\n",
    "# Entrenar el modelo Gradient Boosting\n",
    "gb_model = GradientBoostingClassifier(n_estimators=100, learning_rate=0.1, max_depth=3, random_state=42)\n",
    "gb_model.fit(X_train, y_train)\n",
    "\n",
    "# Predicciones\n",
    "y_pred_gb = gb_model.predict(X_test)\n",
    "\n",
    "# Evaluar el modelo\n",
    "conf_matrix_gb = confusion_matrix(y_test, y_pred_gb)\n",
    "class_report_gb = classification_report(y_test, y_pred_gb)\n",
    "\n",
    "# Mostrar los resultados\n",
    "conf_matrix_gb, class_report_gb"
   ]
  },
  {
   "cell_type": "code",
   "execution_count": 7,
   "metadata": {},
   "outputs": [
    {
     "data": {
      "image/png": "[encoded data removed]",
      "text/plain": [
       "<Figure size 600x500 with 2 Axes>"
      ]
     },
     "metadata": {},
     "output_type": "display_data"
    }
   ],
   "source": [
    "import matplotlib.pyplot as plt\n",
    "import seaborn as sns\n",
    "\n",
    "# Graficar la matriz de confusión para Gradient Boosting\n",
    "plt.figure(figsize=(6, 5))\n",
    "sns.heatmap([[4617, 31], [14, 4276]], annot=True, fmt='d', cmap='Blues', xticklabels=['Clase 0', 'Clase 1'], yticklabels=['Clase 0', 'Clase 1'])\n",
    "plt.xlabel('Predicción')\n",
    "plt.ylabel('Real')\n",
    "plt.title('Matriz de Confusión - Gradient Boosting')\n",
    "plt.show()\n"
   ]
  },
  {
   "cell_type": "markdown",
   "metadata": {},
   "source": [
    "## NP-Bayes"
   ]
  },
  {
   "cell_type": "code",
   "execution_count": 31,
   "metadata": {},
   "outputs": [
    {
     "name": "stdout",
     "output_type": "stream",
     "text": [
      "[[4376  272]\n",
      " [ 316 3974]]\n",
      "              precision    recall  f1-score   support\n",
      "\n",
      "           0       0.93      0.94      0.94      4648\n",
      "           1       0.94      0.93      0.93      4290\n",
      "\n",
      "    accuracy                           0.93      8938\n",
      "   macro avg       0.93      0.93      0.93      8938\n",
      "weighted avg       0.93      0.93      0.93      8938\n",
      "\n"
     ]
    }
   ],
   "source": [
    "from sklearn.naive_bayes import MultinomialNB\n",
    "# Entrenamiento\n",
    "model = MultinomialNB()\n",
    "model.fit(X_train, y_train)\n",
    "\n",
    "# Predicciones\n",
    "y_pred = model.predict(X_test)\n",
    "\n",
    "# Evaluación\n",
    "print(confusion_matrix(y_test, y_pred))\n",
    "print(classification_report(y_test, y_pred))\n"
   ]
  },
  {
   "cell_type": "code",
   "execution_count": 9,
   "metadata": {},
   "outputs": [
    {
     "data": {
      "image/png": "[encoded data removed]",
      "text/plain": [
       "<Figure size 600x500 with 2 Axes>"
      ]
     },
     "metadata": {},
     "output_type": "display_data"
    }
   ],
   "source": [
    "import matplotlib.pyplot as plt\n",
    "import seaborn as sns\n",
    "import numpy as np\n",
    "from sklearn.metrics import confusion_matrix\n",
    "\n",
    "# Definir valores de la matriz de confusión\n",
    "cm = np.array([[4447, 201],\n",
    "               [194, 4096]])\n",
    "\n",
    "# Etiquetas de las clases\n",
    "labels = ['Fake', 'True']\n",
    "\n",
    "# Graficar la matriz de confusión\n",
    "plt.figure(figsize=(6, 5))\n",
    "sns.heatmap(cm, annot=True, fmt='d', cmap='Blues', xticklabels=labels, yticklabels=labels)\n",
    "plt.xlabel('Predicción')\n",
    "plt.ylabel('Real')\n",
    "plt.title('Matriz de Confusión')\n",
    "plt.show();\n"
   ]
  },
  {
   "cell_type": "markdown",
   "metadata": {},
   "source": [
    "# Random Forest\n"
   ]
  },
  {
   "cell_type": "code",
   "execution_count": 32,
   "metadata": {},
   "outputs": [
    {
     "data": {
      "text/plain": [
       "(array([[4641,    7],\n",
       "        [  13, 4277]]),\n",
       " '              precision    recall  f1-score   support\\n\\n           0       1.00      1.00      1.00      4648\\n           1       1.00      1.00      1.00      4290\\n\\n    accuracy                           1.00      8938\\n   macro avg       1.00      1.00      1.00      8938\\nweighted avg       1.00      1.00      1.00      8938\\n')"
      ]
     },
     "execution_count": 32,
     "metadata": {},
     "output_type": "execute_result"
    }
   ],
   "source": [
    "from sklearn.ensemble import RandomForestClassifier\n",
    "\n",
    "# Entrenar el modelo Random Forest\n",
    "rf_model = RandomForestClassifier(n_estimators=100, max_depth=None, random_state=42)\n",
    "rf_model.fit(X_train, y_train)\n",
    "\n",
    "# Predicciones en el conjunto de prueba\n",
    "y_pred_rf = rf_model.predict(X_test)\n",
    "\n",
    "# Evaluar el modelo\n",
    "conf_matrix_rf = confusion_matrix(y_test, y_pred_rf)\n",
    "class_report_rf = classification_report(y_test, y_pred_rf)\n",
    "\n",
    "# Mostrar los resultados\n",
    "conf_matrix_rf, class_report_rf\n"
   ]
  },
  {
   "cell_type": "code",
   "execution_count": 11,
   "metadata": {},
   "outputs": [
    {
     "data": {
      "image/png": "[encoded data removed]",
      "text/plain": [
       "<Figure size 600x500 with 2 Axes>"
      ]
     },
     "metadata": {},
     "output_type": "display_data"
    }
   ],
   "source": [
    "# Definir valores de la matriz de confusión\n",
    "cm = np.array([[4639, 9],\n",
    "               [12, 4278]])\n",
    "\n",
    "# Etiquetas de las clases\n",
    "labels = ['Fake', 'True']\n",
    "\n",
    "# Graficar la matriz de confusión\n",
    "plt.figure(figsize=(6, 5))\n",
    "sns.heatmap(cm, annot=True, fmt='d', cmap='Blues', xticklabels=labels, yticklabels=labels)\n",
    "plt.xlabel('Predicción')\n",
    "plt.ylabel('Real')\n",
    "plt.title('Matriz de Confusión Random Forest')\n",
    "plt.show();\n"
   ]
  },
  {
   "cell_type": "markdown",
   "metadata": {},
   "source": [
    "## Supervector Machine"
   ]
  },
  {
   "cell_type": "code",
   "execution_count": 33,
   "metadata": {},
   "outputs": [
    {
     "data": {
      "text/plain": [
       "(array([[4621,   27],\n",
       "        [  41, 4249]]),\n",
       " '              precision    recall  f1-score   support\\n\\n           0       0.99      0.99      0.99      4648\\n           1       0.99      0.99      0.99      4290\\n\\n    accuracy                           0.99      8938\\n   macro avg       0.99      0.99      0.99      8938\\nweighted avg       0.99      0.99      0.99      8938\\n')"
      ]
     },
     "execution_count": 33,
     "metadata": {},
     "output_type": "execute_result"
    }
   ],
   "source": [
    "from sklearn.svm import SVC\n",
    "# Entrenar el modelo SVM\n",
    "svm_model = SVC(kernel='linear')\n",
    "svm_model.fit(X_train, y_train)\n",
    "\n",
    "# Predicciones en el conjunto de prueba\n",
    "y_pred_svm = svm_model.predict(X_test)\n",
    "\n",
    "# Evaluar el modelo\n",
    "conf_matrix_svm = confusion_matrix(y_test, y_pred_svm)\n",
    "class_report_svm = classification_report(y_test, y_pred_svm)\n",
    "\n",
    "# Mostrar los resultados\n",
    "conf_matrix_svm, class_report_svm"
   ]
  },
  {
   "cell_type": "code",
   "execution_count": 13,
   "metadata": {},
   "outputs": [
    {
     "data": {
      "image/png": "[encoded data removed]",
      "text/plain": [
       "<Figure size 600x500 with 2 Axes>"
      ]
     },
     "metadata": {},
     "output_type": "display_data"
    }
   ],
   "source": [
    "# Definir valores de la matriz de confusión\n",
    "cm = np.array([[4620, 28],\n",
    "               [43, 4247]])\n",
    "\n",
    "# Etiquetas de las clases\n",
    "labels = ['Fake', 'True']\n",
    "\n",
    "# Graficar la matriz de confusión\n",
    "plt.figure(figsize=(6, 5))\n",
    "sns.heatmap(cm, annot=True, fmt='d', cmap='Blues', xticklabels=labels, yticklabels=labels)\n",
    "plt.xlabel('Predicción')\n",
    "plt.ylabel('Real')\n",
    "plt.title('Matriz de Confusión SVM')\n",
    "plt.show();\n"
   ]
  },
  {
   "cell_type": "code",
   "execution_count": 34,
   "metadata": {},
   "outputs": [
    {
     "data": {
      "image/png": "[encoded data removed]",
      "text/plain": [
       "<Figure size 1000x600 with 1 Axes>"
      ]
     },
     "metadata": {},
     "output_type": "display_data"
    }
   ],
   "source": [
    "from sklearn.metrics import accuracy_score, f1_score, roc_auc_score\n",
    "# 📊 Evaluar cada modelo\n",
    "def evaluar_modelo(modelo, nombre):\n",
    "    y_pred = modelo.predict(X_test)\n",
    "    y_prob = modelo.predict_proba(X_test)[:, 1] if hasattr(modelo, \"predict_proba\") else None\n",
    "\n",
    "    acc = accuracy_score(y_test, y_pred)\n",
    "    f1 = f1_score(y_test, y_pred)\n",
    "    auc = roc_auc_score(y_test, y_prob) if y_prob is not None else np.nan\n",
    "    \n",
    "    return [acc, f1, auc]\n",
    "\n",
    "# Guardar resultados en un diccionario\n",
    "resultados = {\n",
    "    \"Regresión Logística\": evaluar_modelo(logreg_model, \"Regresión Logística\"),\n",
    "    \"Random Forest\": evaluar_modelo(rf_model, \"Random Forest\"),\n",
    "    \"XGBoost\": evaluar_modelo(xgb_model, \"XGBoost\"),\n",
    "    \"SVM\": evaluar_modelo(svm_model, \"SVM\"),\n",
    "    \"Nape Bayes\":evaluar_modelo (model,\"NPB\")\n",
    "}\n",
    "\n",
    "# 📊 Graficar resultados\n",
    "metricas = [\"Accuracy\", \"F1-Score\", \"ROC-AUC\"]\n",
    "valores = np.array(list(resultados.values()))\n",
    "\n",
    "fig, ax = plt.subplots(figsize=(10, 6))\n",
    "bar_width = 0.25\n",
    "indices = np.arange(len(resultados))\n",
    "\n",
    "# Crear barras para cada métrica\n",
    "for i, metric in enumerate(metricas):\n",
    "    ax.bar(indices + i * bar_width, valores[:, i], width=bar_width, label=metric)\n",
    "\n",
    "# Etiquetas y formato\n",
    "ax.set_xticks(indices + bar_width)\n",
    "ax.set_xticklabels(resultados.keys(), rotation=25)\n",
    "ax.set_ylabel(\"Puntuación\")\n",
    "ax.set_title(\"Comparación de Modelos\")\n",
    "ax.legend()\n",
    "\n",
    "# Mostrar gráfico\n",
    "plt.show()"
   ]
  },
  {
   "cell_type": "code",
   "execution_count": 63,
   "metadata": {},
   "outputs": [],
   "source": [
    "# Ejemplo de noticia real\n",
    "nueva_noticia = {\n",
    "    'title': \"Zelensky says UK and US volunteers survived Russian attack on hotel that killed four\",\n",
    "    'text': \"The precise significance of US intelligence to Ukraine's war effort has, for obvious reasons, never been spelled out in detail.But any prolonged interruption in the supply of US intelligence could have a catastrophic impact on Ukraine’s ability to defend itself, particularly as the Trump administration has already decided to suspend vital military assistance.Most analysts agree that it performs two important functions: helping Ukraine to plan offensive operations against Russian forces, and giving Kyiv vital advance warning of threats posed by incoming Russian drones and missiles.Satellite information and signal intercepts give Ukrainian forces on the frontline a sense of where Russian forces are, their movements and likely intentions.Without US intelligence, Ukraine will not be able to make such effective use of long-range Western weaponry, like the US-made Himars launchers or Stormshadow missiles supplied by Britain and France.\",\n",
    "    }"
   ]
  },
  {
   "cell_type": "code",
   "execution_count": 65,
   "metadata": {},
   "outputs": [
    {
     "data": {
      "text/plain": [
       "\"precise significance US intelligence Ukraine 's war effort obvious reason never spell detail prolong interruption supply US intelligence could catastrophic impact Ukraine ’s ability defend particularly Trump administration already decide suspend vital military assistance analyst agree perform two important function help Ukraine plan offensive operation russian force give Kyiv vital advance warning threat pose income russian drone missile satellite information signal intercept give ukrainian force frontline sense russian force movement likely intention without US intelligence Ukraine able make effective use long range western weaponry like US make Himars launcher stormshadow missile supply Britain France\""
      ]
     },
     "execution_count": 65,
     "metadata": {},
     "output_type": "execute_result"
    }
   ],
   "source": [
    "import nltk\n",
    "from nltk.corpus import stopwords\n",
    "from nltk.tokenize import word_tokenize\n",
    "from nltk.stem import WordNetLemmatizer\n",
    "import string\n",
    "import spacy\n",
    "\n",
    "# Cargar modelo spaCy optimizado sin NER (más rápido)\n",
    "nlp = spacy.load(\"en_core_web_sm\", disable=[\"ner\", \"parser\"])\n",
    "\n",
    "stop_words = set(stopwords.words('english'))\n",
    "def preprocess_text(text):\n",
    "    doc = nlp(text)  # Procesa el texto con spaCy\n",
    "    processed_words = [token.lemma_ for token in doc if token.text.lower() not in stop_words and not token.is_punct]\n",
    "    return ' '.join(processed_words)\n",
    "\n",
    "texto_noticia = nueva_noticia['text']\n",
    "\n",
    "# Aplicar la función más rápido con multiprocessing\n",
    "preprocess_text(texto_noticia)\n",
    "#nueva_noticia['title'] = preprocess_text(nueva_noticia['title'])\n"
   ]
  },
  {
   "cell_type": "code",
   "execution_count": 71,
   "metadata": {},
   "outputs": [],
   "source": [
    "# Transformar el texto de la nueva noticia\n",
    "nueva_noticia_tfidf = vectorizer.transform([texto_noticia])\n"
   ]
  },
  {
   "cell_type": "code",
   "execution_count": 72,
   "metadata": {},
   "outputs": [
    {
     "name": "stdout",
     "output_type": "stream",
     "text": [
      "Noticia FALSA\n"
     ]
    }
   ],
   "source": [
    "# Hacer la predicción con el modelo entrenado\n",
    "prediccion = svm_model.predict(nueva_noticia_tfidf)\n",
    "\n",
    "# Mostrar resultado\n",
    "print(\"Noticia REAL\" if prediccion[0] == 1 else \"Noticia FALSA\")"
   ]
  },
  {
   "cell_type": "code",
   "execution_count": 73,
   "metadata": {},
   "outputs": [
    {
     "name": "stdout",
     "output_type": "stream",
     "text": [
      "Noticia FALSA\n"
     ]
    }
   ],
   "source": [
    "# Hacer la predicción con el modelo entrenado\n",
    "prediccion = logreg_model.predict(nueva_noticia_tfidf)\n",
    "\n",
    "# Mostrar resultado\n",
    "print(\"Noticia REAL\" if prediccion[0] == 1 else \"Noticia FALSA\")"
   ]
  },
  {
   "cell_type": "code",
   "execution_count": 74,
   "metadata": {},
   "outputs": [
    {
     "name": "stdout",
     "output_type": "stream",
     "text": [
      "Noticia FALSA\n"
     ]
    }
   ],
   "source": [
    "# Hacer la predicción con el modelo entrenado\n",
    "prediccion = rf_model.predict(nueva_noticia_tfidf)\n",
    "\n",
    "# Mostrar resultado\n",
    "print(\"Noticia REAL\" if prediccion[0] == 1 else \"Noticia FALSA\")"
   ]
  },
  {
   "cell_type": "code",
   "execution_count": 75,
   "metadata": {},
   "outputs": [
    {
     "name": "stdout",
     "output_type": "stream",
     "text": [
      "Noticia FALSA\n"
     ]
    }
   ],
   "source": [
    "# Hacer la predicción con el modelo entrenado\n",
    "prediccion = gb_model.predict(nueva_noticia_tfidf)\n",
    "\n",
    "# Mostrar resultado\n",
    "print(\"Noticia REAL\" if prediccion[0] == 1 else \"Noticia FALSA\")"
   ]
  },
  {
   "cell_type": "code",
   "execution_count": 76,
   "metadata": {},
   "outputs": [
    {
     "name": "stdout",
     "output_type": "stream",
     "text": [
      "Noticia REAL\n"
     ]
    }
   ],
   "source": [
    "# Hacer la predicción con el modelo entrenado\n",
    "prediccion = model.predict(nueva_noticia_tfidf)\n",
    "\n",
    "# Mostrar resultado\n",
    "print(\"Noticia REAL\" if prediccion[0] == 1 else \"Noticia FALSA\")"
   ]
  },
  {
   "cell_type": "code",
   "execution_count": 83,
   "metadata": {},
   "outputs": [],
   "source": [
    "# Ejemplo de noticia real\n",
    "nueva_noticia1= {\n",
    "    'title': \"Lockheed Martin Develops Giant Tactical Rubber Spider\",\n",
    "    'text': \"BETHESDA, MD—Ushering in a new, highly advanced era of creepy-crawly warfare, defense contractor Lockheed Martin announced Friday that it had developed a giant tactical rubber spider. “With the introduction of this state-of-the-art rubber spider and its highly realistic, blood-curdling fangs, the face of combat has changed forever,” said CEO James Taiclet, explaining that the long-range, 250-foot-tall precision latex arachnid could be deployed anywhere in the world to scare the living daylights out of anyone in a 3,000-mile radius. “Enemy combatants are sure to flee when they see these immense, cutting-edge rubber spiders dropped into a war zone. Its power to freak out even the most well-trained military forces in the world should not be overstated.” Reached for comment, U.N. official confirmed they had drafted a resolution condemning the use of giant rubber spiders in war zones as inhumane and gross.\",\n",
    "    }"
   ]
  },
  {
   "cell_type": "code",
   "execution_count": 90,
   "metadata": {},
   "outputs": [
    {
     "data": {
      "text/plain": [
       "'BETHESDA MD Ushering new highly advanced era creepy crawly warfare defense contractor Lockheed Martin announce Friday develop giant tactical rubber spider introduction state art rubber spider highly realistic blood curdle fang face combat change forever say CEO James Taiclet explain long range 250 foot tall precision latex arachnid could deploy anywhere world scare live daylight anyone 3,000 mile radius enemy combatant sure flee see immense cut edge rubber spider drop war zone power freak even well train military force world overstate reach comment U.N. official confirm draft resolution condemn use giant rubber spider war zone inhumane gross'"
      ]
     },
     "execution_count": 90,
     "metadata": {},
     "output_type": "execute_result"
    }
   ],
   "source": [
    "import nltk\n",
    "from nltk.corpus import stopwords\n",
    "from nltk.tokenize import word_tokenize\n",
    "from nltk.stem import WordNetLemmatizer\n",
    "import string\n",
    "import spacy\n",
    "\n",
    "# Cargar modelo spaCy optimizado sin NER (más rápido)\n",
    "nlp = spacy.load(\"en_core_web_sm\", disable=[\"ner\", \"parser\"])\n",
    "\n",
    "stop_words = set(stopwords.words('english'))\n",
    "def preprocess_text(text):\n",
    "    doc = nlp(text)  # Procesa el texto con spaCy\n",
    "    processed_words = [token.lemma_ for token in doc if token.text.lower() not in stop_words and not token.is_punct]\n",
    "    return ' '.join(processed_words)\n",
    "\n",
    "texto_noticia1 = nueva_noticia1['text']\n",
    "\n",
    "# Aplicar la función más rápido con multiprocessing\n",
    "preprocess_text(texto_noticia1)\n",
    "#nueva_noticia['title'] = preprocess_text(nueva_noticia['title'])\n"
   ]
  },
  {
   "cell_type": "code",
   "execution_count": 91,
   "metadata": {},
   "outputs": [],
   "source": [
    "# Transformar el texto de la nueva noticia\n",
    "nueva_noticia_tfidf1 = vectorizer.transform([texto_noticia1])"
   ]
  },
  {
   "cell_type": "code",
   "execution_count": 92,
   "metadata": {},
   "outputs": [
    {
     "name": "stdout",
     "output_type": "stream",
     "text": [
      "Noticia FALSA\n"
     ]
    }
   ],
   "source": [
    "# Hacer la predicción con el modelo entrenado\n",
    "prediccion = svm_model.predict(nueva_noticia_tfidf1)\n",
    "\n",
    "# Mostrar resultado\n",
    "print(\"Noticia REAL\" if prediccion[0] == 1 else \"Noticia FALSA\")"
   ]
  },
  {
   "cell_type": "code",
   "execution_count": 93,
   "metadata": {},
   "outputs": [
    {
     "name": "stdout",
     "output_type": "stream",
     "text": [
      "Noticia FALSA\n"
     ]
    }
   ],
   "source": [
    "# Hacer la predicción con el modelo entrenado\n",
    "prediccion = logreg_model.predict(nueva_noticia_tfidf1)\n",
    "\n",
    "# Mostrar resultado\n",
    "print(\"Noticia REAL\" if prediccion[0] == 1 else \"Noticia FALSA\")"
   ]
  },
  {
   "cell_type": "code",
   "execution_count": 94,
   "metadata": {},
   "outputs": [
    {
     "name": "stdout",
     "output_type": "stream",
     "text": [
      "Noticia FALSA\n"
     ]
    }
   ],
   "source": [
    "# Hacer la predicción con el modelo entrenado\n",
    "prediccion = rf_model.predict(nueva_noticia_tfidf1)\n",
    "\n",
    "# Mostrar resultado\n",
    "print(\"Noticia REAL\" if prediccion[0] == 1 else \"Noticia FALSA\")"
   ]
  },
  {
   "cell_type": "code",
   "execution_count": 95,
   "metadata": {},
   "outputs": [
    {
     "name": "stdout",
     "output_type": "stream",
     "text": [
      "Noticia FALSA\n"
     ]
    }
   ],
   "source": [
    "# Hacer la predicción con el modelo entrenado\n",
    "prediccion = gb_model.predict(nueva_noticia_tfidf1)\n",
    "\n",
    "# Mostrar resultado\n",
    "print(\"Noticia REAL\" if prediccion[0] == 1 else \"Noticia FALSA\")"
   ]
  },
  {
   "cell_type": "code",
   "execution_count": 96,
   "metadata": {},
   "outputs": [
    {
     "name": "stdout",
     "output_type": "stream",
     "text": [
      "Noticia FALSA\n"
     ]
    }
   ],
   "source": [
    "# Hacer la predicción con el modelo entrenado\n",
    "prediccion = model.predict(nueva_noticia_tfidf1)\n",
    "\n",
    "# Mostrar resultado\n",
    "print(\"Noticia REAL\" if prediccion[0] == 1 else \"Noticia FALSA\")"
   ]
  },
  {
   "cell_type": "code",
   "execution_count": 100,
   "metadata": {},
   "outputs": [],
   "source": [
    "# Ejemplo de noticia falsa\n",
    "nueva_noticia2= {\n",
    "    'title': \" It Almost Weirder That Grown Man On Roblox Isn’t Grooming Children\",\n",
    "    'text': \"SEATTLE—Voicing concern about the adult’s aberrant behavior, sources confirmed Monday that it was almost weirder that Richard Shea, a grown man on Roblox, wasn’t using the online gaming platform to groom children. “If he was on here trying to find underage players and lure them into some sort of sexual relationship, that would be super fucked-up, but at least it would explain his reasons for spending hours each day playing virtual experiences designed by children. This guy isn’t a predator, though,” said Roblox player Mason Briggs, 11, telling reporters that the fact that there was no sinister sexual motivation behind Shea’s dogged pursuit of high scores on games such as Blox Fruits and BedWars and that he seemed to play only for fun was bizarre and inexplicable. “I remember he invited me and a few friends to an in-game party where we could all play and communicate together. He never pressured us to reveal contact information or made any sort of inappropriate or explicit remark. He mostly just wanted tips on how to make it through the Ancient Ruins map on Adopt Me! It kind of gave me the creeps.” At press time, Briggs was reportedly all the more disturbed after receiving a private message from Shea informing her that he’d have even more time to play now that he had received tenure.\",\n",
    "    }"
   ]
  },
  {
   "cell_type": "code",
   "execution_count": 101,
   "metadata": {},
   "outputs": [
    {
     "data": {
      "text/plain": [
       "'SEATTLE voice concern adult ’s aberrant behavior source confirm Monday almost weirder Richard Shea grown man Roblox not use online gaming platform groom child try find underage player lure sort sexual relationship would super fuck least would explain reason spend hour day play virtual experience design child guy n’t predator though say Roblox player Mason Briggs 11 tell reporter fact sinister sexual motivation behind Shea ’s dog pursuit high score game Blox Fruits BedWars seem play fun bizarre inexplicable remember invite friend game party could play communicate together never pressure we reveal contact information make sort inappropriate explicit remark mostly want tip make Ancient Ruins map Adopt kind give creep press time Briggs reportedly disturbed receive private message Shea inform ’d even time play receive tenure'"
      ]
     },
     "execution_count": 101,
     "metadata": {},
     "output_type": "execute_result"
    }
   ],
   "source": [
    "import nltk\n",
    "from nltk.corpus import stopwords\n",
    "from nltk.tokenize import word_tokenize\n",
    "from nltk.stem import WordNetLemmatizer\n",
    "import string\n",
    "import spacy\n",
    "\n",
    "# Cargar modelo spaCy optimizado sin NER (más rápido)\n",
    "nlp = spacy.load(\"en_core_web_sm\", disable=[\"ner\", \"parser\"])\n",
    "\n",
    "stop_words = set(stopwords.words('english'))\n",
    "def preprocess_text(text):\n",
    "    doc = nlp(text)  # Procesa el texto con spaCy\n",
    "    processed_words = [token.lemma_ for token in doc if token.text.lower() not in stop_words and not token.is_punct]\n",
    "    return ' '.join(processed_words)\n",
    "\n",
    "texto_noticia2= nueva_noticia2['text']\n",
    "\n",
    "# Aplicar la función más rápido con multiprocessing\n",
    "preprocess_text(texto_noticia2)\n",
    "#nueva_noticia['title'] = preprocess_text(nueva_noticia['title'])\n"
   ]
  },
  {
   "cell_type": "code",
   "execution_count": 102,
   "metadata": {},
   "outputs": [],
   "source": [
    "# Transformar el texto de la nueva noticia\n",
    "nueva_noticia_tfidf2= vectorizer.transform([texto_noticia2])"
   ]
  },
  {
   "cell_type": "code",
   "execution_count": 112,
   "metadata": {},
   "outputs": [
    {
     "name": "stdout",
     "output_type": "stream",
     "text": [
      "Noticia FALSA\n"
     ]
    }
   ],
   "source": [
    "# Hacer la predicción con el modelo entrenado\n",
    "prediccion = svm_model.predict(nueva_noticia_tfidf2)\n",
    "\n",
    "# Mostrar resultado\n",
    "print(\"Noticia REAL\" if prediccion[0] == 1 else \"Noticia FALSA\")"
   ]
  },
  {
   "cell_type": "code",
   "execution_count": 113,
   "metadata": {},
   "outputs": [
    {
     "name": "stdout",
     "output_type": "stream",
     "text": [
      "Noticia FALSA\n"
     ]
    }
   ],
   "source": [
    "# Hacer la predicción con el modelo entrenado\n",
    "prediccion = logreg_model.predict(nueva_noticia_tfidf2)\n",
    "\n",
    "# Mostrar resultado\n",
    "print(\"Noticia REAL\" if prediccion[0] == 1 else \"Noticia FALSA\")"
   ]
  },
  {
   "cell_type": "code",
   "execution_count": 114,
   "metadata": {},
   "outputs": [
    {
     "name": "stdout",
     "output_type": "stream",
     "text": [
      "Noticia FALSA\n"
     ]
    }
   ],
   "source": [
    "# Hacer la predicción con el modelo entrenado\n",
    "prediccion = rf_model.predict(nueva_noticia_tfidf2)\n",
    "\n",
    "# Mostrar resultado\n",
    "print(\"Noticia REAL\" if prediccion[0] == 1 else \"Noticia FALSA\")"
   ]
  },
  {
   "cell_type": "code",
   "execution_count": 115,
   "metadata": {},
   "outputs": [
    {
     "name": "stdout",
     "output_type": "stream",
     "text": [
      "Noticia FALSA\n"
     ]
    }
   ],
   "source": [
    "# Hacer la predicción con el modelo entrenado\n",
    "prediccion = gb_model.predict(nueva_noticia_tfidf2)\n",
    "\n",
    "# Mostrar resultado\n",
    "print(\"Noticia REAL\" if prediccion[0] == 1 else \"Noticia FALSA\")"
   ]
  },
  {
   "cell_type": "code",
   "execution_count": 116,
   "metadata": {},
   "outputs": [
    {
     "name": "stdout",
     "output_type": "stream",
     "text": [
      "Noticia FALSA\n"
     ]
    }
   ],
   "source": [
    "# Hacer la predicción con el modelo entrenado\n",
    "prediccion = model.predict(nueva_noticia_tfidf2)\n",
    "\n",
    "# Mostrar resultado\n",
    "print(\"Noticia REAL\" if prediccion[0] == 1 else \"Noticia FALSA\")"
   ]
  },
  {
   "cell_type": "code",
   "execution_count": 109,
   "metadata": {},
   "outputs": [],
   "source": [
    "# Ejemplo de noticia  verdadera\n",
    "nueva_noticia3= {\n",
    "    'title': \"US 'destroying' world order, Ukraine's ambassador to UK says \",\n",
    "    'text': \"The US is destroying the established world order, Ukraine's ambassador to the UK has claimed.Valerii Zaluzhnyi said the White House had questioned the unity of the Western world and was taking more and more steps towards Russia, which launched a full-scale invasion of Ukraine in 2022.The comments come as the US puts pressure on Ukraine to make concessions ahead of any peace talks, and after a public clash between Ukrainian President Volodymyr Zelensky and his US counterpart Donald Trump.Zelensky has since said he is ready to work under Trump's 'strong leadership', an apparent cooling in tensions welcomed by Trump - and which comes after the US paused military aid to Kyiv.\"\n",
    "}"
   ]
  },
  {
   "cell_type": "code",
   "execution_count": 110,
   "metadata": {},
   "outputs": [
    {
     "data": {
      "text/plain": [
       "\"US destroy establish world order Ukraine 's ambassador UK claim Valerii Zaluzhnyi say White House question unity western world take step towards Russia launch full scale invasion Ukraine 2022.the comment come US put pressure Ukraine make concession ahead peace talk public clash ukrainian President Volodymyr Zelensky US counterpart Donald Trump Zelensky since say ready work Trump 's strong leadership apparent cooling tension welcome Trump come US pause military aid Kyiv\""
      ]
     },
     "execution_count": 110,
     "metadata": {},
     "output_type": "execute_result"
    }
   ],
   "source": [
    "import nltk\n",
    "from nltk.corpus import stopwords\n",
    "from nltk.tokenize import word_tokenize\n",
    "from nltk.stem import WordNetLemmatizer\n",
    "import string\n",
    "import spacy\n",
    "\n",
    "# Cargar modelo spaCy optimizado sin NER (más rápido)\n",
    "nlp = spacy.load(\"en_core_web_sm\", disable=[\"ner\", \"parser\"])\n",
    "\n",
    "stop_words = set(stopwords.words('english'))\n",
    "def preprocess_text(text):\n",
    "    doc = nlp(text)  # Procesa el texto con spaCy\n",
    "    processed_words = [token.lemma_ for token in doc if token.text.lower() not in stop_words and not token.is_punct]\n",
    "    return ' '.join(processed_words)\n",
    "\n",
    "texto_noticia3= nueva_noticia3['text']\n",
    "\n",
    "# Aplicar la función más rápido con multiprocessing\n",
    "preprocess_text(texto_noticia3)\n",
    "#nueva_noticia['title'] = preprocess_text(nueva_noticia['title'])\n"
   ]
  },
  {
   "cell_type": "code",
   "execution_count": 118,
   "metadata": {},
   "outputs": [],
   "source": [
    "# Transformar el texto de la nueva noticia\n",
    "nueva_noticia_tfidf3= vectorizer.transform([texto_noticia3])"
   ]
  },
  {
   "cell_type": "code",
   "execution_count": 119,
   "metadata": {},
   "outputs": [
    {
     "name": "stdout",
     "output_type": "stream",
     "text": [
      "Noticia FALSA\n"
     ]
    }
   ],
   "source": [
    "# Hacer la predicción con el modelo entrenado\n",
    "prediccion = svm_model.predict(nueva_noticia_tfidf3)\n",
    "\n",
    "# Mostrar resultado\n",
    "print(\"Noticia REAL\" if prediccion[0] == 1 else \"Noticia FALSA\")"
   ]
  },
  {
   "cell_type": "code",
   "execution_count": 120,
   "metadata": {},
   "outputs": [
    {
     "name": "stdout",
     "output_type": "stream",
     "text": [
      "Noticia FALSA\n"
     ]
    }
   ],
   "source": [
    "# Hacer la predicción con el modelo entrenado\n",
    "prediccion = logreg_model.predict(nueva_noticia_tfidf3)\n",
    "\n",
    "# Mostrar resultado\n",
    "print(\"Noticia REAL\" if prediccion[0] == 1 else \"Noticia FALSA\")"
   ]
  },
  {
   "cell_type": "code",
   "execution_count": 121,
   "metadata": {},
   "outputs": [
    {
     "name": "stdout",
     "output_type": "stream",
     "text": [
      "Noticia FALSA\n"
     ]
    }
   ],
   "source": [
    "# Hacer la predicción con el modelo entrenado\n",
    "prediccion = rf_model.predict(nueva_noticia_tfidf3)\n",
    "\n",
    "# Mostrar resultado\n",
    "print(\"Noticia REAL\" if prediccion[0] == 1 else \"Noticia FALSA\")"
   ]
  },
  {
   "cell_type": "code",
   "execution_count": 122,
   "metadata": {},
   "outputs": [
    {
     "name": "stdout",
     "output_type": "stream",
     "text": [
      "Noticia FALSA\n"
     ]
    }
   ],
   "source": [
    "# Hacer la predicción con el modelo entrenado\n",
    "prediccion = gb_model.predict(nueva_noticia_tfidf3)\n",
    "\n",
    "# Mostrar resultado\n",
    "print(\"Noticia REAL\" if prediccion[0] == 1 else \"Noticia FALSA\")"
   ]
  },
  {
   "cell_type": "code",
   "execution_count": 123,
   "metadata": {},
   "outputs": [
    {
     "name": "stdout",
     "output_type": "stream",
     "text": [
      "Noticia FALSA\n"
     ]
    }
   ],
   "source": [
    "# Hacer la predicción con el modelo entrenado\n",
    "prediccion = model.predict(nueva_noticia_tfidf3)\n",
    "\n",
    "# Mostrar resultado\n",
    "print(\"Noticia REAL\" if prediccion[0] == 1 else \"Noticia FALSA\")"
   ]
  }
 ],
 "metadata": {
  "kernelspec": {
   "display_name": ".venv",
   "language": "python",
   "name": "python3"
  },
  "language_info": {
   "codemirror_mode": {
    "name": "ipython",
    "version": 3
   },
   "file_extension": ".py",
   "mimetype": "text/x-python",
   "name": "python",
   "nbconvert_exporter": "python",
   "pygments_lexer": "ipython3",
   "version": "3.11.7"
  }
 },
 "nbformat": 4,
 "nbformat_minor": 2
}
