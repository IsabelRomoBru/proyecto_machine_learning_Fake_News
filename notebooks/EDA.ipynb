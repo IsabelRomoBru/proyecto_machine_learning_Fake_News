{
 "cells": [
  {
   "cell_type": "markdown",
   "metadata": {},
   "source": [
    "# EDA  Fake News"
   ]
  },
  {
   "cell_type": "code",
   "execution_count": 7,
   "metadata": {},
   "outputs": [],
   "source": [
    "import pandas as pd\n",
    "import numpy as np\n",
    "import matplotlib.pyplot as plt\n",
    "import seaborn as sns\n",
    "from scipy import stats"
   ]
  },
  {
   "cell_type": "code",
   "execution_count": 8,
   "metadata": {},
   "outputs": [
    {
     "data": {
      "text/html": [
       "<div>\n",
       "<style scoped>\n",
       "    .dataframe tbody tr th:only-of-type {\n",
       "        vertical-align: middle;\n",
       "    }\n",
       "\n",
       "    .dataframe tbody tr th {\n",
       "        vertical-align: top;\n",
       "    }\n",
       "\n",
       "    .dataframe thead th {\n",
       "        text-align: right;\n",
       "    }\n",
       "</style>\n",
       "<table border=\"1\" class=\"dataframe\">\n",
       "  <thead>\n",
       "    <tr style=\"text-align: right;\">\n",
       "      <th></th>\n",
       "      <th>title</th>\n",
       "      <th>text</th>\n",
       "      <th>subject</th>\n",
       "      <th>date</th>\n",
       "      <th>label</th>\n",
       "    </tr>\n",
       "  </thead>\n",
       "  <tbody>\n",
       "    <tr>\n",
       "      <th>0</th>\n",
       "      <td>As U.S. budget fight looms, Republicans flip t...</td>\n",
       "      <td>WASHINGTON (Reuters) - The head of a conservat...</td>\n",
       "      <td>politicsNews</td>\n",
       "      <td>December 31, 2017</td>\n",
       "      <td>1</td>\n",
       "    </tr>\n",
       "    <tr>\n",
       "      <th>1</th>\n",
       "      <td>U.S. military to accept transgender recruits o...</td>\n",
       "      <td>WASHINGTON (Reuters) - Transgender people will...</td>\n",
       "      <td>politicsNews</td>\n",
       "      <td>December 29, 2017</td>\n",
       "      <td>1</td>\n",
       "    </tr>\n",
       "    <tr>\n",
       "      <th>2</th>\n",
       "      <td>Senior U.S. Republican senator: 'Let Mr. Muell...</td>\n",
       "      <td>WASHINGTON (Reuters) - The special counsel inv...</td>\n",
       "      <td>politicsNews</td>\n",
       "      <td>December 31, 2017</td>\n",
       "      <td>1</td>\n",
       "    </tr>\n",
       "    <tr>\n",
       "      <th>3</th>\n",
       "      <td>FBI Russia probe helped by Australian diplomat...</td>\n",
       "      <td>WASHINGTON (Reuters) - Trump campaign adviser ...</td>\n",
       "      <td>politicsNews</td>\n",
       "      <td>December 30, 2017</td>\n",
       "      <td>1</td>\n",
       "    </tr>\n",
       "    <tr>\n",
       "      <th>4</th>\n",
       "      <td>Trump wants Postal Service to charge 'much mor...</td>\n",
       "      <td>SEATTLE/WASHINGTON (Reuters) - President Donal...</td>\n",
       "      <td>politicsNews</td>\n",
       "      <td>December 29, 2017</td>\n",
       "      <td>1</td>\n",
       "    </tr>\n",
       "    <tr>\n",
       "      <th>...</th>\n",
       "      <td>...</td>\n",
       "      <td>...</td>\n",
       "      <td>...</td>\n",
       "      <td>...</td>\n",
       "      <td>...</td>\n",
       "    </tr>\n",
       "    <tr>\n",
       "      <th>44893</th>\n",
       "      <td>McPain: John McCain Furious That Iran Treated ...</td>\n",
       "      <td>21st Century Wire says As 21WIRE reported earl...</td>\n",
       "      <td>Middle-east</td>\n",
       "      <td>January 16, 2016</td>\n",
       "      <td>0</td>\n",
       "    </tr>\n",
       "    <tr>\n",
       "      <th>44894</th>\n",
       "      <td>JUSTICE? Yahoo Settles E-mail Privacy Class-ac...</td>\n",
       "      <td>21st Century Wire says It s a familiar theme. ...</td>\n",
       "      <td>Middle-east</td>\n",
       "      <td>January 16, 2016</td>\n",
       "      <td>0</td>\n",
       "    </tr>\n",
       "    <tr>\n",
       "      <th>44895</th>\n",
       "      <td>Sunnistan: US and Allied ‘Safe Zone’ Plan to T...</td>\n",
       "      <td>Patrick Henningsen  21st Century WireRemember ...</td>\n",
       "      <td>Middle-east</td>\n",
       "      <td>January 15, 2016</td>\n",
       "      <td>0</td>\n",
       "    </tr>\n",
       "    <tr>\n",
       "      <th>44896</th>\n",
       "      <td>How to Blow $700 Million: Al Jazeera America F...</td>\n",
       "      <td>21st Century Wire says Al Jazeera America will...</td>\n",
       "      <td>Middle-east</td>\n",
       "      <td>January 14, 2016</td>\n",
       "      <td>0</td>\n",
       "    </tr>\n",
       "    <tr>\n",
       "      <th>44897</th>\n",
       "      <td>10 U.S. Navy Sailors Held by Iranian Military ...</td>\n",
       "      <td>21st Century Wire says As 21WIRE predicted in ...</td>\n",
       "      <td>Middle-east</td>\n",
       "      <td>January 12, 2016</td>\n",
       "      <td>0</td>\n",
       "    </tr>\n",
       "  </tbody>\n",
       "</table>\n",
       "<p>44898 rows × 5 columns</p>\n",
       "</div>"
      ],
      "text/plain": [
       "                                                   title  \\\n",
       "0      As U.S. budget fight looms, Republicans flip t...   \n",
       "1      U.S. military to accept transgender recruits o...   \n",
       "2      Senior U.S. Republican senator: 'Let Mr. Muell...   \n",
       "3      FBI Russia probe helped by Australian diplomat...   \n",
       "4      Trump wants Postal Service to charge 'much mor...   \n",
       "...                                                  ...   \n",
       "44893  McPain: John McCain Furious That Iran Treated ...   \n",
       "44894  JUSTICE? Yahoo Settles E-mail Privacy Class-ac...   \n",
       "44895  Sunnistan: US and Allied ‘Safe Zone’ Plan to T...   \n",
       "44896  How to Blow $700 Million: Al Jazeera America F...   \n",
       "44897  10 U.S. Navy Sailors Held by Iranian Military ...   \n",
       "\n",
       "                                                    text       subject  \\\n",
       "0      WASHINGTON (Reuters) - The head of a conservat...  politicsNews   \n",
       "1      WASHINGTON (Reuters) - Transgender people will...  politicsNews   \n",
       "2      WASHINGTON (Reuters) - The special counsel inv...  politicsNews   \n",
       "3      WASHINGTON (Reuters) - Trump campaign adviser ...  politicsNews   \n",
       "4      SEATTLE/WASHINGTON (Reuters) - President Donal...  politicsNews   \n",
       "...                                                  ...           ...   \n",
       "44893  21st Century Wire says As 21WIRE reported earl...   Middle-east   \n",
       "44894  21st Century Wire says It s a familiar theme. ...   Middle-east   \n",
       "44895  Patrick Henningsen  21st Century WireRemember ...   Middle-east   \n",
       "44896  21st Century Wire says Al Jazeera America will...   Middle-east   \n",
       "44897  21st Century Wire says As 21WIRE predicted in ...   Middle-east   \n",
       "\n",
       "                     date  label  \n",
       "0      December 31, 2017       1  \n",
       "1      December 29, 2017       1  \n",
       "2      December 31, 2017       1  \n",
       "3      December 30, 2017       1  \n",
       "4      December 29, 2017       1  \n",
       "...                   ...    ...  \n",
       "44893    January 16, 2016      0  \n",
       "44894    January 16, 2016      0  \n",
       "44895    January 15, 2016      0  \n",
       "44896    January 14, 2016      0  \n",
       "44897    January 12, 2016      0  \n",
       "\n",
       "[44898 rows x 5 columns]"
      ]
     },
     "execution_count": 8,
     "metadata": {},
     "output_type": "execute_result"
    }
   ],
   "source": [
    "data= pd.read_csv('/Users/isaromobru/Desktop/Fake_News1/data/raw/processed/noticias_fake_true.csv')\n",
    "data"
   ]
  },
  {
   "cell_type": "code",
   "execution_count": 3,
   "metadata": {},
   "outputs": [
    {
     "name": "stdout",
     "output_type": "stream",
     "text": [
      "<class 'pandas.core.frame.DataFrame'>\n",
      "RangeIndex: 44898 entries, 0 to 44897\n",
      "Data columns (total 5 columns):\n",
      " #   Column   Non-Null Count  Dtype \n",
      "---  ------   --------------  ----- \n",
      " 0   title    44898 non-null  object\n",
      " 1   text     44898 non-null  object\n",
      " 2   subject  44898 non-null  object\n",
      " 3   date     44898 non-null  object\n",
      " 4   label    44898 non-null  int64 \n",
      "dtypes: int64(1), object(4)\n",
      "memory usage: 1.7+ MB\n"
     ]
    }
   ],
   "source": [
    "data.info()"
   ]
  },
  {
   "cell_type": "code",
   "execution_count": 4,
   "metadata": {},
   "outputs": [
    {
     "name": "stdout",
     "output_type": "stream",
     "text": [
      "\n",
      "=== INFORMACIÓN BÁSICA DEL DATASET ===\n",
      "\n",
      "Dimensiones del DataFrame: (44898, 5)\n",
      "\n",
      "Columnas del DataFrame: ['title', 'text', 'subject', 'date', 'label']\n",
      "\n",
      "Tipos de datos:\n",
      "title      object\n",
      "text       object\n",
      "subject    object\n",
      "date       object\n",
      "label       int64\n",
      "dtype: object\n",
      "\n",
      "Valores nulos por columna:\n",
      "title      0\n",
      "text       0\n",
      "subject    0\n",
      "date       0\n",
      "label      0\n",
      "dtype: int64\n"
     ]
    }
   ],
   "source": [
    "\"\"\"Muestra información básica del DataFrame\"\"\"\n",
    "print(\"\\n=== INFORMACIÓN BÁSICA DEL DATASET ===\")\n",
    "print(\"\\nDimensiones del DataFrame:\", data.shape)\n",
    "print(\"\\nColumnas del DataFrame:\", list(data.columns))\n",
    "print(\"\\nTipos de datos:\")\n",
    "print(data.dtypes)\n",
    "print(\"\\nValores nulos por columna:\")\n",
    "print(data.isnull().sum())\n",
    "#print(\"\\nColumnas numéricas:\", list(numeric_columns))"
   ]
  },
  {
   "cell_type": "markdown",
   "metadata": {},
   "source": [
    "Los tipos de datos la mayoría son object, por lo que estaría bien cambiarlos a categoricos y dte en time"
   ]
  },
  {
   "cell_type": "code",
   "execution_count": 5,
   "metadata": {},
   "outputs": [
    {
     "name": "stdout",
     "output_type": "stream",
     "text": [
      "38729\n"
     ]
    }
   ],
   "source": [
    "print(len(data['title'].unique()))  # Número\n"
   ]
  },
  {
   "cell_type": "code",
   "execution_count": 6,
   "metadata": {},
   "outputs": [
    {
     "name": "stdout",
     "output_type": "stream",
     "text": [
      "title\n",
      "Factbox: Trump fills top jobs for his administration                                                     14\n",
      "Factbox: Contenders for senior jobs in Trump's administration                                             8\n",
      "Highlights: The Trump presidency on April 13 at 9:30 P.M. EDT/0130 GMT on Friday                          8\n",
      "Factbox: International reaction to arrest of Reuters reporters in Myanmar                                 6\n",
      "MEDIA IGNORES Time That Bill Clinton FIRED His FBI Director On Day Before Vince Foster Was Found Dead     6\n",
      "                                                                                                         ..\n",
      "U.S. Congress certifies Trump's Electoral College victory                                                 2\n",
      "Ex-president George H.W. Bush moved to intensive care; wife hospitalized                                  2\n",
      "How to Blow $700 Million: Al Jazeera America Finally Calls it Quits                                       2\n",
      "Merkel says fight against terrorism no excuse for U.S. entry ban                                          2\n",
      "Trump pushes drugmakers for lower prices, more U.S. production                                            2\n",
      "Name: count, Length: 5629, dtype: int64\n"
     ]
    }
   ],
   "source": [
    "# Ver solo los valores que se repiten más de una vez\n",
    "repetidos = data['title'].value_counts()\n",
    "print(repetidos[repetidos > 1])  # Solo muestra los que se repiten\n"
   ]
  },
  {
   "cell_type": "code",
   "execution_count": 7,
   "metadata": {},
   "outputs": [
    {
     "data": {
      "text/plain": [
       "np.int64(209)"
      ]
     },
     "execution_count": 7,
     "metadata": {},
     "output_type": "execute_result"
    }
   ],
   "source": [
    "data.duplicated().sum()\n"
   ]
  },
  {
   "cell_type": "code",
   "execution_count": 8,
   "metadata": {},
   "outputs": [],
   "source": [
    "data.drop_duplicates(inplace=True)\n"
   ]
  },
  {
   "cell_type": "code",
   "execution_count": 9,
   "metadata": {},
   "outputs": [
    {
     "data": {
      "text/plain": [
       "np.int64(0)"
      ]
     },
     "execution_count": 9,
     "metadata": {},
     "output_type": "execute_result"
    }
   ],
   "source": [
    "data.duplicated().sum()"
   ]
  },
  {
   "cell_type": "code",
   "execution_count": 10,
   "metadata": {},
   "outputs": [
    {
     "name": "stdout",
     "output_type": "stream",
     "text": [
      "<class 'pandas.core.frame.DataFrame'>\n",
      "Index: 44689 entries, 0 to 44897\n",
      "Data columns (total 5 columns):\n",
      " #   Column   Non-Null Count  Dtype \n",
      "---  ------   --------------  ----- \n",
      " 0   title    44689 non-null  object\n",
      " 1   text     44689 non-null  object\n",
      " 2   subject  44689 non-null  object\n",
      " 3   date     44689 non-null  object\n",
      " 4   label    44689 non-null  int64 \n",
      "dtypes: int64(1), object(4)\n",
      "memory usage: 2.0+ MB\n"
     ]
    }
   ],
   "source": [
    "data.info()"
   ]
  },
  {
   "cell_type": "markdown",
   "metadata": {},
   "source": [
    "como se puede observar habia 209 duplicados, por lo que he eliminado las noticias duplicadas ya que puede causar sesgos a la hora de predecir, finalmente ha quedado en 44689 la muestra de 44897 que había antes."
   ]
  },
  {
   "cell_type": "code",
   "execution_count": 11,
   "metadata": {},
   "outputs": [
    {
     "data": {
      "text/plain": [
       "subject\n",
       "politicsNews       11220\n",
       "worldnews           9991\n",
       "News                9050\n",
       "politics            6838\n",
       "left-news           4459\n",
       "Government News     1570\n",
       "US_News              783\n",
       "Middle-east          778\n",
       "Name: count, dtype: int64"
      ]
     },
     "execution_count": 11,
     "metadata": {},
     "output_type": "execute_result"
    }
   ],
   "source": [
    "data.subject.value_counts()"
   ]
  },
  {
   "cell_type": "markdown",
   "metadata": {},
   "source": [
    "los subject al ser la unión de dos dataset sintetizar los datos en subject más goblales "
   ]
  },
  {
   "cell_type": "code",
   "execution_count": 12,
   "metadata": {},
   "outputs": [
    {
     "data": {
      "text/plain": [
       "label\n",
       "0    23478\n",
       "1    21211\n",
       "Name: count, dtype: int64"
      ]
     },
     "execution_count": 12,
     "metadata": {},
     "output_type": "execute_result"
    }
   ],
   "source": [
    "data.label.value_counts()"
   ]
  },
  {
   "cell_type": "code",
   "execution_count": 20,
   "metadata": {},
   "outputs": [
    {
     "name": "stdout",
     "output_type": "stream",
     "text": [
      "\n",
      "Distribución de noticias por tema y etiqueta:\n",
      "label                 0        1\n",
      "subject                         \n",
      "Government News  1570.0      0.0\n",
      "Middle-east       778.0      0.0\n",
      "News             9050.0      0.0\n",
      "US_News           783.0      0.0\n",
      "left-news        4459.0      0.0\n",
      "politics         6838.0      0.0\n",
      "politicsNews        0.0  11220.0\n",
      "worldnews           0.0   9991.0\n",
      "\n",
      "Distribución con totales:\n",
      "label                     0        1  Total por tema\n",
      "subject                                             \n",
      "Government News      1570.0      0.0          1570.0\n",
      "Middle-east           778.0      0.0           778.0\n",
      "News                 9050.0      0.0          9050.0\n",
      "US_News               783.0      0.0           783.0\n",
      "left-news            4459.0      0.0          4459.0\n",
      "politics             6838.0      0.0          6838.0\n",
      "politicsNews            0.0  11220.0         11220.0\n",
      "worldnews               0.0   9991.0          9991.0\n",
      "Total por etiqueta  23478.0  21211.0         44689.0\n"
     ]
    }
   ],
   "source": [
    "# Primero, crear un conteo de noticias por subject y label\n",
    "count_data = data.groupby(['subject', 'label']).size().reset_index(name='count')\n",
    "\n",
    "# Luego crear la tabla pivote\n",
    "pivot = count_data.pivot_table(\n",
    "    index='subject',\n",
    "    columns='label',\n",
    "    values='count',\n",
    "    fill_value=0\n",
    ")\n",
    "\n",
    "# Mostrar los resultados\n",
    "print(\"\\nDistribución de noticias por tema y etiqueta:\")\n",
    "print(pivot)\n",
    "\n",
    "# Opcional: Agregar totales por fila y columna\n",
    "pivot['Total por tema'] = pivot.sum(axis=1)\n",
    "pivot.loc['Total por etiqueta'] = pivot.sum()\n",
    "\n",
    "# Mostrar la tabla con totales\n",
    "print(\"\\nDistribución con totales:\")\n",
    "print(pivot)"
   ]
  },
  {
   "cell_type": "markdown",
   "metadata": {},
   "source": [
    "Algunos subject (como Government News, Middle-east, News, etc.) solo tienen noticias falsas (0), mientras que otros (politicsNews, worldnews) solo tienen noticias verdaderas (1).\n",
    "Es posible que haya un sesgo en los datos o que los datos de ciertos temas estén desequilibrados, con una categoría que tiene muchas noticias verdaderas y ninguna falsa (o viceversa)."
   ]
  },
  {
   "cell_type": "markdown",
   "metadata": {},
   "source": [
    "## stopWords & Stemming"
   ]
  },
  {
   "cell_type": "code",
   "execution_count": 14,
   "metadata": {},
   "outputs": [],
   "source": [
    "from nltk.stem import PorterStemmer\n",
    "from nltk.corpus import stopwords\n",
    "stemmer = PorterStemmer()\n",
    "stop_words = set(stopwords.words('english'))\n",
    "\n",
    "def preprocess_text(text):\n",
    "    words = text.split()\n",
    "    processed_words = [stemmer.stem(word) for word in words if word not in stop_words]\n",
    "    return ' '.join(processed_words)\n",
    "\n",
    "data['text'] = data['text'].apply(preprocess_text)"
   ]
  },
  {
   "cell_type": "markdown",
   "metadata": {},
   "source": [
    "PorterStemmer: Es un algoritmo que reduce las palabras a su raíz o forma base. Por ejemplo:\n",
    "\n",
    "\"running\" -> \"run\"\n",
    "\"fishing\" -> \"fish\"\n",
    "\"connected\" -> \"connect\"\n",
    "\n",
    "\n",
    "stopwords: Son palabras muy comunes que generalmente no aportan significado importante al análisis (como \"the\", \"is\", \"at\", \"which\", etc.)\n",
    "Crea una instancia del stemmer\n",
    "Obtiene el conjunto de stopwords en inglés\n",
    "\n",
    "\n",
    "La función de preprocesamiento:\n",
    "Esta función:\n",
    "\n",
    "Recibe un texto como entrada\n",
    "Lo divide en palabras individuales con split()\n",
    "Usa una comprensión de lista para:\n",
    "\n",
    "Filtrar las stopwords (if word not in stop_words)\n",
    "Aplicar stemming a cada palabra restante (stemmer.stem(word))\n",
    "\n",
    "\n",
    "Une las palabras procesadas de nuevo en un solo string\n",
    "Aplica la función de preprocesamiento a cada entrada en la columna 'text' del DataFrame\n",
    "Este preprocesamiento es común en análisis de texto y NLP porque:\n",
    "\n",
    "Reduce la dimensionalidad del texto eliminando palabras no informativas\n",
    "Normaliza las palabras a formas base, lo que ayuda a identificar palabras similares\n",
    "Hace el texto más adecuado para análisis computacional\n",
    "\n",
    "¿Te gustaría ver más ejemplos de cómo funciona con diferentes tipos de texto?"
   ]
  },
  {
   "cell_type": "markdown",
   "metadata": {},
   "source": [
    "## Visualizaciones"
   ]
  },
  {
   "cell_type": "code",
   "execution_count": 67,
   "metadata": {},
   "outputs": [
    {
     "data": {
      "image/png": "[encoded data removed]",
      "text/plain": [
       "<Figure size 600x600 with 1 Axes>"
      ]
     },
     "metadata": {},
     "output_type": "display_data"
    }
   ],
   "source": [
    "import seaborn as sns\n",
    "import matplotlib.pyplot as plt\n",
    "\n",
    "# Establecer el estilo de Seaborn\n",
    "sns.set(style=\"whitegrid\")\n",
    "\n",
    "# Contar la distribución de las etiquetas\n",
    "label_counts = data['label'].value_counts()\n",
    "\n",
    "# Definir una lista de colores personalizados\n",
    "colors = ['#ff9999', '#66b3ff']  # Puedes añadir más colores si tienes más categorías\n",
    "\n",
    "# Crear la gráfica de pie con colores personalizados\n",
    "plt.figure(figsize=(6, 6))\n",
    "plt.pie(\n",
    "    x=label_counts.values,\n",
    "    labels=label_counts.keys(),\n",
    "    autopct=\"%1.1f%%\",\n",
    "    textprops={\"fontsize\": 10, \"fontweight\": \"bold\"},\n",
    "    colors=colors  # Aplicamos los colores personalizados\n",
    ")\n",
    "\n",
    "# Añadir título\n",
    "plt.title('Distribución de Noticias Falsas y Verdaderas')\n",
    "\n",
    "# Mostrar el gráfico\n",
    "plt.show()\n"
   ]
  },
  {
   "cell_type": "markdown",
   "metadata": {},
   "source": [
    "Podemos observar que tenemos una proporcion bastante similar de noticias falsas y verdaderas. Las verdaderas son 21417, es decir, 47,5% y las falsas 23481, es decir, 52,5%. Por lo que muestra que esta bastante equilibrado"
   ]
  },
  {
   "cell_type": "code",
   "execution_count": 69,
   "metadata": {},
   "outputs": [
    {
     "data": {
      "image/png": "[encoded data removed]",
      "text/plain": [
       "<Figure size 600x600 with 1 Axes>"
      ]
     },
     "metadata": {},
     "output_type": "display_data"
    }
   ],
   "source": [
    "import seaborn as sns\n",
    "import matplotlib.pyplot as plt\n",
    "\n",
    "# Establecer el estilo de Seaborn\n",
    "sns.set(style=\"whitegrid\")\n",
    "\n",
    "# Contar la distribución de las categorías en 'subject'\n",
    "subject_counts = data['subject'].value_counts()\n",
    "\n",
    "# Obtener una paleta de colores de Seaborn\n",
    "colors = sns.color_palette('Set1', len(subject_counts))  # Paleta con colores brillantes\n",
    "\n",
    "# Crear el gráfico de pie\n",
    "plt.figure(figsize=(6, 6))\n",
    "plt.pie(\n",
    "    x=subject_counts.values,\n",
    "    labels=subject_counts.keys(),\n",
    "    autopct=\"%1.1f%%\",\n",
    "    textprops={\"fontsize\": 10, \"fontweight\": \"bold\"},\n",
    "    colors=colors  # Usamos la paleta de colores de Seaborn\n",
    ")\n",
    "\n",
    "# Título del gráfico\n",
    "plt.title('Type of News Distribution')\n",
    "\n",
    "# Mostrar el gráfico\n",
    "plt.show()\n"
   ]
  },
  {
   "cell_type": "markdown",
   "metadata": {},
   "source": [
    "## Que palabras aparecen más"
   ]
  },
  {
   "cell_type": "code",
   "execution_count": 21,
   "metadata": {},
   "outputs": [
    {
     "ename": "NameError",
     "evalue": "name 'Counter' is not defined",
     "output_type": "error",
     "traceback": [
      "\u001b[0;31m---------------------------------------------------------------------------\u001b[0m",
      "\u001b[0;31mNameError\u001b[0m                                 Traceback (most recent call last)",
      "Cell \u001b[0;32mIn[21], line 4\u001b[0m\n\u001b[1;32m      1\u001b[0m text \u001b[38;5;241m=\u001b[39m \u001b[38;5;124m\"\u001b[39m\u001b[38;5;124m \u001b[39m\u001b[38;5;124m\"\u001b[39m\u001b[38;5;241m.\u001b[39mjoin(data[\u001b[38;5;124m\"\u001b[39m\u001b[38;5;124mtext\u001b[39m\u001b[38;5;124m\"\u001b[39m])\n\u001b[1;32m      2\u001b[0m tokens \u001b[38;5;241m=\u001b[39m text\u001b[38;5;241m.\u001b[39msplit()\n\u001b[0;32m----> 4\u001b[0m word_counts \u001b[38;5;241m=\u001b[39m \u001b[43mCounter\u001b[49m(tokens)\n\u001b[1;32m      5\u001b[0m top_words \u001b[38;5;241m=\u001b[39m word_counts\u001b[38;5;241m.\u001b[39mmost_common(\u001b[38;5;241m20\u001b[39m)\n\u001b[1;32m      6\u001b[0m words, counts \u001b[38;5;241m=\u001b[39m \u001b[38;5;28mzip\u001b[39m(\u001b[38;5;241m*\u001b[39mtop_words)\n",
      "\u001b[0;31mNameError\u001b[0m: name 'Counter' is not defined"
     ]
    }
   ],
   "source": [
    "text = \" \".join(data[\"text\"])\n",
    "tokens = text.split()\n",
    "\n",
    "word_counts = Counter(tokens)\n",
    "top_words = word_counts.most_common(20)\n",
    "words, counts = zip(*top_words)\n",
    "\n",
    "# Setup tema seaborn\n",
    "sns.set_theme(style=\"whitegrid\")\n",
    "\n",
    "plt.figure(figsize=(12, 6))\n",
    "sns.barplot(x=list(counts), y=list(words), palette=\"viridis\")\n",
    "plt.title(\"20 Most Frequently Occurring Words\", fontsize=16, fontweight='bold')\n",
    "plt.xlabel(\"Count\", fontsize=14)\n",
    "plt.ylabel(\"Words\", fontsize=14)\n",
    "plt.xticks(fontsize=12)\n",
    "plt.yticks(fontsize=12)\n",
    "plt.show()"
   ]
  },
  {
   "cell_type": "code",
   "execution_count": 79,
   "metadata": {},
   "outputs": [
    {
     "name": "stdout",
     "output_type": "stream",
     "text": [
      "label                 0        1\n",
      "subject                         \n",
      "Government News  1570.0      0.0\n",
      "Middle-east       778.0      0.0\n",
      "News             9050.0      0.0\n",
      "US_News           783.0      0.0\n",
      "left-news        4459.0      0.0\n",
      "politics         6838.0      0.0\n",
      "politicsNews        0.0  11220.0\n",
      "worldnews           0.0   9991.0\n"
     ]
    }
   ],
   "source": [
    "# Crear una tabla dinámica (pivot) para mostrar el número de noticias por 'subject' y 'label'\n",
    "pivot = grouped.pivot_table(index='subject', columns='label', values='count', fill_value=0)\n",
    "\n",
    "# Mostrar los resultados\n",
    "print(pivot)\n"
   ]
  },
  {
   "cell_type": "markdown",
   "metadata": {},
   "source": [
    "Algunos subject (como Government News, Middle-east, News, etc.) solo tienen noticias falsas (0), mientras que otros (politicsNews, worldnews) solo tienen noticias verdaderas (1).\n",
    "Es posible que haya un sesgo en los datos o que los datos de ciertos temas estén desequilibrados, con una categoría que tiene muchas noticias verdaderas y ninguna falsa (o viceversa)."
   ]
  },
  {
   "cell_type": "markdown",
   "metadata": {},
   "source": [
    "## OPCIONES\n",
    "1. juntar las categorias\n",
    "2. borrar subject y hacerlo simplemente con texto\n",
    "3. utilizar técnicas de NLP para extraer más información de los textos y clasificarlos correctamente"
   ]
  },
  {
   "cell_type": "markdown",
   "metadata": {},
   "source": [
    "Preprocesamiento de Datos con NLP:\n",
    "\n",
    "El preprocesamiento es esencial para limpiar el texto y hacerlo adecuado para el modelo. Algunas de las técnicas comunes de preprocesamiento en NLP son:\n",
    "\n",
    "Eliminación de caracteres no deseados: Usar expresiones regulares para eliminar caracteres especiales, números o puntuación.\n",
    "Conversión a minúsculas: Hacer todo el texto en minúsculas para evitar duplicados como \"noticia\" y \"Noticia\".\n",
    "Eliminación de stopwords: Las stopwords son palabras comunes (como \"y\", \"el\", \"de\") que no aportan mucho significado y pueden eliminarse.\n",
    "Lematización o stemming: Reducir las palabras a su raíz o forma base, por ejemplo, \"corriendo\" → \"correr\".\n",
    "Aquí tienes un ejemplo de código para preprocesar el texto:"
   ]
  },
  {
   "cell_type": "markdown",
   "metadata": {},
   "source": [
    "https://oa.upm.es/71778/1/TFG_INNA_KRASIMIROVA_HRISTOVA.pdf"
   ]
  },
  {
   "cell_type": "markdown",
   "metadata": {},
   "source": []
  },
  {
   "cell_type": "markdown",
   "metadata": {},
   "source": [
    "tranformar todo sin diferenciar minisculas y mayusculas "
   ]
  },
  {
   "cell_type": "code",
   "execution_count": null,
   "metadata": {},
   "outputs": [],
   "source": []
  }
 ],
 "metadata": {
  "kernelspec": {
   "display_name": ".venv",
   "language": "python",
   "name": "python3"
  },
  "language_info": {
   "codemirror_mode": {
    "name": "ipython",
    "version": 3
   },
   "file_extension": ".py",
   "mimetype": "text/x-python",
   "name": "python",
   "nbconvert_exporter": "python",
   "pygments_lexer": "ipython3",
   "version": "3.11.7"
  }
 },
 "nbformat": 4,
 "nbformat_minor": 2
}
