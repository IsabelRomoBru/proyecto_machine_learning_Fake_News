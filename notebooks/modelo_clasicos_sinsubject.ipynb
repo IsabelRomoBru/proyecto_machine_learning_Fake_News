{
 "cells": [
  {
   "cell_type": "code",
   "execution_count": 4,
   "metadata": {},
   "outputs": [],
   "source": [
    "from sklearn.model_selection import train_test_split\n",
    "from sklearn.model_selection import train_test_split\n",
    "from sklearn.feature_extraction.text import TfidfVectorizer\n",
    "from xgboost import XGBClassifier\n",
    "from sklearn.linear_model import LogisticRegression\n",
    "from sklearn.metrics import classification_report, confusion_matrix\n",
    "from sklearn.metrics import confusion_matrix, classification_report\n",
    "import pandas as pd\n",
    "import numpy as np\n",
    "from sklearn.feature_extraction.text import TfidfVectorizer\n",
    "from sklearn.model_selection import train_test_split\n",
    "from sklearn.preprocessing import StandardScaler,LabelEncoder\n",
    "import matplotlib.pyplot as plt\n",
    "import seaborn as sns\n",
    "from scipy.sparse import hstack"
   ]
  },
  {
   "cell_type": "code",
   "execution_count": 5,
   "metadata": {},
   "outputs": [],
   "source": [
    "df=pd.read_csv('/Users/isaromobru/Desktop/FakeNews 10.57.24/proyecto_machine_learning_Fake_News/notebooks/processedstopword1.csv')"
   ]
  },
  {
   "cell_type": "code",
   "execution_count": 6,
   "metadata": {},
   "outputs": [
    {
     "data": {
      "text/html": [
       "<div>\n",
       "<style scoped>\n",
       "    .dataframe tbody tr th:only-of-type {\n",
       "        vertical-align: middle;\n",
       "    }\n",
       "\n",
       "    .dataframe tbody tr th {\n",
       "        vertical-align: top;\n",
       "    }\n",
       "\n",
       "    .dataframe thead th {\n",
       "        text-align: right;\n",
       "    }\n",
       "</style>\n",
       "<table border=\"1\" class=\"dataframe\">\n",
       "  <thead>\n",
       "    <tr style=\"text-align: right;\">\n",
       "      <th></th>\n",
       "      <th>title</th>\n",
       "      <th>text</th>\n",
       "      <th>subject</th>\n",
       "      <th>date</th>\n",
       "      <th>label</th>\n",
       "    </tr>\n",
       "  </thead>\n",
       "  <tbody>\n",
       "    <tr>\n",
       "      <th>0</th>\n",
       "      <td>U.S. budget fight loom Republicans flip fiscal...</td>\n",
       "      <td>WASHINGTON Reuters head conservative republica...</td>\n",
       "      <td>politicsNews</td>\n",
       "      <td>December 31, 2017</td>\n",
       "      <td>1</td>\n",
       "    </tr>\n",
       "    <tr>\n",
       "      <th>1</th>\n",
       "      <td>U.S. military accept transgender recruit Monda...</td>\n",
       "      <td>WASHINGTON Reuters Transgender people allow fi...</td>\n",
       "      <td>politicsNews</td>\n",
       "      <td>December 29, 2017</td>\n",
       "      <td>1</td>\n",
       "    </tr>\n",
       "    <tr>\n",
       "      <th>2</th>\n",
       "      <td>senior U.S. republican senator let Mr. Mueller...</td>\n",
       "      <td>WASHINGTON Reuters special counsel investigati...</td>\n",
       "      <td>politicsNews</td>\n",
       "      <td>December 31, 2017</td>\n",
       "      <td>1</td>\n",
       "    </tr>\n",
       "    <tr>\n",
       "      <th>3</th>\n",
       "      <td>FBI Russia probe help australian diplomat tip NYT</td>\n",
       "      <td>WASHINGTON Reuters trump campaign adviser Geor...</td>\n",
       "      <td>politicsNews</td>\n",
       "      <td>December 30, 2017</td>\n",
       "      <td>1</td>\n",
       "    </tr>\n",
       "    <tr>\n",
       "      <th>4</th>\n",
       "      <td>trump want Postal Service charge much Amazon s...</td>\n",
       "      <td>SEATTLE WASHINGTON Reuters President Donald Tr...</td>\n",
       "      <td>politicsNews</td>\n",
       "      <td>December 29, 2017</td>\n",
       "      <td>1</td>\n",
       "    </tr>\n",
       "    <tr>\n",
       "      <th>...</th>\n",
       "      <td>...</td>\n",
       "      <td>...</td>\n",
       "      <td>...</td>\n",
       "      <td>...</td>\n",
       "      <td>...</td>\n",
       "    </tr>\n",
       "    <tr>\n",
       "      <th>44684</th>\n",
       "      <td>mcpain John McCain Furious Iran treat US Sailo...</td>\n",
       "      <td>21st Century Wire say 21wire report early week...</td>\n",
       "      <td>Middle-east</td>\n",
       "      <td>January 16, 2016</td>\n",
       "      <td>0</td>\n",
       "    </tr>\n",
       "    <tr>\n",
       "      <th>44685</th>\n",
       "      <td>justice Yahoo Settles E mail Privacy Class act...</td>\n",
       "      <td>21st Century Wire say familiar theme whenever ...</td>\n",
       "      <td>Middle-east</td>\n",
       "      <td>January 16, 2016</td>\n",
       "      <td>0</td>\n",
       "    </tr>\n",
       "    <tr>\n",
       "      <th>44686</th>\n",
       "      <td>Sunnistan US Allied safe zone plan take Territ...</td>\n",
       "      <td>Patrick Henningsen   21st Century WireRemember...</td>\n",
       "      <td>Middle-east</td>\n",
       "      <td>January 15, 2016</td>\n",
       "      <td>0</td>\n",
       "    </tr>\n",
       "    <tr>\n",
       "      <th>44687</th>\n",
       "      <td>blow $ 700 million Al Jazeera America finally ...</td>\n",
       "      <td>21st Century Wire say Al Jazeera America go hi...</td>\n",
       "      <td>Middle-east</td>\n",
       "      <td>January 14, 2016</td>\n",
       "      <td>0</td>\n",
       "    </tr>\n",
       "    <tr>\n",
       "      <th>44688</th>\n",
       "      <td>10 U.S. Navy Sailors hold iranian Military sig...</td>\n",
       "      <td>21st Century Wire say 21wire predict new year ...</td>\n",
       "      <td>Middle-east</td>\n",
       "      <td>January 12, 2016</td>\n",
       "      <td>0</td>\n",
       "    </tr>\n",
       "  </tbody>\n",
       "</table>\n",
       "<p>44689 rows × 5 columns</p>\n",
       "</div>"
      ],
      "text/plain": [
       "                                                   title  \\\n",
       "0      U.S. budget fight loom Republicans flip fiscal...   \n",
       "1      U.S. military accept transgender recruit Monda...   \n",
       "2      senior U.S. republican senator let Mr. Mueller...   \n",
       "3      FBI Russia probe help australian diplomat tip NYT   \n",
       "4      trump want Postal Service charge much Amazon s...   \n",
       "...                                                  ...   \n",
       "44684  mcpain John McCain Furious Iran treat US Sailo...   \n",
       "44685  justice Yahoo Settles E mail Privacy Class act...   \n",
       "44686  Sunnistan US Allied safe zone plan take Territ...   \n",
       "44687  blow $ 700 million Al Jazeera America finally ...   \n",
       "44688  10 U.S. Navy Sailors hold iranian Military sig...   \n",
       "\n",
       "                                                    text       subject  \\\n",
       "0      WASHINGTON Reuters head conservative republica...  politicsNews   \n",
       "1      WASHINGTON Reuters Transgender people allow fi...  politicsNews   \n",
       "2      WASHINGTON Reuters special counsel investigati...  politicsNews   \n",
       "3      WASHINGTON Reuters trump campaign adviser Geor...  politicsNews   \n",
       "4      SEATTLE WASHINGTON Reuters President Donald Tr...  politicsNews   \n",
       "...                                                  ...           ...   \n",
       "44684  21st Century Wire say 21wire report early week...   Middle-east   \n",
       "44685  21st Century Wire say familiar theme whenever ...   Middle-east   \n",
       "44686  Patrick Henningsen   21st Century WireRemember...   Middle-east   \n",
       "44687  21st Century Wire say Al Jazeera America go hi...   Middle-east   \n",
       "44688  21st Century Wire say 21wire predict new year ...   Middle-east   \n",
       "\n",
       "                     date  label  \n",
       "0      December 31, 2017       1  \n",
       "1      December 29, 2017       1  \n",
       "2      December 31, 2017       1  \n",
       "3      December 30, 2017       1  \n",
       "4      December 29, 2017       1  \n",
       "...                   ...    ...  \n",
       "44684    January 16, 2016      0  \n",
       "44685    January 16, 2016      0  \n",
       "44686    January 15, 2016      0  \n",
       "44687    January 14, 2016      0  \n",
       "44688    January 12, 2016      0  \n",
       "\n",
       "[44689 rows x 5 columns]"
      ]
     },
     "execution_count": 6,
     "metadata": {},
     "output_type": "execute_result"
    }
   ],
   "source": [
    "df"
   ]
  },
  {
   "cell_type": "code",
   "execution_count": 13,
   "metadata": {},
   "outputs": [],
   "source": [
    "from scipy.sparse import csr_matrix, hstack\n",
    "# Eliminar Na\n",
    "df['text'] = df['text'].fillna(\"\")\n",
    "\n",
    "# Vectoriza la columna 'text'\n",
    "vectorizer_text = TfidfVectorizer(max_features=5000)\n",
    "X_text = vectorizer_text.fit_transform(df['text'])\n",
    "\n",
    "# Vectoriza la columna 'title'\n",
    "vectorizer_title = TfidfVectorizer(max_features=1000)\n",
    "X_title = vectorizer_title.fit_transform(df['title'])\n",
    "\n",
    "\n",
    "# Combina las tres fuentes de información en una única matriz de características\n",
    "X = hstack([ X_title, X_text])\n",
    "\n",
    "# Define la variable objetivo; en este ejemplo, se asume que la columna \"label\" es la etiqueta a predecir\n",
    "y = df['label']\n",
    "\n",
    "# Divide los datos en conjuntos de entrenamiento y prueba\n",
    "X_train, X_test, y_train, y_test = train_test_split(X, y, test_size=0.2, random_state=42)"
   ]
  },
  {
   "cell_type": "markdown",
   "metadata": {},
   "source": [
    "## Regresión Logística"
   ]
  },
  {
   "cell_type": "code",
   "execution_count": 4,
   "metadata": {},
   "outputs": [
    {
     "data": {
      "text/plain": [
       "(array([[4609,   39],\n",
       "        [  40, 4250]]),\n",
       " '              precision    recall  f1-score   support\\n\\n           0       0.99      0.99      0.99      4648\\n           1       0.99      0.99      0.99      4290\\n\\n    accuracy                           0.99      8938\\n   macro avg       0.99      0.99      0.99      8938\\nweighted avg       0.99      0.99      0.99      8938\\n')"
      ]
     },
     "execution_count": 4,
     "metadata": {},
     "output_type": "execute_result"
    }
   ],
   "source": [
    "\n",
    "# Entrenar el modelo de Regresión Logística\n",
    "logreg_model = LogisticRegression(max_iter=500, solver='liblinear')  # Solver optimizado para datos grandes\n",
    "logreg_model.fit(X_train, y_train)\n",
    "\n",
    "# Predicciones en el conjunto de prueba\n",
    "y_pred_logreg = logreg_model.predict(X_test)\n",
    "\n",
    "# Evaluar el modelo\n",
    "conf_matrix_logreg = confusion_matrix(y_test, y_pred_logreg)\n",
    "class_report_logreg = classification_report(y_test, y_pred_logreg)\n",
    "\n",
    "# Mostrar los resultados\n",
    "conf_matrix_logreg, class_report_logreg"
   ]
  },
  {
   "cell_type": "markdown",
   "metadata": {},
   "source": [
    "El modelo indica unos valores muy altos.\n",
    "- Precisión= 0,99, lo que quiere decir un 99% de precisión \n",
    "- f1-score y Recall= Respectivamente estos indicadores muestran que tan bien el modelo encuentra todos los casos de una clase y el balance entre precisión y recall, en nuestro caso un 0,99"
   ]
  },
  {
   "cell_type": "code",
   "execution_count": 6,
   "metadata": {},
   "outputs": [
    {
     "data": {
      "image/png": "[encoded data removed]",
      "text/plain": [
       "<Figure size 600x500 with 2 Axes>"
      ]
     },
     "metadata": {},
     "output_type": "display_data"
    }
   ],
   "source": [
    "# Definir valores de la matriz de confusión\n",
    "cm = np.array([[4648, 39],\n",
    "               [40, 4290]])\n",
    "\n",
    "# Etiquetas de las clases\n",
    "labels = ['Fake', 'True']\n",
    "\n",
    "# Graficar la matriz de confusión\n",
    "plt.figure(figsize=(6, 5))\n",
    "sns.heatmap(cm, annot=True, fmt='d', cmap='Blues', xticklabels=labels, yticklabels=labels)\n",
    "plt.xlabel('Predicción')\n",
    "plt.ylabel('Real')\n",
    "plt.title('Matriz de Confusión de la regresión logística')\n",
    "plt.show();\n"
   ]
  },
  {
   "cell_type": "markdown",
   "metadata": {},
   "source": [
    "Esta matriz de confusión nos indica que nuestro modelo clasifica 4589 fakes cuando son fake, 4225 True cuando son True. \n",
    "Por otro lado, se equivoca clasificando Fake cuando es True 65 y True cuando es Fake 59, son valores bastante bajos teniendo en cuenta el tamaño de la muestra "
   ]
  },
  {
   "cell_type": "markdown",
   "metadata": {},
   "source": [
    "la regresión logística tiene una precisión muy alta de un 0,99, por lo que voy a comprobar si tiene overfitting"
   ]
  },
  {
   "cell_type": "code",
   "execution_count": 7,
   "metadata": {},
   "outputs": [
    {
     "data": {
      "text/plain": [
       "(0.04418034926371145, 0.051730382447475166)"
      ]
     },
     "execution_count": 7,
     "metadata": {},
     "output_type": "execute_result"
    }
   ],
   "source": [
    "from sklearn.metrics import accuracy_score, log_loss, confusion_matrix, classification_report\n",
    "\n",
    "# 5. Evaluación del modelo\n",
    "# Predicciones\n",
    "y_train_pred_proba = logreg_model.predict_proba(X_train)[:, 1]  # Probabilidad de la clase 1 en entrenamiento\n",
    "y_test_pred_proba = logreg_model.predict_proba(X_test)[:, 1]    # Probabilidad de la clase 1 en prueba\n",
    "y_test_pred = logreg_model.predict(X_test)\n",
    "\n",
    "# Cálculo de log loss\n",
    "log_loss_train = log_loss(y_train, y_train_pred_proba)\n",
    "log_loss_test = log_loss(y_test, y_test_pred_proba)\n",
    "\n",
    "log_loss_train, log_loss_test"
   ]
  },
  {
   "cell_type": "markdown",
   "metadata": {},
   "source": [
    "La log loss (pérdida logarítmica) es una métrica que mide qué tan bien un modelo de clasificación predice probabilidades en lugar de simplemente etiquetas. Se usa especialmente en modelos de clasificación binaria y multiclase.\n",
    "La diferencia en nuestro caso es muy pequeña (0,0072) lo que indica que nuestro modelo genera bien y no causa overfitting\n"
   ]
  },
  {
   "cell_type": "code",
   "execution_count": 8,
   "metadata": {},
   "outputs": [
    {
     "name": "stdout",
     "output_type": "stream",
     "text": [
      "Scores por cada fold: [0.98948311 0.98657418 0.98131573 0.98142761 0.98713215]\n",
      "Precisión promedio: 0.9852\n",
      "Desviación estándar: 0.0033\n"
     ]
    }
   ],
   "source": [
    "from sklearn.model_selection import cross_val_score\n",
    "from sklearn.linear_model import LogisticRegression\n",
    "\n",
    "# Aplicar Validación Cruzada (Usando 5 folds)\n",
    "cv_scores = cross_val_score(logreg_model, X, y, cv=5, scoring='accuracy')\n",
    "\n",
    "# Mostrar resultados\n",
    "print(f\"Scores por cada fold: {cv_scores}\")\n",
    "print(f\"Precisión promedio: {cv_scores.mean():.4f}\")\n",
    "print(f\"Desviación estándar: {cv_scores.std():.4f}\")\n"
   ]
  },
  {
   "cell_type": "markdown",
   "metadata": {},
   "source": [
    "## XG-Boost"
   ]
  },
  {
   "cell_type": "code",
   "execution_count": 9,
   "metadata": {},
   "outputs": [
    {
     "data": {
      "text/plain": [
       "(array([[4640,    8],\n",
       "        [  10, 4280]]),\n",
       " '              precision    recall  f1-score   support\\n\\n           0     0.9978    0.9983    0.9981      4648\\n           1     0.9981    0.9977    0.9979      4290\\n\\n    accuracy                         0.9980      8938\\n   macro avg     0.9980    0.9980    0.9980      8938\\nweighted avg     0.9980    0.9980    0.9980      8938\\n')"
      ]
     },
     "execution_count": 9,
     "metadata": {},
     "output_type": "execute_result"
    }
   ],
   "source": [
    "from xgboost import XGBClassifier\n",
    "\n",
    "xgb_model = XGBClassifier(\n",
    "    eval_metric='logloss',   # Métrica de evaluación\n",
    "    \n",
    "    max_depth=6,             # Controla la complejidad del modelo\n",
    "    learning_rate=0.1,       # Tasa de aprendizaje equilibrada\n",
    "    n_estimators=300,        # Aumenta el número de árboles para mejorar el ajuste\n",
    "    subsample=0.8,           # Reduce overfitting usando solo el 80% de los datos por árbol\n",
    "    colsample_bytree=0.8,    # Usa el 80% de las características en cada árbol\n",
    "    gamma=0.1,               # Ayuda a la regularización\n",
    "    reg_lambda=1,            # Regularización L2 para evitar overfitting\n",
    "    reg_alpha=0.1            # Regularización L1\n",
    ")\n",
    "\n",
    "# Entrenar el modelo\n",
    "xgb_model.fit(X_train, y_train)\n",
    "\n",
    "# Predicciones\n",
    "y_pred_xgb = xgb_model.predict(X_test)\n",
    "\n",
    "# Evaluar el modelo\n",
    "conf_matrix = confusion_matrix(y_test, y_pred_xgb)\n",
    "class_report = classification_report(y_test, y_pred_xgb, digits=4)\n",
    "\n",
    "# Mostrar los resultados\n",
    "conf_matrix, class_report\n"
   ]
  },
  {
   "cell_type": "code",
   "execution_count": 11,
   "metadata": {},
   "outputs": [
    {
     "data": {
      "image/png": "[encoded data removed]",
      "text/plain": [
       "<Figure size 600x500 with 2 Axes>"
      ]
     },
     "metadata": {},
     "output_type": "display_data"
    }
   ],
   "source": [
    "# Definir valores de la matriz de confusión\n",
    "cm = np.array([[4640, 8],\n",
    "               [10, 4280]])\n",
    "\n",
    "# Etiquetas de las clases\n",
    "labels = ['Fake', 'True']\n",
    "\n",
    "# Graficar la matriz de confusión\n",
    "plt.figure(figsize=(6, 5))\n",
    "sns.heatmap(cm, annot=True, fmt='d', cmap='Blues', xticklabels=labels, yticklabels=labels)\n",
    "plt.xlabel('Predicción')\n",
    "plt.ylabel('Real')\n",
    "plt.title('Matriz de Confusión de la regresión logística')\n",
    "plt.show();\n"
   ]
  },
  {
   "cell_type": "markdown",
   "metadata": {},
   "source": [
    "Alta precisión en validación cruzada (99.65%)\n",
    "El modelo es consistentemente preciso en diferentes subconjuntos de los datos.\n",
    "Si hubiera overfitting, esperaríamos una caída más pronunciada en los datos de validación.\n",
    "Baja variabilidad entre folds (0.0013)\n",
    "La desviación estándar es muy pequeña (0.13%), lo que indica que el modelo es estable y generaliza bien en diferentes subconjuntos.\n",
    "Si la desviación estándar fuera alta (>2-3%), el modelo sería inconsistente.\n"
   ]
  },
  {
   "cell_type": "code",
   "execution_count": 12,
   "metadata": {},
   "outputs": [
    {
     "data": {
      "text/plain": [
       "(0.00044771443559615435, 0.00870670680058474)"
      ]
     },
     "execution_count": 12,
     "metadata": {},
     "output_type": "execute_result"
    }
   ],
   "source": [
    "# Calcular las probabilidades predichas para calcular log loss\n",
    "y_train_pred_probaxgb = xgb_model.predict_proba(X_train)[:, 1]  # Probabilidad de la clase 1 en entrenamiento\n",
    "y_test_pred_probaxgb = xgb_model.predict_proba(X_test)[:, 1]    # Probabilidad de la clase 1 en prueba\n",
    "\n",
    "# Calcular log loss en entrenamiento y prueba\n",
    "log_loss_train = log_loss(y_train, y_train_pred_probaxgb)\n",
    "log_loss_test = log_loss(y_test, y_test_pred_probaxgb)\n",
    "\n",
    "# Mostrar los resultados\n",
    "log_loss_train, log_loss_test\n"
   ]
  },
  {
   "cell_type": "code",
   "execution_count": 13,
   "metadata": {},
   "outputs": [
    {
     "name": "stdout",
     "output_type": "stream",
     "text": [
      "Precisión promedio: 0.9965\n",
      "Desviación estándar: 0.0016\n"
     ]
    }
   ],
   "source": [
    "# Ejecutar validación cruzada\n",
    "cv_scores = cross_val_score(xgb_model, X, y, cv=5, scoring='accuracy')\n",
    "\n",
    "# Mostrar los resultados\n",
    "print(f\"Precisión promedio: {cv_scores.mean():.4f}\")\n",
    "print(f\"Desviación estándar: {cv_scores.std():.4f}\")"
   ]
  },
  {
   "cell_type": "markdown",
   "metadata": {},
   "source": [
    "El log loss en entrenamiento es extremadamente bajo (0.0006), lo que indica que el modelo memoriza muy bien los datos de entrenamiento.\n",
    "El log loss en prueba es un poco mayor (0.0104), pero sigue siendo muy bajo.\n",
    "La diferencia entre ambos (0.0098) es pequeña, lo que sugiere que no hay un overfitting grave.\n",
    "El modelo generaliza bien, ya que la diferencia entre entrenamiento y prueba no es demasiado grande."
   ]
  },
  {
   "cell_type": "markdown",
   "metadata": {},
   "source": [
    "El modelo no tiene un problema grave de overfitting. La validación cruzada confirma que el modelo generaliza bien."
   ]
  },
  {
   "cell_type": "markdown",
   "metadata": {},
   "source": [
    "## Gradient boosting"
   ]
  },
  {
   "cell_type": "code",
   "execution_count": 14,
   "metadata": {},
   "outputs": [
    {
     "data": {
      "text/plain": [
       "(array([[4621,   27],\n",
       "        [  13, 4277]]),\n",
       " '              precision    recall  f1-score   support\\n\\n           0       1.00      0.99      1.00      4648\\n           1       0.99      1.00      1.00      4290\\n\\n    accuracy                           1.00      8938\\n   macro avg       1.00      1.00      1.00      8938\\nweighted avg       1.00      1.00      1.00      8938\\n')"
      ]
     },
     "execution_count": 14,
     "metadata": {},
     "output_type": "execute_result"
    }
   ],
   "source": [
    "from sklearn.ensemble import GradientBoostingClassifier\n",
    "\n",
    "# Entrenar el modelo Gradient Boosting\n",
    "gb_model = GradientBoostingClassifier(n_estimators=100, learning_rate=0.1, max_depth=3, random_state=42)\n",
    "gb_model.fit(X_train, y_train)\n",
    "\n",
    "# Predicciones\n",
    "y_pred_gb = gb_model.predict(X_test)\n",
    "\n",
    "# Evaluar el modelo\n",
    "conf_matrix_gb = confusion_matrix(y_test, y_pred_gb)\n",
    "class_report_gb = classification_report(y_test, y_pred_gb)\n",
    "\n",
    "# Mostrar los resultados\n",
    "conf_matrix_gb, class_report_gb"
   ]
  },
  {
   "cell_type": "code",
   "execution_count": 15,
   "metadata": {},
   "outputs": [
    {
     "data": {
      "image/png": "[encoded data removed]",
      "text/plain": [
       "<Figure size 600x500 with 2 Axes>"
      ]
     },
     "metadata": {},
     "output_type": "display_data"
    }
   ],
   "source": [
    "import matplotlib.pyplot as plt\n",
    "import seaborn as sns\n",
    "\n",
    "# Graficar la matriz de confusión para Gradient Boosting\n",
    "plt.figure(figsize=(6, 5))\n",
    "sns.heatmap([[4621, 27], [13, 4277]], annot=True, fmt='d', cmap='Blues', xticklabels=['Clase 0', 'Clase 1'], yticklabels=['Clase 0', 'Clase 1'])\n",
    "plt.xlabel('Predicción')\n",
    "plt.ylabel('Real')\n",
    "plt.title('Matriz de Confusión - Gradient Boosting')\n",
    "plt.show()\n"
   ]
  },
  {
   "cell_type": "markdown",
   "metadata": {},
   "source": [
    "## NP-Bayes"
   ]
  },
  {
   "cell_type": "code",
   "execution_count": 16,
   "metadata": {},
   "outputs": [
    {
     "name": "stdout",
     "output_type": "stream",
     "text": [
      "[[4455  193]\n",
      " [ 249 4041]]\n",
      "              precision    recall  f1-score   support\n",
      "\n",
      "           0       0.95      0.96      0.95      4648\n",
      "           1       0.95      0.94      0.95      4290\n",
      "\n",
      "    accuracy                           0.95      8938\n",
      "   macro avg       0.95      0.95      0.95      8938\n",
      "weighted avg       0.95      0.95      0.95      8938\n",
      "\n"
     ]
    }
   ],
   "source": [
    "from sklearn.naive_bayes import MultinomialNB\n",
    "# Entrenamiento\n",
    "model = MultinomialNB()\n",
    "model.fit(X_train, y_train)\n",
    "\n",
    "# Predicciones\n",
    "y_pred = model.predict(X_test)\n",
    "\n",
    "# Evaluación\n",
    "print(confusion_matrix(y_test, y_pred))\n",
    "print(classification_report(y_test, y_pred))\n"
   ]
  },
  {
   "cell_type": "code",
   "execution_count": 17,
   "metadata": {},
   "outputs": [
    {
     "data": {
      "image/png": "[encoded data removed]",
      "text/plain": [
       "<Figure size 600x500 with 2 Axes>"
      ]
     },
     "metadata": {},
     "output_type": "display_data"
    }
   ],
   "source": [
    "import matplotlib.pyplot as plt\n",
    "import seaborn as sns\n",
    "import numpy as np\n",
    "from sklearn.metrics import confusion_matrix\n",
    "\n",
    "# Definir valores de la matriz de confusión\n",
    "cm = np.array([[4455, 193],\n",
    "               [249, 4041]])\n",
    "\n",
    "# Etiquetas de las clases\n",
    "labels = ['Fake', 'True']\n",
    "\n",
    "# Graficar la matriz de confusión\n",
    "plt.figure(figsize=(6, 5))\n",
    "sns.heatmap(cm, annot=True, fmt='d', cmap='Blues', xticklabels=labels, yticklabels=labels)\n",
    "plt.xlabel('Predicción')\n",
    "plt.ylabel('Real')\n",
    "plt.title('Matriz de Confusión')\n",
    "plt.show();\n"
   ]
  },
  {
   "cell_type": "markdown",
   "metadata": {},
   "source": [
    "# Random Forest\n"
   ]
  },
  {
   "cell_type": "code",
   "execution_count": 8,
   "metadata": {},
   "outputs": [
    {
     "data": {
      "text/plain": [
       "(array([[4644,    4],\n",
       "        [  13, 4277]]),\n",
       " '              precision    recall  f1-score   support\\n\\n           0       1.00      1.00      1.00      4648\\n           1       1.00      1.00      1.00      4290\\n\\n    accuracy                           1.00      8938\\n   macro avg       1.00      1.00      1.00      8938\\nweighted avg       1.00      1.00      1.00      8938\\n')"
      ]
     },
     "execution_count": 8,
     "metadata": {},
     "output_type": "execute_result"
    }
   ],
   "source": [
    "from sklearn.ensemble import RandomForestClassifier\n",
    "\n",
    "# Entrenar el modelo Random Forest\n",
    "rf_model = RandomForestClassifier(n_estimators=100, max_depth=None, random_state=42)\n",
    "rf_model.fit(X_train, y_train)\n",
    "\n",
    "# Predicciones en el conjunto de prueba\n",
    "y_pred_rf = rf_model.predict(X_test)\n",
    "\n",
    "# Evaluar el modelo\n",
    "conf_matrix_rf = confusion_matrix(y_test, y_pred_rf)\n",
    "class_report_rf = classification_report(y_test, y_pred_rf)\n",
    "\n",
    "# Mostrar los resultados\n",
    "conf_matrix_rf, class_report_rf\n"
   ]
  },
  {
   "cell_type": "code",
   "execution_count": 19,
   "metadata": {},
   "outputs": [
    {
     "data": {
      "image/png": "[encoded data removed]",
      "text/plain": [
       "<Figure size 600x500 with 2 Axes>"
      ]
     },
     "metadata": {},
     "output_type": "display_data"
    }
   ],
   "source": [
    "# Definir valores de la matriz de confusión\n",
    "cm = np.array([[4643, 5],\n",
    "               [12, 4278]])\n",
    "\n",
    "# Etiquetas de las clases\n",
    "labels = ['Fake', 'True']\n",
    "\n",
    "# Graficar la matriz de confusión\n",
    "plt.figure(figsize=(6, 5))\n",
    "sns.heatmap(cm, annot=True, fmt='d', cmap='Blues', xticklabels=labels, yticklabels=labels)\n",
    "plt.xlabel('Predicción')\n",
    "plt.ylabel('Real')\n",
    "plt.title('Matriz de Confusión Random Forest')\n",
    "plt.show();\n"
   ]
  },
  {
   "cell_type": "markdown",
   "metadata": {},
   "source": [
    "## Supervector Machine"
   ]
  },
  {
   "cell_type": "code",
   "execution_count": 20,
   "metadata": {},
   "outputs": [
    {
     "data": {
      "text/plain": [
       "(array([[4631,   17],\n",
       "        [  24, 4266]]),\n",
       " '              precision    recall  f1-score   support\\n\\n           0       0.99      1.00      1.00      4648\\n           1       1.00      0.99      1.00      4290\\n\\n    accuracy                           1.00      8938\\n   macro avg       1.00      1.00      1.00      8938\\nweighted avg       1.00      1.00      1.00      8938\\n')"
      ]
     },
     "execution_count": 20,
     "metadata": {},
     "output_type": "execute_result"
    }
   ],
   "source": [
    "from sklearn.svm import SVC\n",
    "# Entrenar el modelo SVM\n",
    "svm_model = SVC(kernel='linear')\n",
    "svm_model.fit(X_train, y_train)\n",
    "\n",
    "# Predicciones en el conjunto de prueba\n",
    "y_pred_svm = svm_model.predict(X_test)\n",
    "\n",
    "# Evaluar el modelo\n",
    "conf_matrix_svm = confusion_matrix(y_test, y_pred_svm)\n",
    "class_report_svm = classification_report(y_test, y_pred_svm)\n",
    "\n",
    "# Mostrar los resultados\n",
    "conf_matrix_svm, class_report_svm"
   ]
  },
  {
   "cell_type": "code",
   "execution_count": 21,
   "metadata": {},
   "outputs": [
    {
     "data": {
      "image/png": "[encoded data removed]",
      "text/plain": [
       "<Figure size 600x500 with 2 Axes>"
      ]
     },
     "metadata": {},
     "output_type": "display_data"
    }
   ],
   "source": [
    "# Definir valores de la matriz de confusión\n",
    "cm = np.array([[4631, 17],\n",
    "               [24, 4266]])\n",
    "\n",
    "# Etiquetas de las clases\n",
    "labels = ['Fake', 'True']\n",
    "\n",
    "# Graficar la matriz de confusión\n",
    "plt.figure(figsize=(6, 5))\n",
    "sns.heatmap(cm, annot=True, fmt='d', cmap='Blues', xticklabels=labels, yticklabels=labels)\n",
    "plt.xlabel('Predicción')\n",
    "plt.ylabel('Real')\n",
    "plt.title('Matriz de Confusión SVM')\n",
    "plt.show();\n"
   ]
  },
  {
   "cell_type": "code",
   "execution_count": 22,
   "metadata": {},
   "outputs": [
    {
     "data": {
      "image/png": "[encoded data removed]",
      "text/plain": [
       "<Figure size 1000x600 with 1 Axes>"
      ]
     },
     "metadata": {},
     "output_type": "display_data"
    }
   ],
   "source": [
    "from sklearn.metrics import accuracy_score, f1_score, roc_auc_score\n",
    "# 📊 Evaluar cada modelo\n",
    "def evaluar_modelo(modelo, nombre):\n",
    "    y_pred = modelo.predict(X_test)\n",
    "    y_prob = modelo.predict_proba(X_test)[:, 1] if hasattr(modelo, \"predict_proba\") else None\n",
    "\n",
    "    acc = accuracy_score(y_test, y_pred)\n",
    "    f1 = f1_score(y_test, y_pred)\n",
    "    auc = roc_auc_score(y_test, y_prob) if y_prob is not None else np.nan\n",
    "    \n",
    "    return [acc, f1, auc]\n",
    "\n",
    "# Guardar resultados en un diccionario\n",
    "resultados = {\n",
    "    \"Regresión Logística\": evaluar_modelo(logreg_model, \"Regresión Logística\"),\n",
    "    \"Random Forest\": evaluar_modelo(rf_model, \"Random Forest\"),\n",
    "    \"XGBoost\": evaluar_modelo(xgb_model, \"XGBoost\"),\n",
    "    \"SVM\": evaluar_modelo(svm_model, \"SVM\"),\n",
    "    \"Nape Bayes\":evaluar_modelo (model,\"NPB\")\n",
    "}\n",
    "\n",
    "# 📊 Graficar resultados\n",
    "metricas = [\"Accuracy\", \"F1-Score\", \"ROC-AUC\"]\n",
    "valores = np.array(list(resultados.values()))\n",
    "\n",
    "fig, ax = plt.subplots(figsize=(10, 6))\n",
    "bar_width = 0.25\n",
    "indices = np.arange(len(resultados))\n",
    "\n",
    "# Crear barras para cada métrica\n",
    "for i, metric in enumerate(metricas):\n",
    "    ax.bar(indices + i * bar_width, valores[:, i], width=bar_width, label=metric)\n",
    "\n",
    "# Etiquetas y formato\n",
    "ax.set_xticks(indices + bar_width)\n",
    "ax.set_xticklabels(resultados.keys(), rotation=25)\n",
    "ax.set_ylabel(\"Puntuación\")\n",
    "ax.set_title(\"Comparación de Modelos\")\n",
    "ax.legend()\n",
    "\n",
    "# Mostrar gráfico\n",
    "plt.show()"
   ]
  },
  {
   "cell_type": "markdown",
   "metadata": {},
   "source": [
    "## Prueba  con noticias externas"
   ]
  },
  {
   "cell_type": "markdown",
   "metadata": {},
   "source": [
    "https://www.bbc.com/news/live/cly28qvp83pt"
   ]
  },
  {
   "cell_type": "code",
   "execution_count": 23,
   "metadata": {},
   "outputs": [],
   "source": [
    "# Ejemplo de noticia real y verdadero\n",
    "nueva_noticia = {\n",
    "    'title': \"Zelensky says UK and US volunteers survived Russian attack on hotel that killed four\",\n",
    "    'text': \"The precise significance of US intelligence to Ukraine's war effort has, for obvious reasons, never been spelled out in detail.But any prolonged interruption in the supply of US intelligence could have a catastrophic impact on Ukraine’s ability to defend itself, particularly as the Trump administration has already decided to suspend vital military assistance.Most analysts agree that it performs two important functions: helping Ukraine to plan offensive operations against Russian forces, and giving Kyiv vital advance warning of threats posed by incoming Russian drones and missiles.Satellite information and signal intercepts give Ukrainian forces on the frontline a sense of where Russian forces are, their movements and likely intentions.Without US intelligence, Ukraine will not be able to make such effective use of long-range Western weaponry, like the US-made Himars launchers or Stormshadow missiles supplied by Britain and France.\",\n",
    "    }\n"
   ]
  },
  {
   "cell_type": "code",
   "execution_count": 24,
   "metadata": {},
   "outputs": [],
   "source": [
    "import nltk\n",
    "from nltk.corpus import stopwords\n",
    "from nltk.tokenize import word_tokenize\n",
    "from nltk.stem import WordNetLemmatizer\n",
    "import string\n",
    "import spacy\n",
    "\n",
    "# Cargar modelo spaCy optimizado sin NER (más rápido)\n",
    "nlp = spacy.load(\"en_core_web_sm\", disable=[\"ner\", \"parser\"])\n",
    "\n",
    "stop_words = set(stopwords.words('english'))\n",
    "def preprocess_text(text):\n",
    "    doc = nlp(text)  # Procesa el texto con spaCy\n",
    "    processed_words = [token.lemma_ for token in doc if token.text.lower() not in stop_words and not token.is_punct]\n",
    "    return ' '.join(processed_words)\n",
    "\n",
    "# Aplicar la función más rápido con multiprocessing\n",
    "nueva_noticia['text'] = preprocess_text(nueva_noticia['text'])\n",
    "nueva_noticia['title'] = preprocess_text(nueva_noticia['title'])\n"
   ]
  },
  {
   "cell_type": "code",
   "execution_count": 25,
   "metadata": {},
   "outputs": [],
   "source": [
    "# Asegurar que usamos el mismo vectorizador entrenado\n",
    "X_noticia_title = vectorizer_title.transform([nueva_noticia['title']])\n",
    "X_noticia_text = vectorizer_text.transform([nueva_noticia['text']])\n"
   ]
  },
  {
   "cell_type": "code",
   "execution_count": 26,
   "metadata": {},
   "outputs": [],
   "source": [
    "# Concatenar características exactamente como en el entrenamiento\n",
    "X_noticia = hstack(( X_noticia_title, X_noticia_text))"
   ]
  },
  {
   "cell_type": "code",
   "execution_count": 27,
   "metadata": {},
   "outputs": [
    {
     "name": "stdout",
     "output_type": "stream",
     "text": [
      "Noticia FALSA\n"
     ]
    }
   ],
   "source": [
    "# Hacer la predicción con el modelo entrenado\n",
    "prediccion = svm_model.predict(X_noticia)\n",
    "\n",
    "# Mostrar resultado\n",
    "print(\"Noticia REAL\" if prediccion[0] == 1 else \"Noticia FALSA\")"
   ]
  },
  {
   "cell_type": "code",
   "execution_count": 28,
   "metadata": {},
   "outputs": [
    {
     "name": "stdout",
     "output_type": "stream",
     "text": [
      "Noticia FALSA\n"
     ]
    }
   ],
   "source": [
    "# Hacer la predicción con el modelo entrenado\n",
    "prediccion = logreg_model.predict(X_noticia)\n",
    "\n",
    "# Mostrar resultado\n",
    "print(\"Noticia REAL\" if prediccion[0] == 1 else \"Noticia FALSA\")"
   ]
  },
  {
   "cell_type": "code",
   "execution_count": 29,
   "metadata": {},
   "outputs": [
    {
     "name": "stdout",
     "output_type": "stream",
     "text": [
      "Noticia FALSA\n"
     ]
    }
   ],
   "source": [
    "# Hacer la predicción con el modelo entrenado\n",
    "prediccion = rf_model.predict(X_noticia)\n",
    "\n",
    "# Mostrar resultado\n",
    "print(\"Noticia REAL\" if prediccion[0] == 1 else \"Noticia FALSA\")"
   ]
  },
  {
   "cell_type": "code",
   "execution_count": 30,
   "metadata": {},
   "outputs": [
    {
     "name": "stdout",
     "output_type": "stream",
     "text": [
      "Noticia FALSA\n"
     ]
    }
   ],
   "source": [
    "# Hacer la predicción con el modelo entrenado\n",
    "prediccion = gb_model.predict(X_noticia)\n",
    "\n",
    "# Mostrar resultado\n",
    "print(\"Noticia REAL\" if prediccion[0] == 1 else \"Noticia FALSA\")"
   ]
  },
  {
   "cell_type": "code",
   "execution_count": 31,
   "metadata": {},
   "outputs": [
    {
     "name": "stdout",
     "output_type": "stream",
     "text": [
      "Noticia REAL\n"
     ]
    }
   ],
   "source": [
    "# Hacer la predicción con el modelo entrenado\n",
    "prediccion = model.predict(X_noticia)\n",
    "\n",
    "# Mostrar resultado\n",
    "print(\"Noticia REAL\" if prediccion[0] == 1 else \"Noticia FALSA\")"
   ]
  },
  {
   "cell_type": "markdown",
   "metadata": {},
   "source": [
    "El modelo predice perfecto por las etiquetas del subject debido a que las etiquetas no estan mezcladas en noticias falsas y verdaderas, por lo que le facilita al modelo a predecir."
   ]
  },
  {
   "cell_type": "code",
   "execution_count": 45,
   "metadata": {},
   "outputs": [],
   "source": [
    "#Middle-east-1"
   ]
  },
  {
   "cell_type": "code",
   "execution_count": 1,
   "metadata": {},
   "outputs": [],
   "source": [
    "# Ejemplo de noticia  verdadera y subject fake \n",
    "nueva_noticia3= {\n",
    "    'title': \"US 'destroying' world order, Ukraine's ambassador to UK says \",\n",
    "    'text': \"The US is destroying the established world order, Ukraine's ambassador to the UK has claimed.Valerii Zaluzhnyi said the White House had questioned the unity of the Western world and was taking more and more steps towards Russia, which launched a full-scale invasion of Ukraine in 2022.The comments come as the US puts pressure on Ukraine to make concessions ahead of any peace talks, and after a public clash between Ukrainian President Volodymyr Zelensky and his US counterpart Donald Trump.Zelensky has since said he is ready to work under Trump's 'strong leadership', an apparent cooling in tensions welcomed by Trump - and which comes after the US paused military aid to Kyiv.\",\n",
    "    'subject':\"News\"\n",
    "}"
   ]
  },
  {
   "cell_type": "code",
   "execution_count": 2,
   "metadata": {},
   "outputs": [],
   "source": [
    "import nltk\n",
    "from nltk.corpus import stopwords\n",
    "from nltk.tokenize import word_tokenize\n",
    "from nltk.stem import WordNetLemmatizer\n",
    "import string\n",
    "import spacy\n",
    "\n",
    "# Cargar modelo spaCy optimizado sin NER (más rápido)\n",
    "nlp = spacy.load(\"en_core_web_sm\", disable=[\"ner\", \"parser\"])\n",
    "\n",
    "stop_words = set(stopwords.words('english'))\n",
    "def preprocess_text(text):\n",
    "    doc = nlp(text)  # Procesa el texto con spaCy\n",
    "    processed_words = [token.lemma_ for token in doc if token.text.lower() not in stop_words and not token.is_punct]\n",
    "    return ' '.join(processed_words)\n",
    "\n",
    "# Aplicar la función más rápido con multiprocessing\n",
    "nueva_noticia3['text'] = preprocess_text(nueva_noticia3['text'])\n",
    "nueva_noticia3['title'] = preprocess_text(nueva_noticia3['title'])\n"
   ]
  },
  {
   "cell_type": "code",
   "execution_count": 3,
   "metadata": {},
   "outputs": [
    {
     "ename": "NameError",
     "evalue": "name 'vectorizer_title' is not defined",
     "output_type": "error",
     "traceback": [
      "\u001b[31m---------------------------------------------------------------------------\u001b[39m",
      "\u001b[31mNameError\u001b[39m                                 Traceback (most recent call last)",
      "\u001b[36mCell\u001b[39m\u001b[36m \u001b[39m\u001b[32mIn[3]\u001b[39m\u001b[32m, line 2\u001b[39m\n\u001b[32m      1\u001b[39m \u001b[38;5;66;03m# Asegurar que usamos el mismo vectorizador entrenado\u001b[39;00m\n\u001b[32m----> \u001b[39m\u001b[32m2\u001b[39m X_noticia_title3= \u001b[43mvectorizer_title\u001b[49m.transform([nueva_noticia3[\u001b[33m'\u001b[39m\u001b[33mtitle\u001b[39m\u001b[33m'\u001b[39m]])\n\u001b[32m      3\u001b[39m X_noticia_text3 = vectorizer_text.transform([nueva_noticia3[\u001b[33m'\u001b[39m\u001b[33mtext\u001b[39m\u001b[33m'\u001b[39m]])\n",
      "\u001b[31mNameError\u001b[39m: name 'vectorizer_title' is not defined"
     ]
    }
   ],
   "source": [
    "# Asegurar que usamos el mismo vectorizador entrenado\n",
    "X_noticia_title3= vectorizer_title.transform([nueva_noticia3['title']])\n",
    "X_noticia_text3 = vectorizer_text.transform([nueva_noticia3['text']])\n"
   ]
  },
  {
   "cell_type": "code",
   "execution_count": 37,
   "metadata": {},
   "outputs": [],
   "source": [
    "# Concatenar características exactamente como en el entrenamiento\n",
    "X_noticia3 = hstack(( X_noticia_title3, X_noticia_text3))"
   ]
  },
  {
   "cell_type": "code",
   "execution_count": 38,
   "metadata": {},
   "outputs": [
    {
     "name": "stdout",
     "output_type": "stream",
     "text": [
      "Noticia FALSA\n"
     ]
    }
   ],
   "source": [
    "# Hacer la predicción con el modelo entrenado\n",
    "prediccion = svm_model.predict(X_noticia3)\n",
    "\n",
    "# Mostrar resultado\n",
    "print(\"Noticia REAL\" if prediccion[0] == 1 else \"Noticia FALSA\")"
   ]
  },
  {
   "cell_type": "code",
   "execution_count": 39,
   "metadata": {},
   "outputs": [
    {
     "name": "stdout",
     "output_type": "stream",
     "text": [
      "Noticia FALSA\n"
     ]
    }
   ],
   "source": [
    "# Hacer la predicción con el modelo entrenado\n",
    "prediccion = logreg_model.predict(X_noticia3)\n",
    "\n",
    "# Mostrar resultado\n",
    "print(\"Noticia REAL\" if prediccion[0] == 1 else \"Noticia FALSA\")"
   ]
  },
  {
   "cell_type": "code",
   "execution_count": 40,
   "metadata": {},
   "outputs": [
    {
     "name": "stdout",
     "output_type": "stream",
     "text": [
      "Noticia FALSA\n"
     ]
    }
   ],
   "source": [
    "# Hacer la predicción con el modelo entrenado\n",
    "prediccion = rf_model.predict(X_noticia3)\n",
    "\n",
    "# Mostrar resultado\n",
    "print(\"Noticia REAL\" if prediccion[0] == 1 else \"Noticia FALSA\")"
   ]
  },
  {
   "cell_type": "code",
   "execution_count": 41,
   "metadata": {},
   "outputs": [
    {
     "name": "stdout",
     "output_type": "stream",
     "text": [
      "Noticia FALSA\n"
     ]
    }
   ],
   "source": [
    "# Hacer la predicción con el modelo entrenado\n",
    "prediccion = gb_model.predict(X_noticia3)\n",
    "\n",
    "# Mostrar resultado\n",
    "print(\"Noticia REAL\" if prediccion[0] == 1 else \"Noticia FALSA\")"
   ]
  },
  {
   "cell_type": "code",
   "execution_count": 42,
   "metadata": {},
   "outputs": [
    {
     "name": "stdout",
     "output_type": "stream",
     "text": [
      "Noticia REAL\n"
     ]
    }
   ],
   "source": [
    "# Hacer la predicción con el modelo entrenado\n",
    "prediccion = model.predict(X_noticia3)\n",
    "\n",
    "# Mostrar resultado\n",
    "print(\"Noticia REAL\" if prediccion[0] == 1 else \"Noticia FALSA\")"
   ]
  },
  {
   "cell_type": "code",
   "execution_count": 44,
   "metadata": {},
   "outputs": [],
   "source": [
    "# Ejemplo de noticia falsa y subject true \n",
    "nueva_noticia2= {\n",
    "    'title': \" It Almost Weirder That Grown Man On Roblox Isn’t Grooming Children\",\n",
    "    'text': \"SEATTLE—Voicing concern about the adult’s aberrant behavior, sources confirmed Monday that it was almost weirder that Richard Shea, a grown man on Roblox, wasn’t using the online gaming platform to groom children. “If he was on here trying to find underage players and lure them into some sort of sexual relationship, that would be super fucked-up, but at least it would explain his reasons for spending hours each day playing virtual experiences designed by children. This guy isn’t a predator, though,” said Roblox player Mason Briggs, 11, telling reporters that the fact that there was no sinister sexual motivation behind Shea’s dogged pursuit of high scores on games such as Blox Fruits and BedWars and that he seemed to play only for fun was bizarre and inexplicable. “I remember he invited me and a few friends to an in-game party where we could all play and communicate together. He never pressured us to reveal contact information or made any sort of inappropriate or explicit remark. He mostly just wanted tips on how to make it through the Ancient Ruins map on Adopt Me! It kind of gave me the creeps.” At press time, Briggs was reportedly all the more disturbed after receiving a private message from Shea informing her that he’d have even more time to play now that he had received tenure.\",\n",
    "    \n",
    "    }"
   ]
  },
  {
   "cell_type": "code",
   "execution_count": 45,
   "metadata": {},
   "outputs": [],
   "source": [
    "import nltk\n",
    "from nltk.corpus import stopwords\n",
    "from nltk.tokenize import word_tokenize\n",
    "from nltk.stem import WordNetLemmatizer\n",
    "import string\n",
    "import spacy\n",
    "\n",
    "# Cargar modelo spaCy optimizado sin NER (más rápido)\n",
    "nlp = spacy.load(\"en_core_web_sm\", disable=[\"ner\", \"parser\"])\n",
    "\n",
    "stop_words = set(stopwords.words('english'))\n",
    "def preprocess_text(text):\n",
    "    doc = nlp(text)  # Procesa el texto con spaCy\n",
    "    processed_words = [token.lemma_ for token in doc if token.text.lower() not in stop_words and not token.is_punct]\n",
    "    return ' '.join(processed_words)\n",
    "\n",
    "# Aplicar la función más rápido con multiprocessing\n",
    "nueva_noticia2['text'] = preprocess_text(nueva_noticia2['text'])\n",
    "nueva_noticia2['title'] = preprocess_text(nueva_noticia2['title'])\n"
   ]
  },
  {
   "cell_type": "code",
   "execution_count": 47,
   "metadata": {},
   "outputs": [],
   "source": [
    "# Asegurar que usamos el mismo vectorizador entrenado\n",
    "X_noticia_title2= vectorizer_title.transform([nueva_noticia2['title']])\n",
    "X_noticia_text2= vectorizer_text.transform([nueva_noticia2['text']])\n"
   ]
  },
  {
   "cell_type": "code",
   "execution_count": 48,
   "metadata": {},
   "outputs": [],
   "source": [
    "# Concatenar características exactamente como en el entrenamiento\n",
    "X_noticia2 = hstack(( X_noticia_title2, X_noticia_text2))"
   ]
  },
  {
   "cell_type": "code",
   "execution_count": 49,
   "metadata": {},
   "outputs": [
    {
     "name": "stdout",
     "output_type": "stream",
     "text": [
      "Noticia FALSA\n"
     ]
    }
   ],
   "source": [
    "# Hacer la predicción con el modelo entrenado\n",
    "prediccion = svm_model.predict(X_noticia2)\n",
    "\n",
    "# Mostrar resultado\n",
    "print(\"Noticia REAL\" if prediccion[0] == 1 else \"Noticia FALSA\")"
   ]
  },
  {
   "cell_type": "code",
   "execution_count": 50,
   "metadata": {},
   "outputs": [
    {
     "name": "stdout",
     "output_type": "stream",
     "text": [
      "Noticia FALSA\n"
     ]
    }
   ],
   "source": [
    "# Hacer la predicción con el modelo entrenado\n",
    "prediccion = logreg_model.predict(X_noticia2)\n",
    "\n",
    "# Mostrar resultado\n",
    "print(\"Noticia REAL\" if prediccion[0] == 1 else \"Noticia FALSA\")"
   ]
  },
  {
   "cell_type": "code",
   "execution_count": 51,
   "metadata": {},
   "outputs": [
    {
     "name": "stdout",
     "output_type": "stream",
     "text": [
      "Noticia FALSA\n"
     ]
    }
   ],
   "source": [
    "# Hacer la predicción con el modelo entrenado\n",
    "prediccion = rf_model.predict(X_noticia2)\n",
    "\n",
    "# Mostrar resultado\n",
    "print(\"Noticia REAL\" if prediccion[0] == 1 else \"Noticia FALSA\")"
   ]
  },
  {
   "cell_type": "code",
   "execution_count": 52,
   "metadata": {},
   "outputs": [
    {
     "name": "stdout",
     "output_type": "stream",
     "text": [
      "Noticia FALSA\n"
     ]
    }
   ],
   "source": [
    "# Hacer la predicción con el modelo entrenado\n",
    "prediccion = gb_model.predict(X_noticia2)\n",
    "\n",
    "# Mostrar resultado\n",
    "print(\"Noticia REAL\" if prediccion[0] == 1 else \"Noticia FALSA\")"
   ]
  },
  {
   "cell_type": "code",
   "execution_count": 53,
   "metadata": {},
   "outputs": [
    {
     "name": "stdout",
     "output_type": "stream",
     "text": [
      "Noticia FALSA\n"
     ]
    }
   ],
   "source": [
    "# Hacer la predicción con el modelo entrenado\n",
    "prediccion = model.predict(X_noticia2)\n",
    "\n",
    "# Mostrar resultado\n",
    "print(\"Noticia REAL\" if prediccion[0] == 1 else \"Noticia FALSA\")"
   ]
  }
 ],
 "metadata": {
  "kernelspec": {
   "display_name": ".venv",
   "language": "python",
   "name": "python3"
  },
  "language_info": {
   "codemirror_mode": {
    "name": "ipython",
    "version": 3
   },
   "file_extension": ".py",
   "mimetype": "text/x-python",
   "name": "python",
   "nbconvert_exporter": "python",
   "pygments_lexer": "ipython3",
   "version": "3.11.7"
  }
 },
 "nbformat": 4,
 "nbformat_minor": 2
}
