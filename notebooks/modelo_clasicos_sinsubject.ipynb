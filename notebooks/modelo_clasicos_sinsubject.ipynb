{
 "cells": [
  {
   "cell_type": "markdown",
   "metadata": {},
   "source": [
    "## Modelos base sin la variable subject"
   ]
  },
  {
   "cell_type": "markdown",
   "metadata": {},
   "source": [
    "En este notebook pretendo ver el impacto de la variable subject si los resultados mejoran o empeoran."
   ]
  },
  {
   "cell_type": "markdown",
   "metadata": {},
   "source": [
    "## Librerías "
   ]
  },
  {
   "cell_type": "code",
   "execution_count": 10,
   "metadata": {},
   "outputs": [],
   "source": [
    "from sklearn.model_selection import train_test_split\n",
    "from sklearn.model_selection import train_test_split\n",
    "from sklearn.feature_extraction.text import TfidfVectorizer\n",
    "from xgboost import XGBClassifier\n",
    "from sklearn.linear_model import LogisticRegression\n",
    "from sklearn.metrics import classification_report, confusion_matrix\n",
    "from sklearn.metrics import confusion_matrix, classification_report\n",
    "import pandas as pd\n",
    "import numpy as np\n",
    "from sklearn.feature_extraction.text import TfidfVectorizer\n",
    "from sklearn.model_selection import train_test_split\n",
    "from sklearn.preprocessing import StandardScaler,LabelEncoder\n",
    "import matplotlib.pyplot as plt\n",
    "import seaborn as sns\n",
    "from scipy.sparse import hstack"
   ]
  },
  {
   "cell_type": "markdown",
   "metadata": {},
   "source": [
    "## Carga de datos"
   ]
  },
  {
   "cell_type": "code",
   "execution_count": 11,
   "metadata": {},
   "outputs": [],
   "source": [
    "df=pd.read_csv('/Users/isaromobru/Desktop/FakeNews 10.57.24/proyecto_machine_learning_Fake_News/data/processed/archivo.csv')"
   ]
  },
  {
   "cell_type": "code",
   "execution_count": 12,
   "metadata": {},
   "outputs": [
    {
     "data": {
      "text/html": [
       "<div>\n",
       "<style scoped>\n",
       "    .dataframe tbody tr th:only-of-type {\n",
       "        vertical-align: middle;\n",
       "    }\n",
       "\n",
       "    .dataframe tbody tr th {\n",
       "        vertical-align: top;\n",
       "    }\n",
       "\n",
       "    .dataframe thead th {\n",
       "        text-align: right;\n",
       "    }\n",
       "</style>\n",
       "<table border=\"1\" class=\"dataframe\">\n",
       "  <thead>\n",
       "    <tr style=\"text-align: right;\">\n",
       "      <th></th>\n",
       "      <th>title</th>\n",
       "      <th>text</th>\n",
       "      <th>subject</th>\n",
       "      <th>date</th>\n",
       "      <th>label</th>\n",
       "      <th>text_length</th>\n",
       "      <th>title_length</th>\n",
       "      <th>text_word_count</th>\n",
       "      <th>title_word_count</th>\n",
       "      <th>subject_grouped</th>\n",
       "    </tr>\n",
       "  </thead>\n",
       "  <tbody>\n",
       "    <tr>\n",
       "      <th>0</th>\n",
       "      <td>U.S. budget fight loom Republicans flip fiscal...</td>\n",
       "      <td>WASHINGTON Reuters head conservative republica...</td>\n",
       "      <td>politicsNews</td>\n",
       "      <td>December 31, 2017</td>\n",
       "      <td>1</td>\n",
       "      <td>3293</td>\n",
       "      <td>53</td>\n",
       "      <td>469</td>\n",
       "      <td>8</td>\n",
       "      <td>politics</td>\n",
       "    </tr>\n",
       "    <tr>\n",
       "      <th>1</th>\n",
       "      <td>U.S. military accept transgender recruit Monda...</td>\n",
       "      <td>WASHINGTON Reuters Transgender people allow fi...</td>\n",
       "      <td>politicsNews</td>\n",
       "      <td>December 29, 2017</td>\n",
       "      <td>1</td>\n",
       "      <td>2930</td>\n",
       "      <td>56</td>\n",
       "      <td>397</td>\n",
       "      <td>7</td>\n",
       "      <td>politics</td>\n",
       "    </tr>\n",
       "    <tr>\n",
       "      <th>2</th>\n",
       "      <td>senior U.S. republican senator let Mr. Mueller...</td>\n",
       "      <td>WASHINGTON Reuters special counsel investigati...</td>\n",
       "      <td>politicsNews</td>\n",
       "      <td>December 31, 2017</td>\n",
       "      <td>1</td>\n",
       "      <td>1939</td>\n",
       "      <td>50</td>\n",
       "      <td>272</td>\n",
       "      <td>8</td>\n",
       "      <td>politics</td>\n",
       "    </tr>\n",
       "    <tr>\n",
       "      <th>3</th>\n",
       "      <td>FBI Russia probe help australian diplomat tip NYT</td>\n",
       "      <td>WASHINGTON Reuters trump campaign adviser Geor...</td>\n",
       "      <td>politicsNews</td>\n",
       "      <td>December 30, 2017</td>\n",
       "      <td>1</td>\n",
       "      <td>1755</td>\n",
       "      <td>49</td>\n",
       "      <td>241</td>\n",
       "      <td>8</td>\n",
       "      <td>politics</td>\n",
       "    </tr>\n",
       "    <tr>\n",
       "      <th>4</th>\n",
       "      <td>trump want Postal Service charge much Amazon s...</td>\n",
       "      <td>SEATTLE WASHINGTON Reuters President Donald Tr...</td>\n",
       "      <td>politicsNews</td>\n",
       "      <td>December 29, 2017</td>\n",
       "      <td>1</td>\n",
       "      <td>3632</td>\n",
       "      <td>53</td>\n",
       "      <td>530</td>\n",
       "      <td>8</td>\n",
       "      <td>politics</td>\n",
       "    </tr>\n",
       "    <tr>\n",
       "      <th>...</th>\n",
       "      <td>...</td>\n",
       "      <td>...</td>\n",
       "      <td>...</td>\n",
       "      <td>...</td>\n",
       "      <td>...</td>\n",
       "      <td>...</td>\n",
       "      <td>...</td>\n",
       "      <td>...</td>\n",
       "      <td>...</td>\n",
       "      <td>...</td>\n",
       "    </tr>\n",
       "    <tr>\n",
       "      <th>44684</th>\n",
       "      <td>mcpain John McCain Furious Iran treat US Sailo...</td>\n",
       "      <td>21st Century Wire say 21wire report early week...</td>\n",
       "      <td>Middle-east</td>\n",
       "      <td>January 16, 2016</td>\n",
       "      <td>0</td>\n",
       "      <td>2291</td>\n",
       "      <td>53</td>\n",
       "      <td>321</td>\n",
       "      <td>9</td>\n",
       "      <td>general</td>\n",
       "    </tr>\n",
       "    <tr>\n",
       "      <th>44685</th>\n",
       "      <td>justice Yahoo Settles E mail Privacy Class act...</td>\n",
       "      <td>21st Century Wire say familiar theme whenever ...</td>\n",
       "      <td>Middle-east</td>\n",
       "      <td>January 16, 2016</td>\n",
       "      <td>0</td>\n",
       "      <td>1102</td>\n",
       "      <td>70</td>\n",
       "      <td>173</td>\n",
       "      <td>14</td>\n",
       "      <td>general</td>\n",
       "    </tr>\n",
       "    <tr>\n",
       "      <th>44686</th>\n",
       "      <td>Sunnistan US Allied safe zone plan take Territ...</td>\n",
       "      <td>Patrick Henningsen   21st Century WireRemember...</td>\n",
       "      <td>Middle-east</td>\n",
       "      <td>January 15, 2016</td>\n",
       "      <td>0</td>\n",
       "      <td>16869</td>\n",
       "      <td>72</td>\n",
       "      <td>2402</td>\n",
       "      <td>11</td>\n",
       "      <td>general</td>\n",
       "    </tr>\n",
       "    <tr>\n",
       "      <th>44687</th>\n",
       "      <td>blow $ 700 million Al Jazeera America finally ...</td>\n",
       "      <td>21st Century Wire say Al Jazeera America go hi...</td>\n",
       "      <td>Middle-east</td>\n",
       "      <td>January 14, 2016</td>\n",
       "      <td>0</td>\n",
       "      <td>1858</td>\n",
       "      <td>55</td>\n",
       "      <td>284</td>\n",
       "      <td>10</td>\n",
       "      <td>general</td>\n",
       "    </tr>\n",
       "    <tr>\n",
       "      <th>44688</th>\n",
       "      <td>10 U.S. Navy Sailors hold iranian Military sig...</td>\n",
       "      <td>21st Century Wire say 21wire predict new year ...</td>\n",
       "      <td>Middle-east</td>\n",
       "      <td>January 12, 2016</td>\n",
       "      <td>0</td>\n",
       "      <td>3612</td>\n",
       "      <td>70</td>\n",
       "      <td>529</td>\n",
       "      <td>11</td>\n",
       "      <td>general</td>\n",
       "    </tr>\n",
       "  </tbody>\n",
       "</table>\n",
       "<p>44689 rows × 10 columns</p>\n",
       "</div>"
      ],
      "text/plain": [
       "                                                   title  \\\n",
       "0      U.S. budget fight loom Republicans flip fiscal...   \n",
       "1      U.S. military accept transgender recruit Monda...   \n",
       "2      senior U.S. republican senator let Mr. Mueller...   \n",
       "3      FBI Russia probe help australian diplomat tip NYT   \n",
       "4      trump want Postal Service charge much Amazon s...   \n",
       "...                                                  ...   \n",
       "44684  mcpain John McCain Furious Iran treat US Sailo...   \n",
       "44685  justice Yahoo Settles E mail Privacy Class act...   \n",
       "44686  Sunnistan US Allied safe zone plan take Territ...   \n",
       "44687  blow $ 700 million Al Jazeera America finally ...   \n",
       "44688  10 U.S. Navy Sailors hold iranian Military sig...   \n",
       "\n",
       "                                                    text       subject  \\\n",
       "0      WASHINGTON Reuters head conservative republica...  politicsNews   \n",
       "1      WASHINGTON Reuters Transgender people allow fi...  politicsNews   \n",
       "2      WASHINGTON Reuters special counsel investigati...  politicsNews   \n",
       "3      WASHINGTON Reuters trump campaign adviser Geor...  politicsNews   \n",
       "4      SEATTLE WASHINGTON Reuters President Donald Tr...  politicsNews   \n",
       "...                                                  ...           ...   \n",
       "44684  21st Century Wire say 21wire report early week...   Middle-east   \n",
       "44685  21st Century Wire say familiar theme whenever ...   Middle-east   \n",
       "44686  Patrick Henningsen   21st Century WireRemember...   Middle-east   \n",
       "44687  21st Century Wire say Al Jazeera America go hi...   Middle-east   \n",
       "44688  21st Century Wire say 21wire predict new year ...   Middle-east   \n",
       "\n",
       "                     date  label  text_length  title_length  text_word_count  \\\n",
       "0      December 31, 2017       1         3293            53              469   \n",
       "1      December 29, 2017       1         2930            56              397   \n",
       "2      December 31, 2017       1         1939            50              272   \n",
       "3      December 30, 2017       1         1755            49              241   \n",
       "4      December 29, 2017       1         3632            53              530   \n",
       "...                   ...    ...          ...           ...              ...   \n",
       "44684    January 16, 2016      0         2291            53              321   \n",
       "44685    January 16, 2016      0         1102            70              173   \n",
       "44686    January 15, 2016      0        16869            72             2402   \n",
       "44687    January 14, 2016      0         1858            55              284   \n",
       "44688    January 12, 2016      0         3612            70              529   \n",
       "\n",
       "       title_word_count subject_grouped  \n",
       "0                     8        politics  \n",
       "1                     7        politics  \n",
       "2                     8        politics  \n",
       "3                     8        politics  \n",
       "4                     8        politics  \n",
       "...                 ...             ...  \n",
       "44684                 9         general  \n",
       "44685                14         general  \n",
       "44686                11         general  \n",
       "44687                10         general  \n",
       "44688                11         general  \n",
       "\n",
       "[44689 rows x 10 columns]"
      ]
     },
     "execution_count": 12,
     "metadata": {},
     "output_type": "execute_result"
    }
   ],
   "source": [
    "df"
   ]
  },
  {
   "cell_type": "markdown",
   "metadata": {},
   "source": [
    "## Vectorización"
   ]
  },
  {
   "cell_type": "code",
   "execution_count": 13,
   "metadata": {},
   "outputs": [],
   "source": [
    "from scipy.sparse import csr_matrix, hstack\n",
    "# Eliminar Na\n",
    "df['text'] = df['text'].fillna(\"\")\n",
    "\n",
    "# Vectoriza la columna 'text'\n",
    "vectorizer_text = TfidfVectorizer(max_features=5000)\n",
    "X_text = vectorizer_text.fit_transform(df['text'])\n",
    "\n",
    "# Vectoriza la columna 'title'\n",
    "vectorizer_title = TfidfVectorizer(max_features=1000)\n",
    "X_title = vectorizer_title.fit_transform(df['title'])\n",
    "\n",
    "\n",
    "# Combina las tres fuentes de información en una única matriz de características\n",
    "X = hstack([ X_title, X_text])\n",
    "\n",
    "# Define la variable objetivo; en este ejemplo, se asume que la columna \"label\" es la etiqueta a predecir\n",
    "y = df['label']\n",
    "\n",
    "# Divide los datos en conjuntos de entrenamiento y prueba\n",
    "X_train, X_test, y_train, y_test = train_test_split(X, y, test_size=0.2, random_state=42)"
   ]
  },
  {
   "cell_type": "markdown",
   "metadata": {},
   "source": [
    "## Regresión Logística"
   ]
  },
  {
   "cell_type": "code",
   "execution_count": 14,
   "metadata": {},
   "outputs": [
    {
     "data": {
      "text/plain": [
       "(array([[4609,   39],\n",
       "        [  40, 4250]]),\n",
       " '              precision    recall  f1-score   support\\n\\n           0       0.99      0.99      0.99      4648\\n           1       0.99      0.99      0.99      4290\\n\\n    accuracy                           0.99      8938\\n   macro avg       0.99      0.99      0.99      8938\\nweighted avg       0.99      0.99      0.99      8938\\n')"
      ]
     },
     "execution_count": 14,
     "metadata": {},
     "output_type": "execute_result"
    }
   ],
   "source": [
    "\n",
    "# Entrenar el modelo de Regresión Logística\n",
    "logreg_model = LogisticRegression(max_iter=500, solver='liblinear')  # Solver optimizado para datos grandes\n",
    "logreg_model.fit(X_train, y_train)\n",
    "\n",
    "# Predicciones en el conjunto de prueba\n",
    "y_pred_logreg = logreg_model.predict(X_test)\n",
    "\n",
    "# Evaluar el modelo\n",
    "conf_matrix_logreg = confusion_matrix(y_test, y_pred_logreg)\n",
    "class_report_logreg = classification_report(y_test, y_pred_logreg)\n",
    "\n",
    "# Mostrar los resultados\n",
    "conf_matrix_logreg, class_report_logreg"
   ]
  },
  {
   "cell_type": "markdown",
   "metadata": {},
   "source": [
    "El modelo indica unos valores muy altos.\n",
    "- Precisión= 0,99, lo que quiere decir un 99% de precisión \n",
    "- f1-score y Recall= Respectivamente estos indicadores muestran que tan bien el modelo encuentra todos los casos de una clase y el balance entre precisión y recall, en nuestro caso un 0,99"
   ]
  },
  {
   "cell_type": "markdown",
   "metadata": {},
   "source": [
    "Los valores son bastante similares que cuando se realiza con subject transformada, aunque se equivoca un poco más con subject ( 2 valores más)"
   ]
  },
  {
   "cell_type": "code",
   "execution_count": 15,
   "metadata": {},
   "outputs": [
    {
     "data": {
      "image/png": "[encoded data removed]",
      "text/plain": [
       "<Figure size 600x500 with 2 Axes>"
      ]
     },
     "metadata": {},
     "output_type": "display_data"
    }
   ],
   "source": [
    "# Definir valores de la matriz de confusión\n",
    "cm = np.array([[4648, 39],\n",
    "               [40, 4290]])\n",
    "\n",
    "# Etiquetas de las clases\n",
    "labels = ['Fake', 'True']\n",
    "\n",
    "# Graficar la matriz de confusión\n",
    "plt.figure(figsize=(6, 5))\n",
    "sns.heatmap(cm, annot=True, fmt='d', cmap='Blues', xticklabels=labels, yticklabels=labels)\n",
    "plt.xlabel('Predicción')\n",
    "plt.ylabel('Real')\n",
    "plt.title('Matriz de Confusión de la regresión logística')\n",
    "plt.show();\n"
   ]
  },
  {
   "cell_type": "code",
   "execution_count": 16,
   "metadata": {},
   "outputs": [
    {
     "data": {
      "text/plain": [
       "(0.04418629696433559, 0.05169353377129033)"
      ]
     },
     "execution_count": 16,
     "metadata": {},
     "output_type": "execute_result"
    }
   ],
   "source": [
    "from sklearn.metrics import accuracy_score, log_loss, confusion_matrix, classification_report\n",
    "\n",
    "# 5. Evaluación del modelo\n",
    "# Predicciones\n",
    "y_train_pred_proba = logreg_model.predict_proba(X_train)[:, 1]  # Probabilidad de la clase 1 en entrenamiento\n",
    "y_test_pred_proba = logreg_model.predict_proba(X_test)[:, 1]    # Probabilidad de la clase 1 en prueba\n",
    "y_test_pred = logreg_model.predict(X_test)\n",
    "\n",
    "# Cálculo de log loss\n",
    "log_loss_train = log_loss(y_train, y_train_pred_proba)\n",
    "log_loss_test = log_loss(y_test, y_test_pred_proba)\n",
    "\n",
    "log_loss_train, log_loss_test"
   ]
  },
  {
   "cell_type": "markdown",
   "metadata": {},
   "source": [
    "Los valores de log loss más bajos indican un mejor desempeño del modelo en términos de predicción de probabilidad\n",
    "- los resultados comparado con subject y sin subject son similares pero son mejores en términos d epredicción el segundo modelo."
   ]
  },
  {
   "cell_type": "code",
   "execution_count": 17,
   "metadata": {},
   "outputs": [
    {
     "name": "stdout",
     "output_type": "stream",
     "text": [
      "Scores por cada fold: [0.98925934 0.98657418 0.98142761 0.98142761 0.98713215]\n",
      "Precisión promedio: 0.9852\n",
      "Desviación estándar: 0.0032\n"
     ]
    }
   ],
   "source": [
    "from sklearn.model_selection import cross_val_score\n",
    "from sklearn.linear_model import LogisticRegression\n",
    "\n",
    "# Aplicar Validación Cruzada (Usando 5 folds)\n",
    "cv_scores = cross_val_score(logreg_model, X, y, cv=5, scoring='accuracy')\n",
    "\n",
    "# Mostrar resultados\n",
    "print(f\"Scores por cada fold: {cv_scores}\")\n",
    "print(f\"Precisión promedio: {cv_scores.mean():.4f}\")\n",
    "print(f\"Desviación estándar: {cv_scores.std():.4f}\")\n"
   ]
  },
  {
   "cell_type": "markdown",
   "metadata": {},
   "source": [
    "El modelo sin \"subject\" tiene una mayor precisión promedio (0.9852 vs. 0.9817), lo que sugiere que generaliza mejor en promedio.\n",
    "También tiene una desviación estándar más baja (0.0033 vs. 0.0035), lo que indica que es un poco más estable en diferentes folds de validación cruzada.\n"
   ]
  },
  {
   "cell_type": "markdown",
   "metadata": {},
   "source": [
    "## XG-Boost"
   ]
  },
  {
   "cell_type": "code",
   "execution_count": 18,
   "metadata": {},
   "outputs": [
    {
     "data": {
      "text/plain": [
       "(array([[4640,    8],\n",
       "        [  11, 4279]]),\n",
       " '              precision    recall  f1-score   support\\n\\n           0     0.9976    0.9983    0.9980      4648\\n           1     0.9981    0.9974    0.9978      4290\\n\\n    accuracy                         0.9979      8938\\n   macro avg     0.9979    0.9979    0.9979      8938\\nweighted avg     0.9979    0.9979    0.9979      8938\\n')"
      ]
     },
     "execution_count": 18,
     "metadata": {},
     "output_type": "execute_result"
    }
   ],
   "source": [
    "from xgboost import XGBClassifier\n",
    "\n",
    "xgb_model = XGBClassifier(\n",
    "    eval_metric='logloss',   # Métrica de evaluación\n",
    "    \n",
    "    max_depth=6,             # Controla la complejidad del modelo\n",
    "    learning_rate=0.1,       # Tasa de aprendizaje equilibrada\n",
    "    n_estimators=300,        # Aumenta el número de árboles para mejorar el ajuste\n",
    "    subsample=0.8,           # Reduce overfitting usando solo el 80% de los datos por árbol\n",
    "    colsample_bytree=0.8,    # Usa el 80% de las características en cada árbol\n",
    "    gamma=0.1,               # Ayuda a la regularización\n",
    "    reg_lambda=1,            # Regularización L2 para evitar overfitting\n",
    "    reg_alpha=0.1            # Regularización L1\n",
    ")\n",
    "\n",
    "# Entrenar el modelo\n",
    "xgb_model.fit(X_train, y_train)\n",
    "\n",
    "# Predicciones\n",
    "y_pred_xgb = xgb_model.predict(X_test)\n",
    "\n",
    "# Evaluar el modelo\n",
    "conf_matrix = confusion_matrix(y_test, y_pred_xgb)\n",
    "class_report = classification_report(y_test, y_pred_xgb, digits=4)\n",
    "\n",
    "# Mostrar los resultados\n",
    "conf_matrix, class_report\n"
   ]
  },
  {
   "cell_type": "markdown",
   "metadata": {},
   "source": [
    "###  Interpretación \n",
    "\n",
    "- El modelo tiene un rendimiento excepcionalmente alto con un accuracy del 99.80%, lo que significa que casi todas las predicciones son correctas.\n",
    "- Muy pocas predicciones erróneas: Solo 18 de 8938 casos fueron clasificados incorrectamente (8 falsos positivos y 10 falsos negativos).\n",
    "- Equilibrio entre precisión y recall:\n",
    "La precisión (qué tan confiables son las predicciones positivas) es 99.81% en la clase 1.\n",
    "El recall (qué tan bien detecta los positivos reales) es 99.77% en la clase 1.\n",
    "Valores similares en ambas clases indican que el modelo no tiene sesgo significativo hacia una clase."
   ]
  },
  {
   "cell_type": "markdown",
   "metadata": {},
   "source": [
    "### Comparación con subject \n",
    "Los resultados de XGBoost con y sin \"subject\" son idénticos en términos de matriz de confusión y métricas de clasificación:\n",
    "\n",
    "Precisión, recall, f1-score, accuracy: 0.9980 en ambos casos\n",
    "Matriz de confusión: Exactamente igual\n",
    "Macro avg y weighted avg: También idénticos\n"
   ]
  },
  {
   "cell_type": "code",
   "execution_count": 19,
   "metadata": {},
   "outputs": [
    {
     "data": {
      "image/png": "[encoded data removed]",
      "text/plain": [
       "<Figure size 600x500 with 2 Axes>"
      ]
     },
     "metadata": {},
     "output_type": "display_data"
    }
   ],
   "source": [
    "# Definir valores de la matriz de confusión\n",
    "cm = np.array([[4640, 8],\n",
    "               [10, 4280]])\n",
    "\n",
    "# Etiquetas de las clases\n",
    "labels = ['Fake', 'True']\n",
    "\n",
    "# Graficar la matriz de confusión\n",
    "plt.figure(figsize=(6, 5))\n",
    "sns.heatmap(cm, annot=True, fmt='d', cmap='Blues', xticklabels=labels, yticklabels=labels)\n",
    "plt.xlabel('Predicción')\n",
    "plt.ylabel('Real')\n",
    "plt.title('Matriz de Confusión de la regresión logística')\n",
    "plt.show();\n"
   ]
  },
  {
   "cell_type": "markdown",
   "metadata": {},
   "source": [
    "- 4640 noticias fueron correctamente clasificados como falsas.\n",
    "- 4280 noticias  fueron correctamente clasificados como verdaderas.\n",
    "- 8 noticias fueron incorrectamente clasificados como verdaderas(falsos positivos, eran falsas y clasificaron como verdaderas).\n",
    "- 10 noticias fueron incorrectamente clasificados como clase 0 (falsos negativos, eran verdaderas y clasificaron como falsas)."
   ]
  },
  {
   "cell_type": "code",
   "execution_count": 20,
   "metadata": {},
   "outputs": [
    {
     "data": {
      "text/plain": [
       "(0.0004380706018875895, 0.00876371694136463)"
      ]
     },
     "execution_count": 20,
     "metadata": {},
     "output_type": "execute_result"
    }
   ],
   "source": [
    "# Calcular las probabilidades predichas para calcular log loss\n",
    "y_train_pred_probaxgb = xgb_model.predict_proba(X_train)[:, 1]  # Probabilidad de la clase 1 en entrenamiento\n",
    "y_test_pred_probaxgb = xgb_model.predict_proba(X_test)[:, 1]    # Probabilidad de la clase 1 en prueba\n",
    "\n",
    "# Calcular log loss en entrenamiento y prueba\n",
    "log_loss_train = log_loss(y_train, y_train_pred_probaxgb)\n",
    "log_loss_test = log_loss(y_test, y_test_pred_probaxgb)\n",
    "\n",
    "# Mostrar los resultados\n",
    "log_loss_train, log_loss_test\n"
   ]
  },
  {
   "cell_type": "markdown",
   "metadata": {},
   "source": [
    "El log loss en entrenamiento es extremadamente bajo (0.0006), lo que indica que el modelo memoriza muy bien los datos de entrenamiento.\n",
    "El log loss en prueba es un poco mayor (0.0104), pero sigue siendo muy bajo.\n",
    "La diferencia entre ambos (0.0098) es pequeña, lo que sugiere que no hay un overfitting grave.\n",
    "El modelo generaliza bien, ya que la diferencia entre entrenamiento y prueba no es demasiado grande."
   ]
  },
  {
   "cell_type": "markdown",
   "metadata": {},
   "source": [
    "### Comparación con subject\n",
    "El modelo con \"subject\" tiene valores de log loss ligeramente más bajos, lo que sugiere que hace predicciones de probabilidad un poco más confiables.\n",
    "La diferencia es mínima y probablemente no tenga un impacto significativo en la práctica."
   ]
  },
  {
   "cell_type": "code",
   "execution_count": 21,
   "metadata": {},
   "outputs": [
    {
     "name": "stdout",
     "output_type": "stream",
     "text": [
      "Precisión promedio: 0.9965\n",
      "Desviación estándar: 0.0016\n"
     ]
    }
   ],
   "source": [
    "# Ejecutar validación cruzada\n",
    "cv_scores = cross_val_score(xgb_model, X, y, cv=5, scoring='accuracy')\n",
    "\n",
    "# Mostrar los resultados\n",
    "print(f\"Precisión promedio: {cv_scores.mean():.4f}\")\n",
    "print(f\"Desviación estándar: {cv_scores.std():.4f}\")"
   ]
  },
  {
   "cell_type": "markdown",
   "metadata": {},
   "source": [
    "1. Precisión promedio: 0.9965 (99.65%)\n",
    "\n",
    "    Esto significa que, en promedio, el modelo clasifica correctamente el 99.65% de los casos en los distintos folds de validación cruzada.\n",
    "    Un valor cercano al 100% indica un modelo altamente preciso, con muy pocas clasificaciones erróneas.\n",
    "    Este nivel de precisión sugiere que el modelo generaliza bien a datos nuevos.\n",
    "\n",
    "2. Desviación estándar: 0.0016 (0.16%)\n",
    "    La desviación estándar mide qué tanto varía la precisión entre diferentes pruebas (folds) de validación cruzada.\n",
    "    Un valor bajo (0.0016) indica que el modelo tiene rendimiento muy estable, sin grandes fluctuaciones en la precisión entre distintas particiones de los datos.\n",
    "    Esto significa que el modelo no depende demasiado de una partición específica del dataset, lo que es una señal de buena generalización y baja varianza.\n"
   ]
  },
  {
   "cell_type": "markdown",
   "metadata": {},
   "source": [
    "### Comparación con Subject\n",
    "El modelo sin \"subject\" tiene una precisión promedio más alta (0.9965 vs. 0.9817), lo que indica que es significativamente mejor en términos de clasificación.\n",
    "También tiene una desviación estándar más baja (0.0016 vs. 0.0035), lo que significa que su rendimiento es más estable en diferentes particiones de los datos.\n",
    "El modelo con \"subject\" tiene un rendimiento inferior y más variable, lo que sugiere que la inclusión de esta característica no aporta valor al modelo y podría introducir ruido.\n",
    "Conclusión"
   ]
  },
  {
   "cell_type": "markdown",
   "metadata": {},
   "source": [
    "## Gradient boosting"
   ]
  },
  {
   "cell_type": "code",
   "execution_count": 22,
   "metadata": {},
   "outputs": [
    {
     "data": {
      "text/plain": [
       "(array([[4623,   25],\n",
       "        [  16, 4274]]),\n",
       " '              precision    recall  f1-score   support\\n\\n           0       1.00      0.99      1.00      4648\\n           1       0.99      1.00      1.00      4290\\n\\n    accuracy                           1.00      8938\\n   macro avg       1.00      1.00      1.00      8938\\nweighted avg       1.00      1.00      1.00      8938\\n')"
      ]
     },
     "execution_count": 22,
     "metadata": {},
     "output_type": "execute_result"
    }
   ],
   "source": [
    "from sklearn.ensemble import GradientBoostingClassifier\n",
    "\n",
    "# Entrenar el modelo Gradient Boosting\n",
    "gb_model = GradientBoostingClassifier(n_estimators=100, learning_rate=0.1, max_depth=3, random_state=42)\n",
    "gb_model.fit(X_train, y_train)\n",
    "\n",
    "# Predicciones\n",
    "y_pred_gb = gb_model.predict(X_test)\n",
    "\n",
    "# Evaluar el modelo\n",
    "conf_matrix_gb = confusion_matrix(y_test, y_pred_gb)\n",
    "class_report_gb = classification_report(y_test, y_pred_gb)\n",
    "\n",
    "# Mostrar los resultados\n",
    "conf_matrix_gb, class_report_gb"
   ]
  },
  {
   "cell_type": "code",
   "execution_count": 23,
   "metadata": {},
   "outputs": [
    {
     "data": {
      "image/png": "[encoded data removed]",
      "text/plain": [
       "<Figure size 600x500 with 2 Axes>"
      ]
     },
     "metadata": {},
     "output_type": "display_data"
    }
   ],
   "source": [
    "import matplotlib.pyplot as plt\n",
    "import seaborn as sns\n",
    "\n",
    "# Graficar la matriz de confusión para Gradient Boosting\n",
    "plt.figure(figsize=(6, 5))\n",
    "sns.heatmap([[4621, 27], [13, 4277]], annot=True, fmt='d', cmap='Blues', xticklabels=['Fake', 'True'], yticklabels=['Fake', 'True'])\n",
    "plt.xlabel('Predicción')\n",
    "plt.ylabel('Real')\n",
    "plt.title('Matriz de Confusión - Gradient Boosting')\n",
    "plt.show()\n"
   ]
  },
  {
   "cell_type": "markdown",
   "metadata": {},
   "source": [
    "### Diferencias con subject\n",
    "- Parece que sin subject parece que realiza menos falsos negativos, por lo que detecta mejor las noticias verdaderas(13 vs 17), a la inversa si se incluye subject(25 vs 27). Las diferencias son minimas."
   ]
  },
  {
   "cell_type": "markdown",
   "metadata": {},
   "source": [
    "## NP-Bayes"
   ]
  },
  {
   "cell_type": "code",
   "execution_count": 24,
   "metadata": {},
   "outputs": [
    {
     "name": "stdout",
     "output_type": "stream",
     "text": [
      "[[4456  192]\n",
      " [ 249 4041]]\n",
      "              precision    recall  f1-score   support\n",
      "\n",
      "           0       0.95      0.96      0.95      4648\n",
      "           1       0.95      0.94      0.95      4290\n",
      "\n",
      "    accuracy                           0.95      8938\n",
      "   macro avg       0.95      0.95      0.95      8938\n",
      "weighted avg       0.95      0.95      0.95      8938\n",
      "\n"
     ]
    }
   ],
   "source": [
    "from sklearn.naive_bayes import MultinomialNB\n",
    "# Entrenamiento\n",
    "model = MultinomialNB()\n",
    "model.fit(X_train, y_train)\n",
    "\n",
    "# Predicciones\n",
    "y_pred = model.predict(X_test)\n",
    "\n",
    "# Evaluación\n",
    "print(confusion_matrix(y_test, y_pred))\n",
    "print(classification_report(y_test, y_pred))\n"
   ]
  },
  {
   "cell_type": "markdown",
   "metadata": {},
   "source": [
    "- 4455 ejemplos fueron correctamente clasificados como negativos (clase 0).\n",
    "- 4041 ejemplos fueron correctamente clasificados como positivos (clase 1).\n",
    "- 193 ejemplos fueron erróneamente clasificados como positivos cuando eran negativos (falsos positivos).\n",
    "- 249 ejemplos fueron erróneamente clasificados como negativos cuando eran positivos (falsos negativos)."
   ]
  },
  {
   "cell_type": "code",
   "execution_count": 25,
   "metadata": {},
   "outputs": [
    {
     "data": {
      "image/png": "[encoded data removed]",
      "text/plain": [
       "<Figure size 600x500 with 2 Axes>"
      ]
     },
     "metadata": {},
     "output_type": "display_data"
    }
   ],
   "source": [
    "import matplotlib.pyplot as plt\n",
    "import seaborn as sns\n",
    "import numpy as np\n",
    "from sklearn.metrics import confusion_matrix\n",
    "\n",
    "# Definir valores de la matriz de confusión\n",
    "cm = np.array([[4455, 193],\n",
    "               [249, 4041]])\n",
    "\n",
    "# Etiquetas de las clases\n",
    "labels = ['Fake', 'True']\n",
    "\n",
    "# Graficar la matriz de confusión\n",
    "plt.figure(figsize=(6, 5))\n",
    "sns.heatmap(cm, annot=True, fmt='d', cmap='Blues', xticklabels=labels, yticklabels=labels)\n",
    "plt.xlabel('Predicción')\n",
    "plt.ylabel('Real')\n",
    "plt.title('Matriz de Confusión')\n",
    "plt.show();\n"
   ]
  },
  {
   "cell_type": "markdown",
   "metadata": {},
   "source": [
    "### Comparación con Subject"
   ]
  },
  {
   "cell_type": "markdown",
   "metadata": {},
   "source": [
    "- Ambos modelos tienen la misma precisión (95%), recall (95%) y f1-score (95%).\n",
    "- La diferencia en la matriz de confusión es mínima:\n",
    "- El modelo sin \"subject\" tiene 1 menos falso negativo (249 vs. 250).\n",
    "- El modelo con \"subject\" tiene 2 menos falsos positivos (191 vs. 193).\n"
   ]
  },
  {
   "cell_type": "markdown",
   "metadata": {},
   "source": [
    "# Random Forest\n"
   ]
  },
  {
   "cell_type": "code",
   "execution_count": 26,
   "metadata": {},
   "outputs": [
    {
     "data": {
      "text/plain": [
       "(array([[4644,    4],\n",
       "        [   9, 4281]]),\n",
       " '              precision    recall  f1-score   support\\n\\n           0       1.00      1.00      1.00      4648\\n           1       1.00      1.00      1.00      4290\\n\\n    accuracy                           1.00      8938\\n   macro avg       1.00      1.00      1.00      8938\\nweighted avg       1.00      1.00      1.00      8938\\n')"
      ]
     },
     "execution_count": 26,
     "metadata": {},
     "output_type": "execute_result"
    }
   ],
   "source": [
    "from sklearn.ensemble import RandomForestClassifier\n",
    "\n",
    "# Entrenar el modelo Random Forest\n",
    "rf_model = RandomForestClassifier(n_estimators=100, max_depth=None, random_state=42)\n",
    "rf_model.fit(X_train, y_train)\n",
    "\n",
    "# Predicciones en el conjunto de prueba\n",
    "y_pred_rf = rf_model.predict(X_test)\n",
    "\n",
    "# Evaluar el modelo\n",
    "conf_matrix_rf = confusion_matrix(y_test, y_pred_rf)\n",
    "class_report_rf = classification_report(y_test, y_pred_rf)\n",
    "\n",
    "# Mostrar los resultados\n",
    "conf_matrix_rf, class_report_rf\n"
   ]
  },
  {
   "cell_type": "markdown",
   "metadata": {},
   "source": [
    "- Precisión: El modelo predice con 100% de exactitud en ambas clases.\n",
    "- Recall: Detecta correctamente casi todos los casos positivos y negativos.\n",
    "- F1-score: Indica un equilibrio perfecto entre precisión y recall.\n",
    "- Accuracy: 100% de las predicciones fueron correctas.\n"
   ]
  },
  {
   "cell_type": "code",
   "execution_count": 27,
   "metadata": {},
   "outputs": [
    {
     "data": {
      "image/png": "[encoded data removed]",
      "text/plain": [
       "<Figure size 600x500 with 2 Axes>"
      ]
     },
     "metadata": {},
     "output_type": "display_data"
    }
   ],
   "source": [
    "# Definir valores de la matriz de confusión\n",
    "cm = np.array([[4644, 4],\n",
    "               [13, 4277]])\n",
    "\n",
    "# Etiquetas de las clases\n",
    "labels = ['Fake', 'True']\n",
    "\n",
    "# Graficar la matriz de confusión\n",
    "plt.figure(figsize=(6, 5))\n",
    "sns.heatmap(cm, annot=True, fmt='d', cmap='Blues', xticklabels=labels, yticklabels=labels)\n",
    "plt.xlabel('Predicción')\n",
    "plt.ylabel('Real')\n",
    "plt.title('Matriz de Confusión Random Forest')\n",
    "plt.show();\n"
   ]
  },
  {
   "cell_type": "markdown",
   "metadata": {},
   "source": [
    "- 4644 noticias fueron correctamente clasificados como negativos (noticias falsas).\n",
    "- 4277 noticias fueron correctamente clasificados como positivos (noticias verdaderas).\n",
    "- 4 noticias fueron erróneamente clasificados como verdaderas cuando eran falsas (falsos positivos).\n",
    "- 13 ejemplos fueron erróneamente clasificados como falsas cuando eran verdaderas (falsos negativos).\n"
   ]
  },
  {
   "cell_type": "markdown",
   "metadata": {},
   "source": [
    "### comparacion con subject"
   ]
  },
  {
   "cell_type": "markdown",
   "metadata": {},
   "source": [
    "- Los resultados practicamente iguales, la unica diferencia es que al incluir subject sube los falsos negativps de 13 a 16. \n",
    "- Los falsos positivos son idénticos\n",
    "- Ambos muestran un accuracy de 1"
   ]
  },
  {
   "cell_type": "markdown",
   "metadata": {},
   "source": [
    "## Comparación de modelos"
   ]
  },
  {
   "cell_type": "code",
   "execution_count": 28,
   "metadata": {},
   "outputs": [
    {
     "data": {
      "image/png": "[encoded data removed]",
      "text/plain": [
       "<Figure size 1000x600 with 1 Axes>"
      ]
     },
     "metadata": {},
     "output_type": "display_data"
    }
   ],
   "source": [
    "from sklearn.metrics import accuracy_score, f1_score, roc_auc_score\n",
    "# 📊 Evaluar cada modelo\n",
    "def evaluar_modelo(modelo, nombre):\n",
    "    y_pred = modelo.predict(X_test)\n",
    "    y_prob = modelo.predict_proba(X_test)[:, 1] if hasattr(modelo, \"predict_proba\") else None\n",
    "\n",
    "    acc = accuracy_score(y_test, y_pred)\n",
    "    f1 = f1_score(y_test, y_pred)\n",
    "    auc = roc_auc_score(y_test, y_prob) if y_prob is not None else np.nan\n",
    "    \n",
    "    return [acc, f1, auc]\n",
    "\n",
    "# Guardar resultados en un diccionario\n",
    "resultados = {\n",
    "    \"Regresión Logística\": evaluar_modelo(logreg_model, \"Regresión Logística\"),\n",
    "    \"Random Forest\": evaluar_modelo(rf_model, \"Random Forest\"),\n",
    "    \"XGBoost\": evaluar_modelo(xgb_model, \"XGBoost\"),\n",
    "  \n",
    "    \"Nape Bayes\":evaluar_modelo (model,\"NPB\")\n",
    "}\n",
    "\n",
    "# 📊 Graficar resultados\n",
    "metricas = [\"Accuracy\", \"F1-Score\", \"ROC-AUC\"]\n",
    "valores = np.array(list(resultados.values()))\n",
    "\n",
    "fig, ax = plt.subplots(figsize=(10, 6))\n",
    "bar_width = 0.25\n",
    "indices = np.arange(len(resultados))\n",
    "\n",
    "# Crear barras para cada métrica\n",
    "for i, metric in enumerate(metricas):\n",
    "    ax.bar(indices + i * bar_width, valores[:, i], width=bar_width, label=metric)\n",
    "\n",
    "# Etiquetas y formato\n",
    "ax.set_xticks(indices + bar_width)\n",
    "ax.set_xticklabels(resultados.keys(), rotation=25)\n",
    "ax.set_ylabel(\"Puntuación\")\n",
    "ax.set_title(\"Comparación de Modelos\")\n",
    "ax.legend()\n",
    "\n",
    "# Mostrar gráfico\n",
    "plt.show()"
   ]
  },
  {
   "cell_type": "markdown",
   "metadata": {},
   "source": [
    "### Conclusión Respecto subject \n",
    "aunque en lo sgráficos de importancia relativa que hay en el notebook de subject indica que tiene cierta importancia, la importancia es baja, sin embargo la incluire ya que no afecta negativamente y en algunos casos hay una pequeña mejora.\n"
   ]
  },
  {
   "cell_type": "code",
   "execution_count": null,
   "metadata": {},
   "outputs": [],
   "source": [
    "xx"
   ]
  },
  {
   "cell_type": "code",
   "execution_count": 36,
   "metadata": {},
   "outputs": [],
   "source": [
    "import numpy as np\n",
    "import pandas as pd\n",
    "from sklearn.model_selection import cross_val_score, KFold\n",
    "from sklearn.linear_model import LogisticRegression\n",
    "from sklearn.metrics import accuracy_score, precision_score, recall_score, f1_score, roc_auc_score\n",
    "import matplotlib.pyplot as plt\n"
   ]
  },
  {
   "cell_type": "code",
   "execution_count": 45,
   "metadata": {},
   "outputs": [],
   "source": [
    "scoring = {\n",
    "    \"accuracy\": \"accuracy\",\n",
    "    \"f1\": \"f1\",\n",
    "    \"precision\": \"precision\",\n",
    "    \"recall\": \"recall\",\n",
    "    \"roc_auc\": \"roc_auc\"\n",
    "}\n"
   ]
  },
  {
   "cell_type": "code",
   "execution_count": 46,
   "metadata": {},
   "outputs": [
    {
     "name": "stdout",
     "output_type": "stream",
     "text": [
      "Modelo logistic Regresion evaluado\n",
      "Modelo Random forest evaluado\n",
      "Modelo XGBoost evaluado\n",
      "Modelo Gradient Boosting evaluado\n",
      "Modelo Nape Bayes evaluado\n"
     ]
    }
   ],
   "source": [
    "# Importaciones necesarias\n",
    "from sklearn.model_selection import cross_validate\n",
    "import numpy as np\n",
    "import pandas as pd\n",
    "from joblib import Parallel, delayed\n",
    "\n",
    "# Opción 1: Usar cross_validate en lugar de cross_val_score\n",
    "# cross_validate es más eficiente porque calcula todas las métricas en una sola pasada\n",
    "def evaluate_models_efficiently(models, X, y, kf, scoring):\n",
    "    results = []\n",
    "    for name, model in models.items():\n",
    "        # Calcula todas las métricas de una vez\n",
    "        cv_results = cross_validate(model, X, y, cv=kf, scoring=scoring)\n",
    "        \n",
    "        # Calcula promedios para cada métrica\n",
    "        scores = {metric: np.mean(cv_results[f'test_{metric}']) for metric in scoring}\n",
    "        scores[\"Model\"] = name\n",
    "        results.append(scores)\n",
    "        print(f\"Modelo {name} evaluado\")\n",
    "    \n",
    "    return pd.DataFrame(results)\n",
    "\n",
    "# Opción 2: Procesamiento paralelo\n",
    "def evaluate_model(name, model, X, y, kf, scoring):\n",
    "    scores = {metric: cross_val_score(model, X_final, y, cv=kf, scoring=scoring[metric]).mean() for metric in scoring}\n",
    "    scores[\"Model\"] = name\n",
    "    print(f\"Modelo {name} evaluado\")\n",
    "    return scores\n",
    "\n",
    "def evaluate_models_parallel(models, X, y, kf, scoring, n_jobs=-1):\n",
    "    results = Parallel(n_jobs=n_jobs)(\n",
    "        delayed(evaluate_model)(name, model, X, y, kf, scoring) \n",
    "        for name, model in models.items()\n",
    "    )\n",
    "    return pd.DataFrame(results)\n",
    "\n",
    "# Usar una de las dos opciones:\n",
    "# Opción 1\n",
    "results_df = evaluate_models_efficiently(models, X, y, kf, scoring)\n",
    "\n",
    "# O Opción 2 (paralela)\n",
    "# results_df = evaluate_models_parallel(models, X, y, kf, scoring, n_jobs=4)  # Ajusta n_jobs según tus CPU cores\n"
   ]
  },
  {
   "cell_type": "code",
   "execution_count": 47,
   "metadata": {},
   "outputs": [
    {
     "data": {
      "text/html": [
       "<div>\n",
       "<style scoped>\n",
       "    .dataframe tbody tr th:only-of-type {\n",
       "        vertical-align: middle;\n",
       "    }\n",
       "\n",
       "    .dataframe tbody tr th {\n",
       "        vertical-align: top;\n",
       "    }\n",
       "\n",
       "    .dataframe thead th {\n",
       "        text-align: right;\n",
       "    }\n",
       "</style>\n",
       "<table border=\"1\" class=\"dataframe\">\n",
       "  <thead>\n",
       "    <tr style=\"text-align: right;\">\n",
       "      <th></th>\n",
       "      <th>accuracy</th>\n",
       "      <th>f1</th>\n",
       "      <th>precision</th>\n",
       "      <th>recall</th>\n",
       "      <th>roc_auc</th>\n",
       "    </tr>\n",
       "    <tr>\n",
       "      <th>Model</th>\n",
       "      <th></th>\n",
       "      <th></th>\n",
       "      <th></th>\n",
       "      <th></th>\n",
       "      <th></th>\n",
       "    </tr>\n",
       "  </thead>\n",
       "  <tbody>\n",
       "    <tr>\n",
       "      <th>logistic Regresion</th>\n",
       "      <td>0.992414</td>\n",
       "      <td>0.992019</td>\n",
       "      <td>0.990730</td>\n",
       "      <td>0.993314</td>\n",
       "      <td>0.999515</td>\n",
       "    </tr>\n",
       "    <tr>\n",
       "      <th>Random forest</th>\n",
       "      <td>0.998076</td>\n",
       "      <td>0.997972</td>\n",
       "      <td>0.997875</td>\n",
       "      <td>0.998069</td>\n",
       "      <td>0.999948</td>\n",
       "    </tr>\n",
       "    <tr>\n",
       "      <th>XGBoost</th>\n",
       "      <td>0.997919</td>\n",
       "      <td>0.997808</td>\n",
       "      <td>0.997360</td>\n",
       "      <td>0.998257</td>\n",
       "      <td>0.999948</td>\n",
       "    </tr>\n",
       "    <tr>\n",
       "      <th>Gradient Boosting</th>\n",
       "      <td>0.995860</td>\n",
       "      <td>0.995648</td>\n",
       "      <td>0.993660</td>\n",
       "      <td>0.997646</td>\n",
       "      <td>0.999084</td>\n",
       "    </tr>\n",
       "    <tr>\n",
       "      <th>Nape Bayes</th>\n",
       "      <td>0.948824</td>\n",
       "      <td>0.945666</td>\n",
       "      <td>0.953306</td>\n",
       "      <td>0.938157</td>\n",
       "      <td>0.988990</td>\n",
       "    </tr>\n",
       "  </tbody>\n",
       "</table>\n",
       "</div>"
      ],
      "text/plain": [
       "                    accuracy        f1  precision    recall   roc_auc\n",
       "Model                                                                \n",
       "logistic Regresion  0.992414  0.992019   0.990730  0.993314  0.999515\n",
       "Random forest       0.998076  0.997972   0.997875  0.998069  0.999948\n",
       "XGBoost             0.997919  0.997808   0.997360  0.998257  0.999948\n",
       "Gradient Boosting   0.995860  0.995648   0.993660  0.997646  0.999084\n",
       "Nape Bayes          0.948824  0.945666   0.953306  0.938157  0.988990"
      ]
     },
     "execution_count": 47,
     "metadata": {},
     "output_type": "execute_result"
    }
   ],
   "source": [
    "results_df.set_index('Model')"
   ]
  }
 ],
 "metadata": {
  "kernelspec": {
   "display_name": ".venv",
   "language": "python",
   "name": "python3"
  },
  "language_info": {
   "codemirror_mode": {
    "name": "ipython",
    "version": 3
   },
   "file_extension": ".py",
   "mimetype": "text/x-python",
   "name": "python",
   "nbconvert_exporter": "python",
   "pygments_lexer": "ipython3",
   "version": "3.11.7"
  }
 },
 "nbformat": 4,
 "nbformat_minor": 2
}
